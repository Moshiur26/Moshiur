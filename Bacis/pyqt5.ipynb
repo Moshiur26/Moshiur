{
 "cells": [
  {
   "cell_type": "code",
   "execution_count": null,
   "metadata": {},
   "outputs": [],
   "source": []
  },
  {
   "cell_type": "code",
   "execution_count": null,
   "metadata": {},
   "outputs": [],
   "source": [
    "def clearLayout(self, layout):\n",
    "    for i in reversed(range(layout.count())):\n",
    "        item = layout.itemAt(i)\n",
    "\n",
    "        if isinstance(item, QtWidgets.QWidgetItem):\n",
    "            print (\"widget\" + str(item))\n",
    "            item.widget().close()\n",
    "            # or\n",
    "            # item.widget().setParent(None)\n",
    "        elif isinstance(item, QtWidgets.QSpacerItem):\n",
    "            print (\"spacer \" + str(item))\n",
    "            # no need to do extra stuff\n",
    "        else:\n",
    "            print (\"layout \" + str(item))\n",
    "            self.clearLayout(item.layout())\n",
    "\n",
    "        # remove the item from layout\n",
    "        print ('item' + str(item))\n",
    "        layout.removeItem(item)"
   ]
  }
 ],
 "metadata": {
  "kernelspec": {
   "display_name": "tf",
   "language": "python",
   "name": "tf"
  },
  "language_info": {
   "codemirror_mode": {
    "name": "ipython",
    "version": 3
   },
   "file_extension": ".py",
   "mimetype": "text/x-python",
   "name": "python",
   "nbconvert_exporter": "python",
   "pygments_lexer": "ipython3",
   "version": "3.6.6"
  }
 },
 "nbformat": 4,
 "nbformat_minor": 2
}
