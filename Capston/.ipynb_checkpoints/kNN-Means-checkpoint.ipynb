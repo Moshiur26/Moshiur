{
 "cells": [
  {
   "cell_type": "code",
   "execution_count": 2,
   "metadata": {},
   "outputs": [
    {
     "data": {
      "text/html": [
       "<div>\n",
       "<style scoped>\n",
       "    .dataframe tbody tr th:only-of-type {\n",
       "        vertical-align: middle;\n",
       "    }\n",
       "\n",
       "    .dataframe tbody tr th {\n",
       "        vertical-align: top;\n",
       "    }\n",
       "\n",
       "    .dataframe thead th {\n",
       "        text-align: right;\n",
       "    }\n",
       "</style>\n",
       "<table border=\"1\" class=\"dataframe\">\n",
       "  <thead>\n",
       "    <tr style=\"text-align: right;\">\n",
       "      <th></th>\n",
       "      <th>SepalLength</th>\n",
       "      <th>SepalWidth</th>\n",
       "      <th>PetalLength</th>\n",
       "      <th>PetalWidth</th>\n",
       "      <th>Class</th>\n",
       "    </tr>\n",
       "  </thead>\n",
       "  <tbody>\n",
       "    <tr>\n",
       "      <th>0</th>\n",
       "      <td>5.1</td>\n",
       "      <td>3.5</td>\n",
       "      <td>1.4</td>\n",
       "      <td>0.2</td>\n",
       "      <td>Iris-setosa</td>\n",
       "    </tr>\n",
       "    <tr>\n",
       "      <th>1</th>\n",
       "      <td>4.9</td>\n",
       "      <td>3.0</td>\n",
       "      <td>1.4</td>\n",
       "      <td>0.2</td>\n",
       "      <td>Iris-setosa</td>\n",
       "    </tr>\n",
       "    <tr>\n",
       "      <th>2</th>\n",
       "      <td>4.6</td>\n",
       "      <td>3.1</td>\n",
       "      <td>1.5</td>\n",
       "      <td>0.2</td>\n",
       "      <td>Iris-setosa</td>\n",
       "    </tr>\n",
       "    <tr>\n",
       "      <th>3</th>\n",
       "      <td>5.0</td>\n",
       "      <td>3.6</td>\n",
       "      <td>1.4</td>\n",
       "      <td>0.2</td>\n",
       "      <td>Iris-setosa</td>\n",
       "    </tr>\n",
       "    <tr>\n",
       "      <th>4</th>\n",
       "      <td>5.4</td>\n",
       "      <td>3.9</td>\n",
       "      <td>1.7</td>\n",
       "      <td>0.4</td>\n",
       "      <td>Iris-setosa</td>\n",
       "    </tr>\n",
       "  </tbody>\n",
       "</table>\n",
       "</div>"
      ],
      "text/plain": [
       "   SepalLength   SepalWidth   PetalLength   PetalWidth         Class\n",
       "0          5.1          3.5           1.4          0.2   Iris-setosa\n",
       "1          4.9          3.0           1.4          0.2   Iris-setosa\n",
       "2          4.6          3.1           1.5          0.2   Iris-setosa\n",
       "3          5.0          3.6           1.4          0.2   Iris-setosa\n",
       "4          5.4          3.9           1.7          0.4   Iris-setosa"
      ]
     },
     "execution_count": 2,
     "metadata": {},
     "output_type": "execute_result"
    }
   ],
   "source": [
    "import numpy as np\n",
    "import pandas as pd\n",
    "import matplotlib.pyplot as plt\n",
    "from sklearn.neighbors import KNeighborsClassifier\n",
    "from sklearn.model_selection import train_test_split\n",
    "from sklearn.datasets import load_iris\n",
    "from sklearn.preprocessing import LabelEncoder\n",
    "from sklearn.model_selection import train_test_split, cross_val_score\n",
    "from sklearn.cluster import KMeans\n",
    "from sklearn.metrics import accuracy_score, classification_report, silhouette_score\n",
    "from sklearn.utils import shuffle\n",
    "from collections import Counter\n",
    "from sklearn.preprocessing import StandardScaler\n",
    "path =\"E:/Subject/Capston/Farid Sir/Dataset/Classification-Datasets-master/\"\n",
    "df = pd.read_csv(path+'iris.csv')\n",
    "df.head()"
   ]
  },
  {
   "cell_type": "code",
   "execution_count": 3,
   "metadata": {},
   "outputs": [
    {
     "data": {
      "text/plain": [
       "(150, 5)"
      ]
     },
     "execution_count": 3,
     "metadata": {},
     "output_type": "execute_result"
    }
   ],
   "source": [
    "df.shape"
   ]
  },
  {
   "cell_type": "code",
   "execution_count": 5,
   "metadata": {},
   "outputs": [],
   "source": [
    "X = df.iloc[:, :-1].values\n",
    "y = df.iloc[:, -1].values\n",
    "\n",
    "encoder = LabelEncoder()\n",
    "y = encoder.fit_transform(y)\n",
    "\n",
    "X_train, X_test, y_train, y_test = train_test_split(X, y, test_size=0.2, random_state=7)"
   ]
  },
  {
   "cell_type": "code",
   "execution_count": 6,
   "metadata": {},
   "outputs": [],
   "source": [
    "X, y = shuffle(X, y, random_state=7)"
   ]
  },
  {
   "cell_type": "code",
   "execution_count": 7,
   "metadata": {},
   "outputs": [],
   "source": [
    "scaler = StandardScaler()\n",
    "X = scaler.fit_transform(X)"
   ]
  },
  {
   "cell_type": "markdown",
   "metadata": {},
   "source": [
    "# KNN"
   ]
  },
  {
   "cell_type": "code",
   "execution_count": 8,
   "metadata": {},
   "outputs": [
    {
     "name": "stdout",
     "output_type": "stream",
     "text": [
      "k : 1, acc : 0.9333333333333332\n",
      "k : 2, acc : 0.9266666666666667\n",
      "k : 3, acc : 0.9466666666666667\n",
      "k : 4, acc : 0.9266666666666667\n",
      "k : 5, acc : 0.9400000000000001\n",
      "k : 6, acc : 0.9533333333333334\n",
      "k : 7, acc : 0.9466666666666667\n",
      "k : 8, acc : 0.9466666666666667\n",
      "k : 9, acc : 0.9533333333333334\n",
      "k : 10, acc : 0.9533333333333334\n",
      "k : 11, acc : 0.96\n",
      "k : 12, acc : 0.9533333333333334\n",
      "k : 13, acc : 0.96\n",
      "k : 14, acc : 0.96\n"
     ]
    }
   ],
   "source": [
    "for i in range(1, 15):\n",
    "    knn = KNeighborsClassifier(n_neighbors=i)\n",
    "    print('k : {}, acc : {}'.format(i, cross_val_score(knn, X, y, cv=5).mean()))"
   ]
  },
  {
   "cell_type": "code",
   "execution_count": null,
   "metadata": {},
   "outputs": [],
   "source": []
  },
  {
   "cell_type": "code",
   "execution_count": null,
   "metadata": {},
   "outputs": [],
   "source": []
  },
  {
   "cell_type": "code",
   "execution_count": null,
   "metadata": {},
   "outputs": [],
   "source": []
  },
  {
   "cell_type": "markdown",
   "metadata": {},
   "source": [
    "# KMeans"
   ]
  },
  {
   "cell_type": "code",
   "execution_count": 105,
   "metadata": {},
   "outputs": [
    {
     "data": {
      "image/png": "[encoded data removed]",
      "text/plain": [
       "<Figure size 432x288 with 1 Axes>"
      ]
     },
     "metadata": {
      "needs_background": "light"
     },
     "output_type": "display_data"
    }
   ],
   "source": [
    "k = []\n",
    "inertia = []\n",
    "scores = []\n",
    "\n",
    "for i in range(2, 16, 1):\n",
    "    kmeans = KMeans(i)\n",
    "    kmeans.fit(X)\n",
    "    k.append(i)\n",
    "    inertia.append(kmeans.inertia_)\n",
    "    scores.append(silhouette_score(X, kmeans.labels_, sample_size=len(X)))\n",
    "\n",
    "plt.plot(k, inertia)\n",
    "plt.xlabel('value of K')\n",
    "plt.ylabel('Inertia')\n",
    "plt.show()"
   ]
  },
  {
   "cell_type": "code",
   "execution_count": 106,
   "metadata": {},
   "outputs": [
    {
     "data": {
      "text/plain": [
       "Text(0, 0.5, 'Silhouette Score')"
      ]
     },
     "execution_count": 106,
     "metadata": {},
     "output_type": "execute_result"
    },
    {
     "data": {
      "image/png": "[encoded data removed]",
      "text/plain": [
       "<Figure size 432x288 with 1 Axes>"
      ]
     },
     "metadata": {
      "needs_background": "light"
     },
     "output_type": "display_data"
    }
   ],
   "source": [
    "plt.figure()\n",
    "plt.bar(k, scores, width=0.6, color='c', align='center')\n",
    "plt.xlabel('value of K')\n",
    "plt.ylabel('Silhouette Score')"
   ]
  },
  {
   "cell_type": "code",
   "execution_count": 107,
   "metadata": {},
   "outputs": [
    {
     "data": {
      "text/plain": [
       "array([3, 0, 1, 3, 2, 1, 0, 4, 1, 0, 3, 0, 1, 3, 1, 0, 2, 1, 3, 1, 0, 2,\n",
       "       3, 3, 4, 1, 2, 0, 4, 3, 4, 0, 1, 1, 3, 3, 1, 1, 1, 4, 4, 3, 4, 2,\n",
       "       2, 3, 3, 0, 2, 1, 1, 1, 4, 1, 4, 3, 0, 3, 1, 1, 1, 0, 3, 4, 3, 1,\n",
       "       4, 1, 1, 3, 4, 1, 4, 3, 3, 4, 3, 1, 3, 1, 3, 3, 0, 1, 1, 0, 2, 1,\n",
       "       3, 2, 0, 1, 4, 1, 4, 4, 1, 1, 3, 0, 2, 4, 4, 1, 1, 4, 1, 0, 0, 3,\n",
       "       4, 2, 3, 1, 3, 1, 1, 0, 0, 4, 1, 0, 3, 3, 3, 0, 4, 1, 3, 3, 1, 1,\n",
       "       1, 0, 0, 1, 1, 3, 3, 1, 1, 4, 0, 0, 1, 3, 2, 3, 3, 1])"
      ]
     },
     "execution_count": 107,
     "metadata": {},
     "output_type": "execute_result"
    }
   ],
   "source": [
    "K = 5\n",
    "km = KMeans(K)\n",
    "km.fit(X)\n",
    "#print(km1.cluster_centers_)\n",
    "belongsTo = km.labels_\n",
    "belongsTo"
   ]
  },
  {
   "cell_type": "code",
   "execution_count": 108,
   "metadata": {},
   "outputs": [
    {
     "data": {
      "text/plain": [
       "(150,)"
      ]
     },
     "execution_count": 108,
     "metadata": {},
     "output_type": "execute_result"
    }
   ],
   "source": [
    "belongsTo.shape"
   ]
  },
  {
   "cell_type": "code",
   "execution_count": 109,
   "metadata": {},
   "outputs": [],
   "source": [
    "n_samples, n_features = X.shape"
   ]
  },
  {
   "cell_type": "code",
   "execution_count": 110,
   "metadata": {},
   "outputs": [],
   "source": [
    "indexCNE = []\n",
    "temp = []\n",
    "\n",
    "for i in range(K):\n",
    "    temp.insert(i, [])\n",
    "    \n",
    "for i in range(n_samples):\n",
    "    temp[belongsTo[i]].append(i)\n",
    "    \n",
    "indexCNE = temp"
   ]
  },
  {
   "cell_type": "code",
   "execution_count": 111,
   "metadata": {},
   "outputs": [],
   "source": [
    "n_times = 7\n",
    "nn = 7\n",
    "kmeans_pred_matrix = np.empty((n_times, n_samples), dtype=int)\n"
   ]
  },
  {
   "cell_type": "code",
   "execution_count": 112,
   "metadata": {},
   "outputs": [],
   "source": [
    "for k in range(n_times):\n",
    "    y_hat = []\n",
    "    for i in range(n_samples):\n",
    "        cluster = belongsTo[i]\n",
    "        indices = []\n",
    "        for j in range(nn):\n",
    "            indices.append(np.random.choice(indexCNE[cluster]))\n",
    "    \n",
    "        predicted_class = np.bincount(y[indices]).argmax()\n",
    "        y_hat.append(predicted_class)\n",
    "\n",
    "    y_hat = np.asarray(y_hat)\n",
    "    kmeans_pred_matrix[k] = y_hat"
   ]
  },
  {
   "cell_type": "code",
   "execution_count": 113,
   "metadata": {},
   "outputs": [
    {
     "data": {
      "text/plain": [
       "(7, 150)"
      ]
     },
     "execution_count": 113,
     "metadata": {},
     "output_type": "execute_result"
    }
   ],
   "source": [
    "kmeans_pred_matrix.shape"
   ]
  },
  {
   "cell_type": "code",
   "execution_count": 114,
   "metadata": {},
   "outputs": [],
   "source": [
    "y_pred = []\n",
    "for i in range(kmeans_pred_matrix.shape[1]):\n",
    "    count = Counter(kmeans_pred_matrix[:, i])\n",
    "    tup = count.most_common(1)\n",
    "    y_pred.append(tup[0][0])\n",
    "\n",
    "y_pred = np.asarray(y_pred)"
   ]
  },
  {
   "cell_type": "code",
   "execution_count": 115,
   "metadata": {},
   "outputs": [
    {
     "data": {
      "text/plain": [
       "(150,)"
      ]
     },
     "execution_count": 115,
     "metadata": {},
     "output_type": "execute_result"
    }
   ],
   "source": [
    "y_pred.shape"
   ]
  },
  {
   "cell_type": "code",
   "execution_count": 116,
   "metadata": {},
   "outputs": [
    {
     "data": {
      "text/plain": [
       "89.33333333333333"
      ]
     },
     "execution_count": 116,
     "metadata": {},
     "output_type": "execute_result"
    }
   ],
   "source": [
    "accuracy_score(y, y_pred) * 100"
   ]
  },
  {
   "cell_type": "code",
   "execution_count": 24,
   "metadata": {},
   "outputs": [
    {
     "name": "stdout",
     "output_type": "stream",
     "text": [
      "              precision    recall  f1-score   support\n",
      "\n",
      "           0       0.79      0.90      0.84      1490\n",
      "           1       0.71      0.50      0.59       711\n",
      "\n",
      "   micro avg       0.77      0.77      0.77      2201\n",
      "   macro avg       0.75      0.70      0.71      2201\n",
      "weighted avg       0.76      0.77      0.76      2201\n",
      "\n"
     ]
    }
   ],
   "source": [
    "print(classification_report(y, y_pred))"
   ]
  },
  {
   "cell_type": "code",
   "execution_count": null,
   "metadata": {},
   "outputs": [],
   "source": []
  },
  {
   "cell_type": "markdown",
   "metadata": {},
   "source": [
    "# Area of sphere"
   ]
  },
  {
   "cell_type": "code",
   "execution_count": null,
   "metadata": {},
   "outputs": [],
   "source": []
  }
 ],
 "metadata": {
  "kernelspec": {
   "display_name": "tf",
   "language": "python",
   "name": "tf"
  },
  "language_info": {
   "codemirror_mode": {
    "name": "ipython",
    "version": 3
   },
   "file_extension": ".py",
   "mimetype": "text/x-python",
   "name": "python",
   "nbconvert_exporter": "python",
   "pygments_lexer": "ipython3",
   "version": "3.6.6"
  }
 },
 "nbformat": 4,
 "nbformat_minor": 2
}
