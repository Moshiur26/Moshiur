{
 "cells": [
  {
   "cell_type": "code",
   "execution_count": 59,
   "metadata": {},
   "outputs": [],
   "source": [
    "import pandas as pd\n",
    "from sklearn import datasets\n",
    "import numpy as np\n",
    "import math\n",
    "from sklearn.model_selection import train_test_split"
   ]
  },
  {
   "cell_type": "code",
   "execution_count": 70,
   "metadata": {},
   "outputs": [],
   "source": [
    "def kNN(k, X_train, y_train, X_test, y_test):\n",
    "\n",
    "    train_set_size = len(y_train)\n",
    "    test_set_size = len(y_test)\n",
    "\n",
    "    distances = np.zeros((1,train_set_size))\n",
    "    number_of_neighbors = k\n",
    "    number_of_classes = len(np.unique(y_train))\n",
    "    predictions = np.zeros((test_set_size,1))\n",
    "\n",
    "    for i in range(test_set_size) :\n",
    "        x_1 = X_test[i,:]\n",
    "        for j in range(train_set_size) :\n",
    "            x_2 = X_train[j,:]\n",
    "            #get euclidean distance between x_1 and x_2\n",
    "            distances[0,j] = math.sqrt(np.sum((x_1 - x_2)**2))\n",
    "        #find nearest neighbors\n",
    "        #neighbors = np.zeros((1,train_set_size))\n",
    "        neighbors = distances[0,:].argsort()[:number_of_neighbors]\n",
    "        neighbors = neighbors.astype(int)\n",
    "        #find out the majorioty class\n",
    "\n",
    "        markers = np.zeros((1,number_of_classes+1))\n",
    "\n",
    "        for j in range(number_of_neighbors) :\n",
    "            markers[0,int(y_train[int(neighbors[j])])] = markers[0,int(y_train[int(neighbors[j])])] + 1 \n",
    "            #print(neighbors[j])\n",
    "\n",
    "            \n",
    "        #find out the class with max count\n",
    "        predicted_class = np.argmax(markers[0,:])\n",
    "\n",
    "        #perform classification here\n",
    "        predictions[i] = predicted_class\n",
    "        \n",
    "        return predictions"
   ]
  },
  {
   "cell_type": "code",
   "execution_count": 71,
   "metadata": {},
   "outputs": [],
   "source": [
    "def getAccuracy(predictions,y_test):\n",
    "    success=0\n",
    "    unsuccess=0\n",
    "    l=len(y_test)\n",
    "    for i in range(l):\n",
    "        if predictions[i]==y_test[i]:\n",
    "            success+=1\n",
    "        else :\n",
    "            unsuccess+=1\n",
    "    percent=(success/(l*1.0))*100.0\n",
    "    print(\"success : \",success,\"   unsuccess : \",unsuccess,\" percentage : \",percent,\"%\")"
   ]
  },
  {
   "cell_type": "code",
   "execution_count": 69,
   "metadata": {
    "scrolled": true
   },
   "outputs": [
    {
     "name": "stdout",
     "output_type": "stream",
     "text": [
      "13\n"
     ]
    },
    {
     "ename": "IndexError",
     "evalue": "arrays used as indices must be of integer (or boolean) type",
     "output_type": "error",
     "traceback": [
      "\u001b[1;31m---------------------------------------------------------------------------\u001b[0m",
      "\u001b[1;31mIndexError\u001b[0m                                Traceback (most recent call last)",
      "\u001b[1;32m<ipython-input-69-12699d5b5b32>\u001b[0m in \u001b[0;36m<module>\u001b[1;34m\u001b[0m\n\u001b[0;32m     15\u001b[0m     \u001b[0mprint\u001b[0m\u001b[1;33m(\u001b[0m\u001b[0mk\u001b[0m\u001b[1;33m)\u001b[0m\u001b[1;33m\u001b[0m\u001b[0m\n\u001b[0;32m     16\u001b[0m     \u001b[1;31m#kNN(k, X_train, y_train, X_test, y_test)\u001b[0m\u001b[1;33m\u001b[0m\u001b[1;33m\u001b[0m\u001b[0m\n\u001b[1;32m---> 17\u001b[1;33m     \u001b[0mgetAccuracy\u001b[0m\u001b[1;33m(\u001b[0m\u001b[0mkNN\u001b[0m\u001b[1;33m(\u001b[0m\u001b[0mk\u001b[0m\u001b[1;33m,\u001b[0m \u001b[0mX_train\u001b[0m\u001b[1;33m,\u001b[0m \u001b[0my_train\u001b[0m\u001b[1;33m,\u001b[0m \u001b[0mX_test\u001b[0m\u001b[1;33m,\u001b[0m \u001b[0my_test\u001b[0m\u001b[1;33m)\u001b[0m\u001b[1;33m,\u001b[0m\u001b[0my_test\u001b[0m\u001b[1;33m)\u001b[0m\u001b[1;33m\u001b[0m\u001b[0m\n\u001b[0m\u001b[0;32m     18\u001b[0m \u001b[1;33m\u001b[0m\u001b[0m\n\u001b[0;32m     19\u001b[0m     \u001b[1;31m#print(X)\u001b[0m\u001b[1;33m\u001b[0m\u001b[1;33m\u001b[0m\u001b[0m\n",
      "\u001b[1;32m<ipython-input-67-df165b6bc29f>\u001b[0m in \u001b[0;36mkNN\u001b[1;34m(k, X_train, y_train, X_test, y_test)\u001b[0m\n\u001b[0;32m     24\u001b[0m \u001b[1;33m\u001b[0m\u001b[0m\n\u001b[0;32m     25\u001b[0m         \u001b[1;32mfor\u001b[0m \u001b[0mj\u001b[0m \u001b[1;32min\u001b[0m \u001b[0mrange\u001b[0m\u001b[1;33m(\u001b[0m\u001b[0mnumber_of_neighbors\u001b[0m\u001b[1;33m)\u001b[0m \u001b[1;33m:\u001b[0m\u001b[1;33m\u001b[0m\u001b[0m\n\u001b[1;32m---> 26\u001b[1;33m             \u001b[0mmarkers\u001b[0m\u001b[1;33m[\u001b[0m\u001b[1;36m0\u001b[0m\u001b[1;33m,\u001b[0m\u001b[0my_train\u001b[0m\u001b[1;33m[\u001b[0m\u001b[0mint\u001b[0m\u001b[1;33m(\u001b[0m\u001b[0mneighbors\u001b[0m\u001b[1;33m[\u001b[0m\u001b[0mj\u001b[0m\u001b[1;33m]\u001b[0m\u001b[1;33m)\u001b[0m\u001b[1;33m]\u001b[0m\u001b[1;33m]\u001b[0m \u001b[1;33m=\u001b[0m \u001b[0mmarkers\u001b[0m\u001b[1;33m[\u001b[0m\u001b[1;36m0\u001b[0m\u001b[1;33m,\u001b[0m\u001b[0my_train\u001b[0m\u001b[1;33m[\u001b[0m\u001b[0mint\u001b[0m\u001b[1;33m(\u001b[0m\u001b[0mneighbors\u001b[0m\u001b[1;33m[\u001b[0m\u001b[0mj\u001b[0m\u001b[1;33m]\u001b[0m\u001b[1;33m)\u001b[0m\u001b[1;33m]\u001b[0m\u001b[1;33m]\u001b[0m \u001b[1;33m+\u001b[0m \u001b[1;36m1\u001b[0m\u001b[1;33m\u001b[0m\u001b[0m\n\u001b[0m\u001b[0;32m     27\u001b[0m             \u001b[1;31m#print(neighbors[j])\u001b[0m\u001b[1;33m\u001b[0m\u001b[1;33m\u001b[0m\u001b[0m\n\u001b[0;32m     28\u001b[0m \u001b[1;33m\u001b[0m\u001b[0m\n",
      "\u001b[1;31mIndexError\u001b[0m: arrays used as indices must be of integer (or boolean) type"
     ]
    }
   ],
   "source": [
    "dataset_name=[\"iris.csv\",\"hayes-roth.csv\"]#,\"wine.csv\",\"glass.csv\",\"haberman.csv\"]\n",
    "path =\"E:/Subject/Capston/Farid Sir/Classification-Datasets-master/Data/Data Sets/\"\n",
    "\n",
    "for i in range(2):\n",
    "    data = pd.read_csv(path+dataset_name[i])\n",
    "    data=np.asarray(data)\n",
    "    X = data[:,:data.shape[1]-1]\n",
    "    X = X.astype(np.float)\n",
    "    \n",
    "    y = data[:,-1:]\n",
    "    #y = y[1:,:]\n",
    "   \n",
    "    X_train, X_test, y_train, y_test = train_test_split(X, y, test_size=0.33,random_state=40)\n",
    "    k=13\n",
    "    print(k)\n",
    "    #kNN(k, X_train, y_train, X_test, y_test)\n",
    "    getAccuracy(kNN(k, X_train, y_train, X_test, y_test),y_test)\n",
    "\n",
    "    #print(X)"
   ]
  },
  {
   "cell_type": "code",
   "execution_count": null,
   "metadata": {},
   "outputs": [],
   "source": []
  },
  {
   "cell_type": "code",
   "execution_count": null,
   "metadata": {},
   "outputs": [],
   "source": []
  }
 ],
 "metadata": {
  "kernelspec": {
   "display_name": "tf",
   "language": "python",
   "name": "tf"
  },
  "language_info": {
   "codemirror_mode": {
    "name": "ipython",
    "version": 3
   },
   "file_extension": ".py",
   "mimetype": "text/x-python",
   "name": "python",
   "nbconvert_exporter": "python",
   "pygments_lexer": "ipython3",
   "version": "3.6.6"
  }
 },
 "nbformat": 4,
 "nbformat_minor": 2
}
