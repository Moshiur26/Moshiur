{
 "cells": [
  {
   "cell_type": "code",
   "execution_count": 1,
   "metadata": {},
   "outputs": [
    {
     "name": "stderr",
     "output_type": "stream",
     "text": [
      "Using TensorFlow backend.\n"
     ]
    }
   ],
   "source": [
    "import keras\n",
    "from keras import backend as K\n",
    "from keras.models import Sequential,Model\n",
    "from keras.layers import Activation\n",
    "from keras.layers import Dense,Input,Conv1D,Conv2D,MaxPooling2D,UpSampling2D,Flatten,Reshape\n",
    "from keras.optimizers import Adam\n",
    "from keras.metrics import categorical_crossentropy\n",
    "from keras.utils import to_categorical\n",
    "\n",
    "import matplotlib.pyplot as plt\n",
    "import numpy as np\n",
    "import pandas as pn\n",
    "from sklearn.model_selection import train_test_split"
   ]
  },
  {
   "cell_type": "code",
   "execution_count": 2,
   "metadata": {},
   "outputs": [
    {
     "data": {
      "text/plain": [
       "81"
      ]
     },
     "execution_count": 2,
     "metadata": {},
     "output_type": "execute_result"
    }
   ],
   "source": [
    "\n",
    "data = pn.read_csv(\"C:/Users/Moshiur/Desktop/Moshiur/Promoter/New Dataset/promoter1234.csv\",header=None)\n",
    "data=np.asarray(data)\n",
    "data = np.delete(data, (0), axis=0)\n",
    "data = np.delete(data, (0), axis=1)\n",
    "X=data[:,:data.shape[1]-1]\n",
    "y=data[:,-1:]\n",
    "#X=X.astype(int)\n",
    "X_len=len(X)\n",
    "max_value=float(X.max())\n",
    "#X=X/max_value\n",
    "\n",
    "\n",
    "\n",
    "X_train, X_test, y_train, y_test = train_test_split(\n",
    "     X, y, test_size=0.33,random_state=40)\n",
    "\n",
    "X.shape\n",
    "X_train = X_train.reshape(len(X_train),81,1)\n",
    "X_test = X_test.reshape(len(X_test),81,1)\n",
    "#X_test = X_test.reshape(1650,20,20)\n",
    "\n",
    "\n",
    "y_train = np.unique(y_train, return_inverse=True)[1].tolist()\n",
    "X=X[:,1]\n",
    "y_test=np.unique(y_test, return_inverse=True)[1].tolist()\n",
    "\n",
    "#max_value\n",
    "y_test\n",
    "X_train.shape\n",
    "len(X_train[0])"
   ]
  },
  {
   "cell_type": "code",
   "execution_count": 3,
   "metadata": {},
   "outputs": [
    {
     "data": {
      "text/plain": [
       "array([1., 0.], dtype=float32)"
      ]
     },
     "execution_count": 3,
     "metadata": {},
     "output_type": "execute_result"
    }
   ],
   "source": [
    "y_train = to_categorical(y_train)\n",
    "y_test = to_categorical(y_test)\n",
    "y_train[0]"
   ]
  },
  {
   "cell_type": "code",
   "execution_count": 4,
   "metadata": {},
   "outputs": [
    {
     "name": "stdout",
     "output_type": "stream",
     "text": [
      "_________________________________________________________________\n",
      "Layer (type)                 Output Shape              Param #   \n",
      "=================================================================\n",
      "conv1d_1 (Conv1D)            (None, 78, 64)            320       \n",
      "_________________________________________________________________\n",
      "conv1d_2 (Conv1D)            (None, 76, 32)            6176      \n",
      "_________________________________________________________________\n",
      "conv1d_3 (Conv1D)            (None, 75, 16)            1040      \n",
      "_________________________________________________________________\n",
      "flatten_1 (Flatten)          (None, 1200)              0         \n",
      "_________________________________________________________________\n",
      "dense_1 (Dense)              (None, 2)                 2402      \n",
      "=================================================================\n",
      "Total params: 9,938\n",
      "Trainable params: 9,938\n",
      "Non-trainable params: 0\n",
      "_________________________________________________________________\n"
     ]
    }
   ],
   "source": [
    "model = Sequential()\n",
    "#add model layers\n",
    "model.add(Conv1D(64, kernel_size=4, activation='relu', input_shape=(81,1)))\n",
    "model.add(Conv1D(32, kernel_size=3, activation='relu'))\n",
    "model.add(Conv1D(16, kernel_size=2, activation='relu'))\n",
    "model.add(Flatten())\n",
    "model.add(Dense(2, activation='softmax'))\n",
    "\n",
    "model.summary()"
   ]
  },
  {
   "cell_type": "code",
   "execution_count": 5,
   "metadata": {},
   "outputs": [
    {
     "name": "stdout",
     "output_type": "stream",
     "text": [
      "Train on 3832 samples, validate on 1888 samples\n",
      "Epoch 1/10\n",
      "3832/3832 [==============================] - 3s 688us/step - loss: 0.5765 - acc: 0.6897 - val_loss: 0.4918 - val_acc: 0.7701\n",
      "Epoch 2/10\n",
      "3832/3832 [==============================] - 2s 411us/step - loss: 0.4591 - acc: 0.7886 - val_loss: 0.4707 - val_acc: 0.7844\n",
      "Epoch 3/10\n",
      "3832/3832 [==============================] - 2s 537us/step - loss: 0.4412 - acc: 0.8045 - val_loss: 0.5230 - val_acc: 0.7452\n",
      "Epoch 4/10\n",
      "3832/3832 [==============================] - 2s 533us/step - loss: 0.4412 - acc: 0.7975 - val_loss: 0.4544 - val_acc: 0.7892\n",
      "Epoch 5/10\n",
      "3832/3832 [==============================] - 2s 468us/step - loss: 0.4120 - acc: 0.8202 - val_loss: 0.4511 - val_acc: 0.7908\n",
      "Epoch 6/10\n",
      "3832/3832 [==============================] - 2s 542us/step - loss: 0.4000 - acc: 0.8262 - val_loss: 0.4429 - val_acc: 0.7971\n",
      "Epoch 7/10\n",
      "3832/3832 [==============================] - 2s 601us/step - loss: 0.3861 - acc: 0.8353 - val_loss: 0.5458 - val_acc: 0.7500\n",
      "Epoch 8/10\n",
      "3832/3832 [==============================] - 2s 548us/step - loss: 0.3797 - acc: 0.8348 - val_loss: 0.4513 - val_acc: 0.7993\n",
      "Epoch 9/10\n",
      "3832/3832 [==============================] - 2s 433us/step - loss: 0.3705 - acc: 0.8374 - val_loss: 0.4340 - val_acc: 0.8077\n",
      "Epoch 10/10\n",
      "3832/3832 [==============================] - 2s 536us/step - loss: 0.3630 - acc: 0.8476 - val_loss: 0.4638 - val_acc: 0.7876\n"
     ]
    },
    {
     "data": {
      "text/plain": [
       "<keras.callbacks.History at 0x207aa663588>"
      ]
     },
     "execution_count": 5,
     "metadata": {},
     "output_type": "execute_result"
    }
   ],
   "source": [
    "#compile model using accuracy to measure model performance\n",
    "model.compile(optimizer='adam', loss='categorical_crossentropy', metrics=['accuracy'])\n",
    "#train the model\n",
    "model.fit(X_train, y_train, validation_data=(X_test, y_test), epochs=10)"
   ]
  },
  {
   "cell_type": "code",
   "execution_count": null,
   "metadata": {},
   "outputs": [],
   "source": []
  }
 ],
 "metadata": {
  "kernelspec": {
   "display_name": "tf",
   "language": "python",
   "name": "tf"
  },
  "language_info": {
   "codemirror_mode": {
    "name": "ipython",
    "version": 3
   },
   "file_extension": ".py",
   "mimetype": "text/x-python",
   "name": "python",
   "nbconvert_exporter": "python",
   "pygments_lexer": "ipython3",
   "version": "3.6.6"
  }
 },
 "nbformat": 4,
 "nbformat_minor": 2
}
