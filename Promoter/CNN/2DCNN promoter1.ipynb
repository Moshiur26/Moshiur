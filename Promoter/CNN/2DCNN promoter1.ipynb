{
 "cells": [
  {
   "cell_type": "code",
   "execution_count": 1,
   "metadata": {},
   "outputs": [
    {
     "name": "stderr",
     "output_type": "stream",
     "text": [
      "Using TensorFlow backend.\n"
     ]
    }
   ],
   "source": [
    "import keras\n",
    "from keras import backend as K\n",
    "from keras.models import Sequential,Model\n",
    "from keras.layers import Activation\n",
    "from keras.layers import Dense,Input,Conv2D,MaxPooling2D,UpSampling2D,Flatten,Reshape\n",
    "from keras.optimizers import Adam\n",
    "from keras.metrics import categorical_crossentropy\n",
    "from keras.utils import to_categorical\n",
    "\n",
    "import matplotlib.pyplot as plt\n",
    "import numpy as np\n",
    "import pandas as pn\n",
    "from sklearn.model_selection import train_test_split"
   ]
  },
  {
   "cell_type": "code",
   "execution_count": 2,
   "metadata": {},
   "outputs": [
    {
     "data": {
      "text/plain": [
       "(3832, 9, 9, 1)"
      ]
     },
     "execution_count": 2,
     "metadata": {},
     "output_type": "execute_result"
    }
   ],
   "source": [
    "\n",
    "data = pn.read_csv(\"C:/Users/Moshiur/Desktop/Moshiur/Promoter/New Dataset/promoter1234.csv\",header=None)\n",
    "data=np.asarray(data)\n",
    "data = np.delete(data, (0), axis=0)\n",
    "data = np.delete(data, (0), axis=1)\n",
    "X=data[:,:data.shape[1]-1]\n",
    "y=data[:,-1:]\n",
    "#X=X.astype(int)\n",
    "X_len=len(X)\n",
    "max_value=float(X.max())\n",
    "#X=X/max_value\n",
    "\n",
    "\n",
    "\n",
    "X_train, X_test, y_train, y_test = train_test_split(\n",
    "     X, y, test_size=0.33,random_state=40)\n",
    "\n",
    "X.shape\n",
    "X_train = X_train.reshape(len(X_train),9,9,1)\n",
    "X_test = X_test.reshape(len(X_test),9,9,1)\n",
    "#X_test = X_test.reshape(1650,20,20)\n",
    "\n",
    "\n",
    "y_train = np.unique(y_train, return_inverse=True)[1].tolist()\n",
    "X=X[:,1]\n",
    "y_test=np.unique(y_test, return_inverse=True)[1].tolist()\n",
    "\n",
    "#max_value\n",
    "y_test\n",
    "X_train.shape"
   ]
  },
  {
   "cell_type": "code",
   "execution_count": 3,
   "metadata": {},
   "outputs": [
    {
     "data": {
      "text/plain": [
       "array([1., 0.], dtype=float32)"
      ]
     },
     "execution_count": 3,
     "metadata": {},
     "output_type": "execute_result"
    }
   ],
   "source": [
    "y_train = to_categorical(y_train)\n",
    "y_test = to_categorical(y_test)\n",
    "y_train[0]"
   ]
  },
  {
   "cell_type": "code",
   "execution_count": 4,
   "metadata": {},
   "outputs": [
    {
     "name": "stdout",
     "output_type": "stream",
     "text": [
      "_________________________________________________________________\n",
      "Layer (type)                 Output Shape              Param #   \n",
      "=================================================================\n",
      "conv2d_1 (Conv2D)            (None, 7, 7, 64)          640       \n",
      "_________________________________________________________________\n",
      "conv2d_2 (Conv2D)            (None, 5, 5, 32)          18464     \n",
      "_________________________________________________________________\n",
      "conv2d_3 (Conv2D)            (None, 4, 4, 16)          2064      \n",
      "_________________________________________________________________\n",
      "flatten_1 (Flatten)          (None, 256)               0         \n",
      "_________________________________________________________________\n",
      "dense_1 (Dense)              (None, 2)                 514       \n",
      "=================================================================\n",
      "Total params: 21,682\n",
      "Trainable params: 21,682\n",
      "Non-trainable params: 0\n",
      "_________________________________________________________________\n"
     ]
    }
   ],
   "source": [
    "model = Sequential()\n",
    "#add model layers\n",
    "model.add(Conv2D(64, kernel_size=3, activation='relu', input_shape=(9,9,1)))\n",
    "model.add(Conv2D(32, kernel_size=3, activation='relu'))\n",
    "model.add(Conv2D(16, kernel_size=2, activation='relu'))\n",
    "#model.add(Conv2D(8, kernel_size=2, activation='relu'))\n",
    "#model.add(Conv2D(4, kernel_size=2, activation='relu'))\n",
    "model.add(Flatten())\n",
    "model.add(Dense(2, activation='softmax'))\n",
    "\n",
    "model.summary()"
   ]
  },
  {
   "cell_type": "code",
   "execution_count": 6,
   "metadata": {},
   "outputs": [
    {
     "name": "stdout",
     "output_type": "stream",
     "text": [
      "Train on 3832 samples, validate on 1888 samples\n",
      "Epoch 1/20\n",
      "3832/3832 [==============================] - 2s 541us/step - loss: 0.1750 - acc: 0.9345 - val_loss: 0.6965 - val_acc: 0.7474\n",
      "Epoch 2/20\n",
      "3832/3832 [==============================] - 1s 336us/step - loss: 0.1508 - acc: 0.9481 - val_loss: 0.6867 - val_acc: 0.7548\n",
      "Epoch 3/20\n",
      "3832/3832 [==============================] - 2s 402us/step - loss: 0.1343 - acc: 0.9559 - val_loss: 0.7327 - val_acc: 0.7389\n",
      "Epoch 4/20\n",
      "3832/3832 [==============================] - 1s 333us/step - loss: 0.1166 - acc: 0.9635 - val_loss: 0.8038 - val_acc: 0.7405\n",
      "Epoch 5/20\n",
      "3832/3832 [==============================] - 2s 398us/step - loss: 0.1049 - acc: 0.9692 - val_loss: 0.8433 - val_acc: 0.7352\n",
      "Epoch 6/20\n",
      "3832/3832 [==============================] - 1s 296us/step - loss: 0.0908 - acc: 0.9755 - val_loss: 0.8519 - val_acc: 0.7431\n",
      "Epoch 7/20\n",
      "3832/3832 [==============================] - 1s 294us/step - loss: 0.0868 - acc: 0.9763 - val_loss: 0.9295 - val_acc: 0.7341\n",
      "Epoch 8/20\n",
      "3832/3832 [==============================] - 1s 292us/step - loss: 0.0702 - acc: 0.9809 - val_loss: 0.9211 - val_acc: 0.7394\n",
      "Epoch 9/20\n",
      "3832/3832 [==============================] - 1s 332us/step - loss: 0.0810 - acc: 0.9747 - val_loss: 0.9344 - val_acc: 0.7362\n",
      "Epoch 10/20\n",
      "3832/3832 [==============================] - 1s 288us/step - loss: 0.0599 - acc: 0.9856 - val_loss: 0.9848 - val_acc: 0.7362\n",
      "Epoch 11/20\n",
      "3832/3832 [==============================] - 1s 333us/step - loss: 0.0419 - acc: 0.9932 - val_loss: 1.1111 - val_acc: 0.7262\n",
      "Epoch 12/20\n",
      "3832/3832 [==============================] - 1s 285us/step - loss: 0.0319 - acc: 0.9974 - val_loss: 1.0846 - val_acc: 0.7378\n",
      "Epoch 13/20\n",
      "3832/3832 [==============================] - 1s 283us/step - loss: 0.0253 - acc: 0.9987 - val_loss: 1.1351 - val_acc: 0.7410\n",
      "Epoch 14/20\n",
      "3832/3832 [==============================] - 1s 287us/step - loss: 0.0208 - acc: 0.9992 - val_loss: 1.1695 - val_acc: 0.7447\n",
      "Epoch 15/20\n",
      "3832/3832 [==============================] - 1s 286us/step - loss: 0.0172 - acc: 0.9997 - val_loss: 1.2027 - val_acc: 0.7336\n",
      "Epoch 16/20\n",
      "3832/3832 [==============================] - 1s 291us/step - loss: 0.0127 - acc: 1.0000 - val_loss: 1.2483 - val_acc: 0.7442\n",
      "Epoch 17/20\n",
      "3832/3832 [==============================] - 1s 327us/step - loss: 0.0106 - acc: 1.0000 - val_loss: 1.3042 - val_acc: 0.7373\n",
      "Epoch 18/20\n",
      "3832/3832 [==============================] - 1s 311us/step - loss: 0.0115 - acc: 1.0000 - val_loss: 1.3088 - val_acc: 0.7479\n",
      "Epoch 19/20\n",
      "3832/3832 [==============================] - 1s 282us/step - loss: 0.0083 - acc: 1.0000 - val_loss: 1.3437 - val_acc: 0.7405\n",
      "Epoch 20/20\n",
      "3832/3832 [==============================] - 1s 282us/step - loss: 0.0061 - acc: 1.0000 - val_loss: 1.3813 - val_acc: 0.7447\n"
     ]
    },
    {
     "data": {
      "text/plain": [
       "<keras.callbacks.History at 0x26fc62eb4e0>"
      ]
     },
     "execution_count": 6,
     "metadata": {},
     "output_type": "execute_result"
    }
   ],
   "source": [
    "#compile model using accuracy to measure model performance\n",
    "model.compile(optimizer='adam', loss='categorical_crossentropy', metrics=['accuracy'])\n",
    "#train the model\n",
    "model.fit(X_train, y_train, validation_data=(X_test, y_test), epochs=20)"
   ]
  },
  {
   "cell_type": "code",
   "execution_count": null,
   "metadata": {},
   "outputs": [],
   "source": []
  }
 ],
 "metadata": {
  "kernelspec": {
   "display_name": "tf",
   "language": "python",
   "name": "tf"
  },
  "language_info": {
   "codemirror_mode": {
    "name": "ipython",
    "version": 3
   },
   "file_extension": ".py",
   "mimetype": "text/x-python",
   "name": "python",
   "nbconvert_exporter": "python",
   "pygments_lexer": "ipython3",
   "version": "3.6.6"
  }
 },
 "nbformat": 4,
 "nbformat_minor": 2
}
