{
 "cells": [
  {
   "cell_type": "code",
   "execution_count": 20,
   "metadata": {},
   "outputs": [],
   "source": [
    "import keras\n",
    "from keras import backend as K\n",
    "from keras.models import Sequential,Model\n",
    "from keras.layers import Activation\n",
    "from keras.layers import Dense,Input,Conv2D,MaxPooling2D,UpSampling2D,Flatten,Reshape\n",
    "from keras.optimizers import Adam\n",
    "from keras.metrics import categorical_crossentropy\n",
    "from keras.utils import to_categorical\n",
    "\n",
    "import matplotlib.pyplot as plt\n",
    "import numpy as np\n",
    "import pandas as pn\n",
    "from sklearn.model_selection import train_test_split"
   ]
  },
  {
   "cell_type": "code",
   "execution_count": 21,
   "metadata": {},
   "outputs": [
    {
     "data": {
      "text/plain": [
       "(3832, 9, 9, 1)"
      ]
     },
     "execution_count": 21,
     "metadata": {},
     "output_type": "execute_result"
    }
   ],
   "source": [
    "\n",
    "data = pn.read_csv(\"C:/Users/Moshiur/Desktop/Moshiur/Promoter/New Dataset/promoter1234.csv\",header=None)\n",
    "data=np.asarray(data)\n",
    "data = np.delete(data, (0), axis=0)\n",
    "data = np.delete(data, (0), axis=1)\n",
    "X=data[:,:data.shape[1]-1]\n",
    "y=data[:,-1:]\n",
    "#X=X.astype(int)\n",
    "X_len=len(X)\n",
    "max_value=float(X.max())\n",
    "X=X/max_value\n",
    "\n",
    "\n",
    "\n",
    "X_train, X_test, y_train, y_test = train_test_split(\n",
    "     X, y, test_size=0.33,random_state=40)\n",
    "\n",
    "X.shape\n",
    "X_train = X_train.reshape(len(X_train),9,9,1)\n",
    "X_test = X_test.reshape(len(X_test),9,9,1)\n",
    "#X_test = X_test.reshape(1650,20,20)\n",
    "\n",
    "\n",
    "y_train = np.unique(y_train, return_inverse=True)[1].tolist()\n",
    "X=X[:,1]\n",
    "y_test=np.unique(y_test, return_inverse=True)[1].tolist()\n",
    "\n",
    "#max_value\n",
    "y_test\n",
    "X_train.shape"
   ]
  },
  {
   "cell_type": "code",
   "execution_count": 22,
   "metadata": {},
   "outputs": [
    {
     "data": {
      "text/plain": [
       "array([1., 0.], dtype=float32)"
      ]
     },
     "execution_count": 22,
     "metadata": {},
     "output_type": "execute_result"
    }
   ],
   "source": [
    "y_train = to_categorical(y_train)\n",
    "y_test = to_categorical(y_test)\n",
    "y_train[0]"
   ]
  },
  {
   "cell_type": "code",
   "execution_count": 23,
   "metadata": {},
   "outputs": [
    {
     "name": "stdout",
     "output_type": "stream",
     "text": [
      "_________________________________________________________________\n",
      "Layer (type)                 Output Shape              Param #   \n",
      "=================================================================\n",
      "conv2d_10 (Conv2D)           (None, 7, 7, 64)          640       \n",
      "_________________________________________________________________\n",
      "conv2d_11 (Conv2D)           (None, 5, 6, 32)          12320     \n",
      "_________________________________________________________________\n",
      "conv2d_12 (Conv2D)           (None, 3, 5, 16)          3088      \n",
      "_________________________________________________________________\n",
      "conv2d_13 (Conv2D)           (None, 1, 5, 8)           392       \n",
      "_________________________________________________________________\n",
      "flatten_4 (Flatten)          (None, 40)                0         \n",
      "_________________________________________________________________\n",
      "dense_4 (Dense)              (None, 2)                 82        \n",
      "=================================================================\n",
      "Total params: 16,522\n",
      "Trainable params: 16,522\n",
      "Non-trainable params: 0\n",
      "_________________________________________________________________\n"
     ]
    }
   ],
   "source": [
    "model = Sequential()\n",
    "#add model layers\n",
    "model.add(Conv2D(64, (3,3), activation='relu', input_shape=(9,9,1)))\n",
    "model.add(Conv2D(32, (3,2), activation='relu'))\n",
    "model.add(Conv2D(16, (3,2), activation='relu'))\n",
    "model.add(Conv2D(8, (3,1), activation='relu'))\n",
    "#model.add(Conv2D(4, kernel_size=2, activation='relu'))\n",
    "model.add(Flatten())\n",
    "model.add(Dense(2, activation='softmax'))\n",
    "\n",
    "model.summary()"
   ]
  },
  {
   "cell_type": "code",
   "execution_count": 24,
   "metadata": {},
   "outputs": [
    {
     "name": "stdout",
     "output_type": "stream",
     "text": [
      "Train on 3832 samples, validate on 1888 samples\n",
      "Epoch 1/20\n",
      "3832/3832 [==============================] - 3s 653us/step - loss: 0.6366 - acc: 0.6302 - val_loss: 0.5774 - val_acc: 0.7002\n",
      "Epoch 2/20\n",
      "3832/3832 [==============================] - 2s 402us/step - loss: 0.5237 - acc: 0.7440 - val_loss: 0.5094 - val_acc: 0.7558\n",
      "Epoch 3/20\n",
      "3832/3832 [==============================] - 1s 352us/step - loss: 0.4841 - acc: 0.7704 - val_loss: 0.4968 - val_acc: 0.7680\n",
      "Epoch 4/20\n",
      "3832/3832 [==============================] - 1s 357us/step - loss: 0.4529 - acc: 0.7980 - val_loss: 0.4770 - val_acc: 0.7675\n",
      "Epoch 5/20\n",
      "3832/3832 [==============================] - 1s 356us/step - loss: 0.4358 - acc: 0.8069 - val_loss: 0.4727 - val_acc: 0.7749\n",
      "Epoch 6/20\n",
      "3832/3832 [==============================] - 1s 355us/step - loss: 0.4288 - acc: 0.8085 - val_loss: 0.4975 - val_acc: 0.7606\n",
      "Epoch 7/20\n",
      "3832/3832 [==============================] - 1s 363us/step - loss: 0.4163 - acc: 0.8192 - val_loss: 0.4600 - val_acc: 0.7998\n",
      "Epoch 8/20\n",
      "3832/3832 [==============================] - 1s 380us/step - loss: 0.4064 - acc: 0.8244 - val_loss: 0.4755 - val_acc: 0.7876\n",
      "Epoch 9/20\n",
      "3832/3832 [==============================] - 1s 355us/step - loss: 0.3994 - acc: 0.8223 - val_loss: 0.4629 - val_acc: 0.7892\n",
      "Epoch 10/20\n",
      "3832/3832 [==============================] - 1s 357us/step - loss: 0.3901 - acc: 0.8293 - val_loss: 0.5097 - val_acc: 0.7601\n",
      "Epoch 11/20\n",
      "3832/3832 [==============================] - 1s 357us/step - loss: 0.3777 - acc: 0.8382 - val_loss: 0.4697 - val_acc: 0.7934\n",
      "Epoch 12/20\n",
      "3832/3832 [==============================] - 1s 352us/step - loss: 0.3748 - acc: 0.8369 - val_loss: 0.4687 - val_acc: 0.7913\n",
      "Epoch 13/20\n",
      "3832/3832 [==============================] - 1s 365us/step - loss: 0.3583 - acc: 0.8416 - val_loss: 0.4899 - val_acc: 0.7797\n",
      "Epoch 14/20\n",
      "3832/3832 [==============================] - 2s 422us/step - loss: 0.3474 - acc: 0.8536 - val_loss: 0.4987 - val_acc: 0.7797\n",
      "Epoch 15/20\n",
      "3832/3832 [==============================] - 1s 352us/step - loss: 0.3545 - acc: 0.8481 - val_loss: 0.4914 - val_acc: 0.7855\n",
      "Epoch 16/20\n",
      "3832/3832 [==============================] - 1s 353us/step - loss: 0.3393 - acc: 0.8562 - val_loss: 0.5025 - val_acc: 0.7818\n",
      "Epoch 17/20\n",
      "3832/3832 [==============================] - 1s 361us/step - loss: 0.3227 - acc: 0.8599 - val_loss: 0.5342 - val_acc: 0.7701\n",
      "Epoch 18/20\n",
      "3832/3832 [==============================] - 1s 365us/step - loss: 0.3194 - acc: 0.8669 - val_loss: 0.4984 - val_acc: 0.7855\n",
      "Epoch 19/20\n",
      "3832/3832 [==============================] - 1s 357us/step - loss: 0.3014 - acc: 0.8724 - val_loss: 0.5110 - val_acc: 0.7850\n",
      "Epoch 20/20\n",
      "3832/3832 [==============================] - 2s 400us/step - loss: 0.2896 - acc: 0.8857 - val_loss: 0.5373 - val_acc: 0.7823\n"
     ]
    },
    {
     "data": {
      "text/plain": [
       "<keras.callbacks.History at 0x228bfba8d30>"
      ]
     },
     "execution_count": 24,
     "metadata": {},
     "output_type": "execute_result"
    }
   ],
   "source": [
    "#compile model using accuracy to measure model performance\n",
    "model.compile(optimizer='adam', loss='categorical_crossentropy', metrics=['accuracy'])\n",
    "#train the model\n",
    "model.fit(X_train, y_train, validation_data=(X_test, y_test), epochs=20)"
   ]
  },
  {
   "cell_type": "code",
   "execution_count": null,
   "metadata": {},
   "outputs": [],
   "source": []
  }
 ],
 "metadata": {
  "kernelspec": {
   "display_name": "tf",
   "language": "python",
   "name": "tf"
  },
  "language_info": {
   "codemirror_mode": {
    "name": "ipython",
    "version": 3
   },
   "file_extension": ".py",
   "mimetype": "text/x-python",
   "name": "python",
   "nbconvert_exporter": "python",
   "pygments_lexer": "ipython3",
   "version": "3.6.6"
  }
 },
 "nbformat": 4,
 "nbformat_minor": 2
}
