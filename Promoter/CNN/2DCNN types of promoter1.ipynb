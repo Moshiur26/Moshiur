{
 "cells": [
  {
   "cell_type": "code",
   "execution_count": 21,
   "metadata": {},
   "outputs": [],
   "source": [
    "import keras\n",
    "from keras import backend as K\n",
    "from keras.models import Sequential,Model\n",
    "from keras.layers import Activation\n",
    "from keras.layers import Dense,Input,Conv2D,MaxPooling2D,UpSampling2D,Flatten,Reshape\n",
    "from keras.optimizers import Adam\n",
    "from keras.metrics import categorical_crossentropy\n",
    "from keras.utils import to_categorical\n",
    "\n",
    "import matplotlib.pyplot as plt\n",
    "import numpy as np\n",
    "import pandas as pn\n",
    "from sklearn.model_selection import train_test_split"
   ]
  },
  {
   "cell_type": "code",
   "execution_count": 22,
   "metadata": {},
   "outputs": [
    {
     "data": {
      "text/plain": [
       "6"
      ]
     },
     "execution_count": 22,
     "metadata": {},
     "output_type": "execute_result"
    }
   ],
   "source": [
    "\n",
    "data = pn.read_csv(\"C:/Users/Moshiur/Desktop/Moshiur/Promoter/New Dataset/types_of_promoter0123.csv\",header=None)\n",
    "data=np.asarray(data)\n",
    "data = np.delete(data, (0), axis=0)\n",
    "data = np.delete(data, (0), axis=1)\n",
    "X=data[:,:data.shape[1]-1]\n",
    "y=data[:,-1:]\n",
    "#X=X.astype(int)\n",
    "X_len=len(X)\n",
    "max_value=float(X.max())\n",
    "#X=X/max_value\n",
    "\n",
    "\n",
    "\n",
    "X_train, X_test, y_train, y_test = train_test_split(\n",
    "     X, y, test_size=0.33,random_state=40)\n",
    "\n",
    "X.shape\n",
    "X_train = X_train.reshape(len(X_train),9,9,1)\n",
    "X_test = X_test.reshape(len(X_test),9,9,1)\n",
    "#X_test = X_test.reshape(1650,20,20)\n",
    "\n",
    "number_of_class=len(np.unique(y_train))\n",
    "\n",
    "y_train = np.unique(y_train, return_inverse=True)[1].tolist()\n",
    "X=X[:,1]\n",
    "y_test=np.unique(y_test, return_inverse=True)[1].tolist()\n",
    "\n",
    "#max_value\n",
    "y_test\n",
    "X_train.shape\n",
    "number_of_class"
   ]
  },
  {
   "cell_type": "code",
   "execution_count": 23,
   "metadata": {},
   "outputs": [
    {
     "data": {
      "text/plain": [
       "array([0., 0., 0., 0., 0., 1.], dtype=float32)"
      ]
     },
     "execution_count": 23,
     "metadata": {},
     "output_type": "execute_result"
    }
   ],
   "source": [
    "y_train = to_categorical(y_train)\n",
    "y_test = to_categorical(y_test)\n",
    "y_train[0]"
   ]
  },
  {
   "cell_type": "code",
   "execution_count": 24,
   "metadata": {},
   "outputs": [
    {
     "name": "stdout",
     "output_type": "stream",
     "text": [
      "_________________________________________________________________\n",
      "Layer (type)                 Output Shape              Param #   \n",
      "=================================================================\n",
      "conv2d_7 (Conv2D)            (None, 8, 8, 64)          320       \n",
      "_________________________________________________________________\n",
      "conv2d_8 (Conv2D)            (None, 7, 7, 32)          8224      \n",
      "_________________________________________________________________\n",
      "conv2d_9 (Conv2D)            (None, 6, 6, 16)          2064      \n",
      "_________________________________________________________________\n",
      "flatten_3 (Flatten)          (None, 576)               0         \n",
      "_________________________________________________________________\n",
      "dense_3 (Dense)              (None, 6)                 3462      \n",
      "=================================================================\n",
      "Total params: 14,070\n",
      "Trainable params: 14,070\n",
      "Non-trainable params: 0\n",
      "_________________________________________________________________\n"
     ]
    }
   ],
   "source": [
    "model = Sequential()\n",
    "#add model layers\n",
    "model.add(Conv2D(64, kernel_size=2, activation='relu', input_shape=(9,9,1)))\n",
    "model.add(Conv2D(32, kernel_size=2, activation='relu'))\n",
    "model.add(Conv2D(16, kernel_size=2, activation='relu'))\n",
    "model.add(Flatten())\n",
    "model.add(Dense(number_of_class, activation='softmax'))\n",
    "\n",
    "model.summary()"
   ]
  },
  {
   "cell_type": "code",
   "execution_count": 25,
   "metadata": {},
   "outputs": [
    {
     "name": "stdout",
     "output_type": "stream",
     "text": [
      "Train on 1916 samples, validate on 944 samples\n",
      "Epoch 1/20\n",
      "1916/1916 [==============================] - 2s 1ms/step - loss: 1.3147 - acc: 0.5913 - val_loss: 1.2972 - val_acc: 0.5805\n",
      "Epoch 2/20\n",
      "1916/1916 [==============================] - 1s 403us/step - loss: 1.2130 - acc: 0.5986 - val_loss: 1.2515 - val_acc: 0.5826\n",
      "Epoch 3/20\n",
      "1916/1916 [==============================] - 1s 356us/step - loss: 1.1254 - acc: 0.6065 - val_loss: 1.1878 - val_acc: 0.5922\n",
      "Epoch 4/20\n",
      "1916/1916 [==============================] - 1s 444us/step - loss: 1.0412 - acc: 0.6300 - val_loss: 1.1494 - val_acc: 0.5975\n",
      "Epoch 5/20\n",
      "1916/1916 [==============================] - 1s 374us/step - loss: 0.9725 - acc: 0.6581 - val_loss: 1.1881 - val_acc: 0.6049\n",
      "Epoch 6/20\n",
      "1916/1916 [==============================] - 1s 356us/step - loss: 0.9217 - acc: 0.6743 - val_loss: 1.1089 - val_acc: 0.6133\n",
      "Epoch 7/20\n",
      "1916/1916 [==============================] - 1s 376us/step - loss: 0.8693 - acc: 0.6921 - val_loss: 1.2070 - val_acc: 0.6144\n",
      "Epoch 8/20\n",
      "1916/1916 [==============================] - 1s 374us/step - loss: 0.8230 - acc: 0.7035 - val_loss: 1.1138 - val_acc: 0.6282\n",
      "Epoch 9/20\n",
      "1916/1916 [==============================] - 1s 442us/step - loss: 0.7710 - acc: 0.7260 - val_loss: 1.1276 - val_acc: 0.6282\n",
      "Epoch 10/20\n",
      "1916/1916 [==============================] - 1s 383us/step - loss: 0.7174 - acc: 0.7427 - val_loss: 1.1125 - val_acc: 0.6430\n",
      "Epoch 11/20\n",
      "1916/1916 [==============================] - 1s 365us/step - loss: 0.6729 - acc: 0.7505 - val_loss: 1.1240 - val_acc: 0.6335\n",
      "Epoch 12/20\n",
      "1916/1916 [==============================] - 1s 400us/step - loss: 0.6438 - acc: 0.7625 - val_loss: 1.1665 - val_acc: 0.6419\n",
      "Epoch 13/20\n",
      "1916/1916 [==============================] - 1s 382us/step - loss: 0.5980 - acc: 0.7803 - val_loss: 1.1694 - val_acc: 0.6356\n",
      "Epoch 14/20\n",
      "1916/1916 [==============================] - 1s 436us/step - loss: 0.5738 - acc: 0.8074 - val_loss: 1.2061 - val_acc: 0.6091\n",
      "Epoch 15/20\n",
      "1916/1916 [==============================] - 1s 356us/step - loss: 0.5410 - acc: 0.8064 - val_loss: 1.2641 - val_acc: 0.6398\n",
      "Epoch 16/20\n",
      "1916/1916 [==============================] - 1s 358us/step - loss: 0.4997 - acc: 0.8184 - val_loss: 1.3706 - val_acc: 0.6430\n",
      "Epoch 17/20\n",
      "1916/1916 [==============================] - 1s 374us/step - loss: 0.4760 - acc: 0.8246 - val_loss: 1.3312 - val_acc: 0.6250\n",
      "Epoch 18/20\n",
      "1916/1916 [==============================] - 1s 382us/step - loss: 0.4211 - acc: 0.8596 - val_loss: 1.3527 - val_acc: 0.5890\n",
      "Epoch 19/20\n",
      "1916/1916 [==============================] - 1s 443us/step - loss: 0.4094 - acc: 0.8606 - val_loss: 1.4126 - val_acc: 0.5985\n",
      "Epoch 20/20\n",
      "1916/1916 [==============================] - 1s 383us/step - loss: 0.3846 - acc: 0.8653 - val_loss: 1.4399 - val_acc: 0.6091\n"
     ]
    },
    {
     "data": {
      "text/plain": [
       "<keras.callbacks.History at 0x26f429216d8>"
      ]
     },
     "execution_count": 25,
     "metadata": {},
     "output_type": "execute_result"
    }
   ],
   "source": [
    "#compile model using accuracy to measure model performance\n",
    "model.compile(optimizer='adam', loss='categorical_crossentropy', metrics=['accuracy'])\n",
    "#train the model\n",
    "model.fit(X_train, y_train, validation_data=(X_test, y_test), epochs=20)"
   ]
  },
  {
   "cell_type": "code",
   "execution_count": null,
   "metadata": {},
   "outputs": [],
   "source": []
  }
 ],
 "metadata": {
  "kernelspec": {
   "display_name": "tf",
   "language": "python",
   "name": "tf"
  },
  "language_info": {
   "codemirror_mode": {
    "name": "ipython",
    "version": 3
   },
   "file_extension": ".py",
   "mimetype": "text/x-python",
   "name": "python",
   "nbconvert_exporter": "python",
   "pygments_lexer": "ipython3",
   "version": "3.6.6"
  }
 },
 "nbformat": 4,
 "nbformat_minor": 2
}
