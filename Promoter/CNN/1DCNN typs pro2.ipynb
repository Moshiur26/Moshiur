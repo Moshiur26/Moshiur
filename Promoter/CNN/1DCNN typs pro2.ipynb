{
 "cells": [
  {
   "cell_type": "code",
   "execution_count": 1,
   "metadata": {},
   "outputs": [
    {
     "name": "stderr",
     "output_type": "stream",
     "text": [
      "Using TensorFlow backend.\n"
     ]
    }
   ],
   "source": [
    "import keras\n",
    "from keras import backend as K\n",
    "from keras.models import Sequential,Model\n",
    "from keras.layers import Activation\n",
    "from keras.layers import Dense,Input,Conv1D,Conv2D,MaxPooling1D,UpSampling1D,Flatten,Reshape,AveragePooling1D\n",
    "from keras.optimizers import Adam\n",
    "from keras.metrics import categorical_crossentropy\n",
    "from keras.utils import to_categorical\n",
    "\n",
    "import matplotlib.pyplot as plt\n",
    "import numpy as np\n",
    "import pandas as pn\n",
    "from sklearn.model_selection import train_test_split"
   ]
  },
  {
   "cell_type": "code",
   "execution_count": 2,
   "metadata": {},
   "outputs": [
    {
     "data": {
      "text/plain": [
       "6"
      ]
     },
     "execution_count": 2,
     "metadata": {},
     "output_type": "execute_result"
    }
   ],
   "source": [
    "\n",
    "data = pn.read_csv(\"C:/Users/Moshiur/Desktop/Moshiur/Promoter/New Dataset/types_of_promoter0123.csv\",header=None)\n",
    "data=np.asarray(data)\n",
    "data = np.delete(data, (0), axis=0)\n",
    "data = np.delete(data, (0), axis=1)\n",
    "X=data[:,:data.shape[1]-1]\n",
    "y=data[:,-1:]\n",
    "#X=X.astype(int)\n",
    "X_len=len(X)\n",
    "max_value=float(X.max())\n",
    "#X=X/max_value\n",
    "\n",
    "\n",
    "\n",
    "X_train, X_test, y_train, y_test = train_test_split(\n",
    "     X, y, test_size=0.33,random_state=40)\n",
    "\n",
    "X.shape\n",
    "X_train = X_train.reshape(len(X_train),81,1)\n",
    "X_test = X_test.reshape(len(X_test),81,1)\n",
    "#X_test = X_test.reshape(1650,20,20)\n",
    "\n",
    "number_of_class=len(np.unique(y_train))\n",
    "\n",
    "y_train = np.unique(y_train, return_inverse=True)[1].tolist()\n",
    "X=X[:,1]\n",
    "y_test=np.unique(y_test, return_inverse=True)[1].tolist()\n",
    "\n",
    "#max_value\n",
    "y_test\n",
    "X_train.shape\n",
    "number_of_class"
   ]
  },
  {
   "cell_type": "code",
   "execution_count": 3,
   "metadata": {},
   "outputs": [
    {
     "data": {
      "text/plain": [
       "array([0., 0., 0., 0., 0., 1.], dtype=float32)"
      ]
     },
     "execution_count": 3,
     "metadata": {},
     "output_type": "execute_result"
    }
   ],
   "source": [
    "y_train = to_categorical(y_train)\n",
    "y_test = to_categorical(y_test)\n",
    "y_train[0]"
   ]
  },
  {
   "cell_type": "code",
   "execution_count": 6,
   "metadata": {},
   "outputs": [
    {
     "name": "stdout",
     "output_type": "stream",
     "text": [
      "_________________________________________________________________\n",
      "Layer (type)                 Output Shape              Param #   \n",
      "=================================================================\n",
      "conv1d_6 (Conv1D)            (None, 79, 81)            324       \n",
      "_________________________________________________________________\n",
      "conv1d_7 (Conv1D)            (None, 77, 60)            14640     \n",
      "_________________________________________________________________\n",
      "conv1d_8 (Conv1D)            (None, 75, 39)            7059      \n",
      "_________________________________________________________________\n",
      "conv1d_9 (Conv1D)            (None, 73, 25)            2950      \n",
      "_________________________________________________________________\n",
      "conv1d_10 (Conv1D)           (None, 71, 12)            912       \n",
      "_________________________________________________________________\n",
      "flatten_2 (Flatten)          (None, 852)               0         \n",
      "_________________________________________________________________\n",
      "dense_2 (Dense)              (None, 6)                 5118      \n",
      "=================================================================\n",
      "Total params: 31,003\n",
      "Trainable params: 31,003\n",
      "Non-trainable params: 0\n",
      "_________________________________________________________________\n"
     ]
    }
   ],
   "source": [
    "model = Sequential()\n",
    "#add model layers\n",
    "model.add(Conv1D(81, kernel_size=3, activation='relu', input_shape=(81,1)))\n",
    "#model.add(MaxPooling1D(pool_size=3, strides=1, padding='valid'))\n",
    "model.add(Conv1D(60, kernel_size=3, activation='relu'))\n",
    "model.add(Conv1D(39, kernel_size=3, activation='relu'))\n",
    "\n",
    "model.add(Conv1D(25, kernel_size=3, activation='relu'))\n",
    "model.add(Conv1D(12, kernel_size=3, activation='relu'))\n",
    "\n",
    "\n",
    "model.add(Flatten())\n",
    "model.add(Dense(6, activation='softmax'))\n",
    "\n",
    "model.summary()"
   ]
  },
  {
   "cell_type": "code",
   "execution_count": 7,
   "metadata": {},
   "outputs": [
    {
     "name": "stdout",
     "output_type": "stream",
     "text": [
      "Train on 1916 samples, validate on 944 samples\n",
      "Epoch 1/10\n",
      "1916/1916 [==============================] - 5s 3ms/step - loss: 1.3029 - acc: 0.5835 - val_loss: 1.3689 - val_acc: 0.5805\n",
      "Epoch 2/10\n",
      "1916/1916 [==============================] - 4s 2ms/step - loss: 1.1636 - acc: 0.6023 - val_loss: 1.1523 - val_acc: 0.5890\n",
      "Epoch 3/10\n",
      "1916/1916 [==============================] - 4s 2ms/step - loss: 1.0223 - acc: 0.6472 - val_loss: 1.1002 - val_acc: 0.6388\n",
      "Epoch 4/10\n",
      "1916/1916 [==============================] - 3s 1ms/step - loss: 0.9272 - acc: 0.6801 - val_loss: 1.0684 - val_acc: 0.6568\n",
      "Epoch 5/10\n",
      "1916/1916 [==============================] - 3s 2ms/step - loss: 0.8330 - acc: 0.6968 - val_loss: 1.0470 - val_acc: 0.6557\n",
      "Epoch 6/10\n",
      "1916/1916 [==============================] - 3s 1ms/step - loss: 0.7395 - acc: 0.7427 - val_loss: 1.0647 - val_acc: 0.6631\n",
      "Epoch 7/10\n",
      "1916/1916 [==============================] - 3s 2ms/step - loss: 0.6837 - acc: 0.7589 - val_loss: 1.1014 - val_acc: 0.6684\n",
      "Epoch 8/10\n",
      "1916/1916 [==============================] - 3s 1ms/step - loss: 0.6216 - acc: 0.7834 - val_loss: 1.0386 - val_acc: 0.6822\n",
      "Epoch 9/10\n",
      "1916/1916 [==============================] - 3s 2ms/step - loss: 0.5537 - acc: 0.8038 - val_loss: 1.1137 - val_acc: 0.6769\n",
      "Epoch 10/10\n",
      "1916/1916 [==============================] - 4s 2ms/step - loss: 0.5125 - acc: 0.8246 - val_loss: 1.0734 - val_acc: 0.6928\n"
     ]
    },
    {
     "data": {
      "text/plain": [
       "<keras.callbacks.History at 0x23646101b70>"
      ]
     },
     "execution_count": 7,
     "metadata": {},
     "output_type": "execute_result"
    }
   ],
   "source": [
    "#compile model using accuracy to measure model performance\n",
    "model.compile(optimizer='adam', loss='categorical_crossentropy', metrics=['accuracy'])\n",
    "#train the model\n",
    "model.fit(X_train, y_train, validation_data=(X_test, y_test), epochs=10)"
   ]
  },
  {
   "cell_type": "code",
   "execution_count": null,
   "metadata": {},
   "outputs": [],
   "source": []
  }
 ],
 "metadata": {
  "kernelspec": {
   "display_name": "tf",
   "language": "python",
   "name": "tf"
  },
  "language_info": {
   "codemirror_mode": {
    "name": "ipython",
    "version": 3
   },
   "file_extension": ".py",
   "mimetype": "text/x-python",
   "name": "python",
   "nbconvert_exporter": "python",
   "pygments_lexer": "ipython3",
   "version": "3.6.6"
  }
 },
 "nbformat": 4,
 "nbformat_minor": 2
}
