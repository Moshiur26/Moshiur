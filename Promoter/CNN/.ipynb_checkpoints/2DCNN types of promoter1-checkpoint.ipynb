{
 "cells": [
  {
   "cell_type": "code",
   "execution_count": 14,
   "metadata": {},
   "outputs": [],
   "source": [
    "import keras\n",
    "from keras import backend as K\n",
    "from keras.models import Sequential,Model\n",
    "from keras.layers import Activation\n",
    "from keras.layers import Dense,Input,Conv2D,MaxPooling2D,UpSampling2D,Flatten,Reshape\n",
    "from keras.optimizers import Adam\n",
    "from keras.metrics import categorical_crossentropy\n",
    "from keras.utils import to_categorical\n",
    "\n",
    "import matplotlib.pyplot as plt\n",
    "import numpy as np\n",
    "import pandas as pn\n",
    "from sklearn.model_selection import train_test_split"
   ]
  },
  {
   "cell_type": "code",
   "execution_count": 20,
   "metadata": {},
   "outputs": [
    {
     "data": {
      "text/plain": [
       "2"
      ]
     },
     "execution_count": 20,
     "metadata": {},
     "output_type": "execute_result"
    }
   ],
   "source": [
    "\n",
    "data = pn.read_csv(\"C:/Users/Moshiur/Desktop/Moshiur/Promoter/New Dataset/promoter1234.csv\",header=None)\n",
    "data=np.asarray(data)\n",
    "data = np.delete(data, (0), axis=0)\n",
    "data = np.delete(data, (0), axis=1)\n",
    "X=data[:,:data.shape[1]-1]\n",
    "y=data[:,-1:]\n",
    "#X=X.astype(int)\n",
    "X_len=len(X)\n",
    "max_value=float(X.max())\n",
    "#X=X/max_value\n",
    "\n",
    "\n",
    "\n",
    "X_train, X_test, y_train, y_test = train_test_split(\n",
    "     X, y, test_size=0.33,random_state=40)\n",
    "\n",
    "X.shape\n",
    "X_train = X_train.reshape(len(X_train),9,9,1)\n",
    "X_test = X_test.reshape(len(X_test),9,9,1)\n",
    "#X_test = X_test.reshape(1650,20,20)\n",
    "\n",
    "number_of_class=len(np.unique(y_train))\n",
    "\n",
    "y_train = np.unique(y_train, return_inverse=True)[1].tolist()\n",
    "X=X[:,1]\n",
    "y_test=np.unique(y_test, return_inverse=True)[1].tolist()\n",
    "\n",
    "#max_value\n",
    "y_test\n",
    "X_train.shape\n",
    "number_of_class"
   ]
  },
  {
   "cell_type": "code",
   "execution_count": 16,
   "metadata": {},
   "outputs": [
    {
     "data": {
      "text/plain": [
       "array([1., 0.], dtype=float32)"
      ]
     },
     "execution_count": 16,
     "metadata": {},
     "output_type": "execute_result"
    }
   ],
   "source": [
    "y_train = to_categorical(y_train)\n",
    "y_test = to_categorical(y_test)\n",
    "y_train[0]"
   ]
  },
  {
   "cell_type": "code",
   "execution_count": 17,
   "metadata": {},
   "outputs": [
    {
     "name": "stdout",
     "output_type": "stream",
     "text": [
      "_________________________________________________________________\n",
      "Layer (type)                 Output Shape              Param #   \n",
      "=================================================================\n",
      "conv2d_4 (Conv2D)            (None, 8, 8, 64)          320       \n",
      "_________________________________________________________________\n",
      "conv2d_5 (Conv2D)            (None, 7, 7, 32)          8224      \n",
      "_________________________________________________________________\n",
      "conv2d_6 (Conv2D)            (None, 6, 6, 16)          2064      \n",
      "_________________________________________________________________\n",
      "flatten_2 (Flatten)          (None, 576)               0         \n",
      "_________________________________________________________________\n",
      "dense_2 (Dense)              (None, 2)                 1154      \n",
      "=================================================================\n",
      "Total params: 11,762\n",
      "Trainable params: 11,762\n",
      "Non-trainable params: 0\n",
      "_________________________________________________________________\n"
     ]
    }
   ],
   "source": [
    "model = Sequential()\n",
    "#add model layers\n",
    "model.add(Conv2D(64, kernel_size=2, activation='relu', input_shape=(9,9,1)))\n",
    "model.add(Conv2D(32, kernel_size=2, activation='relu'))\n",
    "model.add(Conv2D(16, kernel_size=2, activation='relu'))\n",
    "model.add(Flatten())\n",
    "model.add(Dense(6, activation='softmax'))\n",
    "\n",
    "model.summary()"
   ]
  },
  {
   "cell_type": "code",
   "execution_count": 19,
   "metadata": {},
   "outputs": [
    {
     "name": "stdout",
     "output_type": "stream",
     "text": [
      "Train on 3832 samples, validate on 1888 samples\n",
      "Epoch 1/20\n",
      "3832/3832 [==============================] - 2s 536us/step - loss: 0.5396 - acc: 0.7325 - val_loss: 0.5454 - val_acc: 0.7198\n",
      "Epoch 2/20\n",
      "3832/3832 [==============================] - 1s 314us/step - loss: 0.5204 - acc: 0.7523 - val_loss: 0.5274 - val_acc: 0.7410\n",
      "Epoch 3/20\n",
      "3832/3832 [==============================] - 1s 339us/step - loss: 0.5031 - acc: 0.7513 - val_loss: 0.5356 - val_acc: 0.7331\n",
      "Epoch 4/20\n",
      "3832/3832 [==============================] - 1s 340us/step - loss: 0.4847 - acc: 0.7696 - val_loss: 0.5361 - val_acc: 0.7336\n",
      "Epoch 5/20\n",
      "3832/3832 [==============================] - 1s 317us/step - loss: 0.4817 - acc: 0.7693 - val_loss: 0.5075 - val_acc: 0.7606\n",
      "Epoch 6/20\n",
      "3832/3832 [==============================] - 1s 331us/step - loss: 0.4660 - acc: 0.7779 - val_loss: 0.5130 - val_acc: 0.7537\n",
      "Epoch 7/20\n",
      "3832/3832 [==============================] - 1s 343us/step - loss: 0.4584 - acc: 0.7858 - val_loss: 0.4960 - val_acc: 0.7648\n",
      "Epoch 8/20\n",
      "3832/3832 [==============================] - 1s 339us/step - loss: 0.4562 - acc: 0.7897 - val_loss: 0.4996 - val_acc: 0.7632\n",
      "Epoch 9/20\n",
      "3832/3832 [==============================] - 1s 344us/step - loss: 0.4327 - acc: 0.7928 - val_loss: 0.5354 - val_acc: 0.7378\n",
      "Epoch 10/20\n",
      "3832/3832 [==============================] - 1s 348us/step - loss: 0.4315 - acc: 0.7975 - val_loss: 0.4843 - val_acc: 0.7675\n",
      "Epoch 11/20\n",
      "3832/3832 [==============================] - 1s 354us/step - loss: 0.4166 - acc: 0.8077 - val_loss: 0.5049 - val_acc: 0.7638\n",
      "Epoch 12/20\n",
      "3832/3832 [==============================] - 1s 356us/step - loss: 0.4046 - acc: 0.8160 - val_loss: 0.4889 - val_acc: 0.7648\n",
      "Epoch 13/20\n",
      "3832/3832 [==============================] - 2s 439us/step - loss: 0.4009 - acc: 0.8181 - val_loss: 0.4911 - val_acc: 0.7691\n",
      "Epoch 14/20\n",
      "3832/3832 [==============================] - 1s 353us/step - loss: 0.3957 - acc: 0.8218 - val_loss: 0.5000 - val_acc: 0.7701\n",
      "Epoch 15/20\n",
      "3832/3832 [==============================] - 1s 343us/step - loss: 0.3843 - acc: 0.8236 - val_loss: 0.4829 - val_acc: 0.7696\n",
      "Epoch 16/20\n",
      "3832/3832 [==============================] - 1s 348us/step - loss: 0.3800 - acc: 0.8299 - val_loss: 0.4760 - val_acc: 0.7760\n",
      "Epoch 17/20\n",
      "3832/3832 [==============================] - 1s 348us/step - loss: 0.3643 - acc: 0.8364 - val_loss: 0.4823 - val_acc: 0.7728\n",
      "Epoch 18/20\n",
      "3832/3832 [==============================] - 1s 387us/step - loss: 0.3525 - acc: 0.8515 - val_loss: 0.5313 - val_acc: 0.7542\n",
      "Epoch 19/20\n",
      "3832/3832 [==============================] - 1s 336us/step - loss: 0.3424 - acc: 0.8549 - val_loss: 0.4827 - val_acc: 0.7812\n",
      "Epoch 20/20\n",
      "3832/3832 [==============================] - 1s 347us/step - loss: 0.3410 - acc: 0.8528 - val_loss: 0.4831 - val_acc: 0.7744\n"
     ]
    },
    {
     "data": {
      "text/plain": [
       "<keras.callbacks.History at 0x26f4086fa58>"
      ]
     },
     "execution_count": 19,
     "metadata": {},
     "output_type": "execute_result"
    }
   ],
   "source": [
    "#compile model using accuracy to measure model performance\n",
    "model.compile(optimizer='adam', loss='categorical_crossentropy', metrics=['accuracy'])\n",
    "#train the model\n",
    "model.fit(X_train, y_train, validation_data=(X_test, y_test), epochs=20)"
   ]
  },
  {
   "cell_type": "code",
   "execution_count": null,
   "metadata": {},
   "outputs": [],
   "source": []
  }
 ],
 "metadata": {
  "kernelspec": {
   "display_name": "tf",
   "language": "python",
   "name": "tf"
  },
  "language_info": {
   "codemirror_mode": {
    "name": "ipython",
    "version": 3
   },
   "file_extension": ".py",
   "mimetype": "text/x-python",
   "name": "python",
   "nbconvert_exporter": "python",
   "pygments_lexer": "ipython3",
   "version": "3.6.6"
  }
 },
 "nbformat": 4,
 "nbformat_minor": 2
}
