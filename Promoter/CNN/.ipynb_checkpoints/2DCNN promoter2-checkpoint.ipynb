{
 "cells": [
  {
   "cell_type": "code",
   "execution_count": 1,
   "metadata": {},
   "outputs": [
    {
     "name": "stderr",
     "output_type": "stream",
     "text": [
      "Using TensorFlow backend.\n"
     ]
    }
   ],
   "source": [
    "import keras\n",
    "from keras import backend as K\n",
    "from keras.models import Sequential,Model\n",
    "from keras.layers import Activation\n",
    "from keras.layers import Dense,Input,Conv2D,MaxPooling2D,UpSampling2D,Flatten,Reshape\n",
    "from keras.optimizers import Adam\n",
    "from keras.metrics import categorical_crossentropy\n",
    "from keras.utils import to_categorical\n",
    "\n",
    "import matplotlib.pyplot as plt\n",
    "import numpy as np\n",
    "import pandas as pn\n",
    "from sklearn.model_selection import train_test_split"
   ]
  },
  {
   "cell_type": "code",
   "execution_count": 2,
   "metadata": {},
   "outputs": [
    {
     "data": {
      "text/plain": [
       "(3832, 9, 9, 1)"
      ]
     },
     "execution_count": 2,
     "metadata": {},
     "output_type": "execute_result"
    }
   ],
   "source": [
    "\n",
    "data = pn.read_csv(\"C:/Users/Moshiur/Desktop/Moshiur/Promoter/New Dataset/promoter1234.csv\",header=None)\n",
    "data=np.asarray(data)\n",
    "data = np.delete(data, (0), axis=0)\n",
    "data = np.delete(data, (0), axis=1)\n",
    "X=data[:,:data.shape[1]-1]\n",
    "y=data[:,-1:]\n",
    "#X=X.astype(int)\n",
    "X_len=len(X)\n",
    "max_value=float(X.max())\n",
    "#X=X/max_value\n",
    "\n",
    "\n",
    "\n",
    "X_train, X_test, y_train, y_test = train_test_split(\n",
    "     X, y, test_size=0.33,random_state=40)\n",
    "\n",
    "X.shape\n",
    "X_train = X_train.reshape(len(X_train),9,9,1)\n",
    "X_test = X_test.reshape(len(X_test),9,9,1)\n",
    "#X_test = X_test.reshape(1650,20,20)\n",
    "\n",
    "\n",
    "y_train = np.unique(y_train, return_inverse=True)[1].tolist()\n",
    "X=X[:,1]\n",
    "y_test=np.unique(y_test, return_inverse=True)[1].tolist()\n",
    "\n",
    "#max_value\n",
    "y_test\n",
    "X_train.shape"
   ]
  },
  {
   "cell_type": "code",
   "execution_count": 3,
   "metadata": {},
   "outputs": [
    {
     "data": {
      "text/plain": [
       "array([1., 0.], dtype=float32)"
      ]
     },
     "execution_count": 3,
     "metadata": {},
     "output_type": "execute_result"
    }
   ],
   "source": [
    "y_train = to_categorical(y_train)\n",
    "y_test = to_categorical(y_test)\n",
    "y_train[0]"
   ]
  },
  {
   "cell_type": "code",
   "execution_count": 4,
   "metadata": {},
   "outputs": [
    {
     "name": "stdout",
     "output_type": "stream",
     "text": [
      "_________________________________________________________________\n",
      "Layer (type)                 Output Shape              Param #   \n",
      "=================================================================\n",
      "conv2d_1 (Conv2D)            (None, 7, 8, 64)          448       \n",
      "_________________________________________________________________\n",
      "conv2d_2 (Conv2D)            (None, 6, 7, 32)          8224      \n",
      "_________________________________________________________________\n",
      "conv2d_3 (Conv2D)            (None, 5, 6, 16)          2064      \n",
      "_________________________________________________________________\n",
      "flatten_1 (Flatten)          (None, 480)               0         \n",
      "_________________________________________________________________\n",
      "dense_1 (Dense)              (None, 2)                 962       \n",
      "=================================================================\n",
      "Total params: 11,698\n",
      "Trainable params: 11,698\n",
      "Non-trainable params: 0\n",
      "_________________________________________________________________\n"
     ]
    }
   ],
   "source": [
    "model = Sequential()\n",
    "#add model layers\n",
    "model.add(Conv2D(64, (3,2), activation='relu', input_shape=(9,9,1)))\n",
    "model.add(Conv2D(32, kernel_size=2, activation='relu'))\n",
    "model.add(Conv2D(16, kernel_size=2, activation='relu'))\n",
    "#model.add(Conv2D(8, kernel_size=2, activation='relu'))\n",
    "#model.add(Conv2D(4, kernel_size=2, activation='relu'))\n",
    "model.add(Flatten())\n",
    "model.add(Dense(2, activation='softmax'))\n",
    "\n",
    "model.summary()"
   ]
  },
  {
   "cell_type": "code",
   "execution_count": 5,
   "metadata": {},
   "outputs": [
    {
     "name": "stdout",
     "output_type": "stream",
     "text": [
      "Train on 3832 samples, validate on 1888 samples\n",
      "Epoch 1/20\n",
      "3832/3832 [==============================] - 3s 700us/step - loss: 0.5990 - acc: 0.6775 - val_loss: 0.5283 - val_acc: 0.7426\n",
      "Epoch 2/20\n",
      "3832/3832 [==============================] - 1s 315us/step - loss: 0.4955 - acc: 0.7670 - val_loss: 0.5182 - val_acc: 0.7526\n",
      "Epoch 3/20\n",
      "3832/3832 [==============================] - 1s 295us/step - loss: 0.4679 - acc: 0.7863 - val_loss: 0.5073 - val_acc: 0.7617\n",
      "Epoch 4/20\n",
      "3832/3832 [==============================] - 1s 305us/step - loss: 0.4510 - acc: 0.7983 - val_loss: 0.4823 - val_acc: 0.7760\n",
      "Epoch 5/20\n",
      "3832/3832 [==============================] - 1s 319us/step - loss: 0.4297 - acc: 0.8038 - val_loss: 0.4947 - val_acc: 0.7701\n",
      "Epoch 6/20\n",
      "3832/3832 [==============================] - 1s 324us/step - loss: 0.4253 - acc: 0.8145 - val_loss: 0.4901 - val_acc: 0.7770\n",
      "Epoch 7/20\n",
      "3832/3832 [==============================] - 1s 318us/step - loss: 0.4117 - acc: 0.8210 - val_loss: 0.5118 - val_acc: 0.7638\n",
      "Epoch 8/20\n",
      "3832/3832 [==============================] - 1s 322us/step - loss: 0.4087 - acc: 0.8202 - val_loss: 0.4709 - val_acc: 0.7834\n",
      "Epoch 9/20\n",
      "3832/3832 [==============================] - 1s 335us/step - loss: 0.3821 - acc: 0.8387 - val_loss: 0.4867 - val_acc: 0.7775\n",
      "Epoch 10/20\n",
      "3832/3832 [==============================] - 1s 365us/step - loss: 0.3720 - acc: 0.8390 - val_loss: 0.4885 - val_acc: 0.7828\n",
      "Epoch 11/20\n",
      "3832/3832 [==============================] - 1s 326us/step - loss: 0.3696 - acc: 0.8416 - val_loss: 0.4835 - val_acc: 0.7786\n",
      "Epoch 12/20\n",
      "3832/3832 [==============================] - 1s 318us/step - loss: 0.3608 - acc: 0.8432 - val_loss: 0.4946 - val_acc: 0.7701\n",
      "Epoch 13/20\n",
      "3832/3832 [==============================] - 1s 309us/step - loss: 0.3436 - acc: 0.8515 - val_loss: 0.4936 - val_acc: 0.7659\n",
      "Epoch 14/20\n",
      "3832/3832 [==============================] - 1s 318us/step - loss: 0.3347 - acc: 0.8544 - val_loss: 0.4834 - val_acc: 0.7744\n",
      "Epoch 15/20\n",
      "3832/3832 [==============================] - 1s 323us/step - loss: 0.3220 - acc: 0.8627 - val_loss: 0.4850 - val_acc: 0.7876\n",
      "Epoch 16/20\n",
      "3832/3832 [==============================] - 1s 334us/step - loss: 0.3072 - acc: 0.8724 - val_loss: 0.4954 - val_acc: 0.7844\n",
      "Epoch 17/20\n",
      "3832/3832 [==============================] - 1s 325us/step - loss: 0.2959 - acc: 0.8719 - val_loss: 0.4964 - val_acc: 0.7781\n",
      "Epoch 18/20\n",
      "3832/3832 [==============================] - 1s 318us/step - loss: 0.2818 - acc: 0.8794 - val_loss: 0.4946 - val_acc: 0.7839\n",
      "Epoch 19/20\n",
      "3832/3832 [==============================] - 1s 367us/step - loss: 0.2724 - acc: 0.8849 - val_loss: 0.5253 - val_acc: 0.7881\n",
      "Epoch 20/20\n",
      "3832/3832 [==============================] - 1s 324us/step - loss: 0.2591 - acc: 0.8967 - val_loss: 0.5176 - val_acc: 0.7871\n"
     ]
    },
    {
     "data": {
      "text/plain": [
       "<keras.callbacks.History at 0x2613ac82c18>"
      ]
     },
     "execution_count": 5,
     "metadata": {},
     "output_type": "execute_result"
    }
   ],
   "source": [
    "#compile model using accuracy to measure model performance\n",
    "model.compile(optimizer='adam', loss='categorical_crossentropy', metrics=['accuracy'])\n",
    "#train the model\n",
    "model.fit(X_train, y_train, validation_data=(X_test, y_test), epochs=20)"
   ]
  },
  {
   "cell_type": "code",
   "execution_count": null,
   "metadata": {},
   "outputs": [],
   "source": []
  }
 ],
 "metadata": {
  "kernelspec": {
   "display_name": "tf",
   "language": "python",
   "name": "tf"
  },
  "language_info": {
   "codemirror_mode": {
    "name": "ipython",
    "version": 3
   },
   "file_extension": ".py",
   "mimetype": "text/x-python",
   "name": "python",
   "nbconvert_exporter": "python",
   "pygments_lexer": "ipython3",
   "version": "3.6.6"
  }
 },
 "nbformat": 4,
 "nbformat_minor": 2
}
