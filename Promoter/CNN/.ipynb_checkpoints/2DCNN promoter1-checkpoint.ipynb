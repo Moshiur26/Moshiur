{
 "cells": [
  {
   "cell_type": "code",
   "execution_count": 1,
   "metadata": {},
   "outputs": [
    {
     "name": "stderr",
     "output_type": "stream",
     "text": [
      "Using TensorFlow backend.\n"
     ]
    }
   ],
   "source": [
    "import keras\n",
    "from keras import backend as K\n",
    "from keras.models import Sequential,Model\n",
    "from keras.layers import Activation\n",
    "from keras.layers import Dense,Input,Conv2D,MaxPooling2D,UpSampling2D,Flatten,Reshape\n",
    "from keras.optimizers import Adam\n",
    "from keras.metrics import categorical_crossentropy\n",
    "from keras.utils import to_categorical\n",
    "\n",
    "import matplotlib.pyplot as plt\n",
    "import numpy as np\n",
    "import pandas as pn\n",
    "from sklearn.model_selection import train_test_split"
   ]
  },
  {
   "cell_type": "code",
   "execution_count": 2,
   "metadata": {},
   "outputs": [
    {
     "data": {
      "text/plain": [
       "(3832, 9, 9, 1)"
      ]
     },
     "execution_count": 2,
     "metadata": {},
     "output_type": "execute_result"
    }
   ],
   "source": [
    "\n",
    "data = pn.read_csv(\"C:/Users/Moshiur/Desktop/Moshiur/Promoter/New Dataset/promoter1234.csv\",header=None)\n",
    "data=np.asarray(data)\n",
    "data = np.delete(data, (0), axis=0)\n",
    "data = np.delete(data, (0), axis=1)\n",
    "X=data[:,:data.shape[1]-1]\n",
    "y=data[:,-1:]\n",
    "#X=X.astype(int)\n",
    "X_len=len(X)\n",
    "max_value=float(X.max())\n",
    "#X=X/max_value\n",
    "\n",
    "\n",
    "\n",
    "X_train, X_test, y_train, y_test = train_test_split(\n",
    "     X, y, test_size=0.33,random_state=40)\n",
    "\n",
    "X.shape\n",
    "X_train = X_train.reshape(len(X_train),9,9,1)\n",
    "X_test = X_test.reshape(len(X_test),9,9,1)\n",
    "#X_test = X_test.reshape(1650,20,20)\n",
    "\n",
    "\n",
    "y_train = np.unique(y_train, return_inverse=True)[1].tolist()\n",
    "X=X[:,1]\n",
    "y_test=np.unique(y_test, return_inverse=True)[1].tolist()\n",
    "\n",
    "#max_value\n",
    "y_test\n",
    "X_train.shape"
   ]
  },
  {
   "cell_type": "code",
   "execution_count": 3,
   "metadata": {},
   "outputs": [
    {
     "data": {
      "text/plain": [
       "array([1., 0.], dtype=float32)"
      ]
     },
     "execution_count": 3,
     "metadata": {},
     "output_type": "execute_result"
    }
   ],
   "source": [
    "y_train = to_categorical(y_train)\n",
    "y_test = to_categorical(y_test)\n",
    "y_train[0]"
   ]
  },
  {
   "cell_type": "code",
   "execution_count": 16,
   "metadata": {},
   "outputs": [
    {
     "name": "stdout",
     "output_type": "stream",
     "text": [
      "_________________________________________________________________\n",
      "Layer (type)                 Output Shape              Param #   \n",
      "=================================================================\n",
      "conv2d_25 (Conv2D)           (None, 7, 7, 64)          640       \n",
      "_________________________________________________________________\n",
      "conv2d_26 (Conv2D)           (None, 5, 5, 32)          18464     \n",
      "_________________________________________________________________\n",
      "conv2d_27 (Conv2D)           (None, 4, 4, 16)          2064      \n",
      "_________________________________________________________________\n",
      "flatten_7 (Flatten)          (None, 256)               0         \n",
      "_________________________________________________________________\n",
      "dense_7 (Dense)              (None, 2)                 514       \n",
      "=================================================================\n",
      "Total params: 21,682\n",
      "Trainable params: 21,682\n",
      "Non-trainable params: 0\n",
      "_________________________________________________________________\n"
     ]
    }
   ],
   "source": [
    "model = Sequential()\n",
    "#add model layers\n",
    "model.add(Conv2D(64, kernel_size=3, activation='relu', input_shape=(9,9,1)))\n",
    "model.add(Conv2D(32, kernel_size=3, activation='relu'))\n",
    "model.add(Conv2D(16, kernel_size=2, activation='relu'))\n",
    "#model.add(Conv2D(8, kernel_size=2, activation='relu'))\n",
    "#model.add(Conv2D(4, kernel_size=2, activation='relu'))\n",
    "model.add(Flatten())\n",
    "model.add(Dense(2, activation='softmax'))\n",
    "\n",
    "model.summary()"
   ]
  },
  {
   "cell_type": "code",
   "execution_count": 17,
   "metadata": {},
   "outputs": [
    {
     "name": "stdout",
     "output_type": "stream",
     "text": [
      "Train on 3832 samples, validate on 1888 samples\n",
      "Epoch 1/20\n",
      "3832/3832 [==============================] - 2s 613us/step - loss: 0.6670 - acc: 0.5814 - val_loss: 0.6488 - val_acc: 0.6160\n",
      "Epoch 2/20\n",
      "3832/3832 [==============================] - 1s 341us/step - loss: 0.6129 - acc: 0.6610 - val_loss: 0.6138 - val_acc: 0.6562\n",
      "Epoch 3/20\n",
      "3832/3832 [==============================] - 1s 370us/step - loss: 0.5758 - acc: 0.6934 - val_loss: 0.6045 - val_acc: 0.6780\n",
      "Epoch 4/20\n",
      "3832/3832 [==============================] - 1s 374us/step - loss: 0.5664 - acc: 0.7088 - val_loss: 0.5813 - val_acc: 0.6907\n",
      "Epoch 5/20\n",
      "3832/3832 [==============================] - 1s 320us/step - loss: 0.5310 - acc: 0.7338 - val_loss: 0.5602 - val_acc: 0.7182\n",
      "Epoch 6/20\n",
      "3832/3832 [==============================] - 1s 330us/step - loss: 0.5294 - acc: 0.7375 - val_loss: 0.5622 - val_acc: 0.7188\n",
      "Epoch 7/20\n",
      "3832/3832 [==============================] - 1s 351us/step - loss: 0.5082 - acc: 0.7466 - val_loss: 0.5984 - val_acc: 0.6838\n",
      "Epoch 8/20\n",
      "3832/3832 [==============================] - 1s 359us/step - loss: 0.4827 - acc: 0.7667 - val_loss: 0.5396 - val_acc: 0.7304\n",
      "Epoch 9/20\n",
      "3832/3832 [==============================] - 1s 329us/step - loss: 0.4713 - acc: 0.7769 - val_loss: 0.5500 - val_acc: 0.7341\n",
      "Epoch 10/20\n",
      "3832/3832 [==============================] - 2s 410us/step - loss: 0.4579 - acc: 0.7824 - val_loss: 0.7091 - val_acc: 0.6202\n",
      "Epoch 11/20\n",
      "3832/3832 [==============================] - 2s 486us/step - loss: 0.4514 - acc: 0.7871 - val_loss: 0.5249 - val_acc: 0.7463\n",
      "Epoch 12/20\n",
      "3832/3832 [==============================] - 2s 453us/step - loss: 0.4254 - acc: 0.8085 - val_loss: 0.5325 - val_acc: 0.7336\n",
      "Epoch 13/20\n",
      "3832/3832 [==============================] - 2s 485us/step - loss: 0.4162 - acc: 0.8100 - val_loss: 0.5612 - val_acc: 0.7225\n",
      "Epoch 14/20\n",
      "3832/3832 [==============================] - 1s 324us/step - loss: 0.4056 - acc: 0.8173 - val_loss: 0.5337 - val_acc: 0.7352\n",
      "Epoch 15/20\n",
      "3832/3832 [==============================] - 1s 303us/step - loss: 0.3959 - acc: 0.8254 - val_loss: 0.5864 - val_acc: 0.7214\n",
      "Epoch 16/20\n",
      "3832/3832 [==============================] - 1s 309us/step - loss: 0.3648 - acc: 0.8351 - val_loss: 0.5252 - val_acc: 0.7431\n",
      "Epoch 17/20\n",
      "3832/3832 [==============================] - 1s 280us/step - loss: 0.3500 - acc: 0.8426 - val_loss: 0.7028 - val_acc: 0.6647\n",
      "Epoch 18/20\n",
      "3832/3832 [==============================] - 1s 301us/step - loss: 0.3456 - acc: 0.8497 - val_loss: 0.5579 - val_acc: 0.7352\n",
      "Epoch 19/20\n",
      "3832/3832 [==============================] - 1s 387us/step - loss: 0.3241 - acc: 0.8617 - val_loss: 0.5597 - val_acc: 0.7399\n",
      "Epoch 20/20\n",
      "3832/3832 [==============================] - 1s 301us/step - loss: 0.3054 - acc: 0.8706 - val_loss: 0.5903 - val_acc: 0.7373\n"
     ]
    },
    {
     "data": {
      "text/plain": [
       "<keras.callbacks.History at 0x171d21cf860>"
      ]
     },
     "execution_count": 17,
     "metadata": {},
     "output_type": "execute_result"
    }
   ],
   "source": [
    "#compile model using accuracy to measure model performance\n",
    "model.compile(optimizer='adam', loss='categorical_crossentropy', metrics=['accuracy'])\n",
    "#train the model\n",
    "model.fit(X_train, y_train, validation_data=(X_test, y_test), epochs=20)"
   ]
  },
  {
   "cell_type": "code",
   "execution_count": null,
   "metadata": {},
   "outputs": [],
   "source": []
  }
 ],
 "metadata": {
  "kernelspec": {
   "display_name": "tf",
   "language": "python",
   "name": "tf"
  },
  "language_info": {
   "codemirror_mode": {
    "name": "ipython",
    "version": 3
   },
   "file_extension": ".py",
   "mimetype": "text/x-python",
   "name": "python",
   "nbconvert_exporter": "python",
   "pygments_lexer": "ipython3",
   "version": "3.6.6"
  }
 },
 "nbformat": 4,
 "nbformat_minor": 2
}
