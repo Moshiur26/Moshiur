{
 "cells": [
  {
   "cell_type": "code",
   "execution_count": 1,
   "metadata": {},
   "outputs": [
    {
     "name": "stderr",
     "output_type": "stream",
     "text": [
      "Using TensorFlow backend.\n"
     ]
    }
   ],
   "source": [
    "import keras\n",
    "from keras import backend as K\n",
    "from keras.models import Sequential,Model\n",
    "from keras.layers import Activation\n",
    "from keras.layers import Dense,Input,Conv2D,MaxPooling2D,UpSampling2D,Flatten,Reshape\n",
    "from keras.optimizers import Adam\n",
    "from keras.metrics import categorical_crossentropy\n",
    "from keras.utils import to_categorical\n",
    "\n",
    "import matplotlib.pyplot as plt\n",
    "import numpy as np\n",
    "import pandas as pn\n",
    "from sklearn.model_selection import train_test_split"
   ]
  },
  {
   "cell_type": "code",
   "execution_count": 2,
   "metadata": {},
   "outputs": [
    {
     "data": {
      "text/plain": [
       "6"
      ]
     },
     "execution_count": 2,
     "metadata": {},
     "output_type": "execute_result"
    }
   ],
   "source": [
    "\n",
    "data = pn.read_csv(\"C:/Users/Moshiur/Desktop/Moshiur/Promoter/New Dataset/types_of_promoter0123.csv\",header=None)\n",
    "data=np.asarray(data)\n",
    "data = np.delete(data, (0), axis=0)\n",
    "data = np.delete(data, (0), axis=1)\n",
    "X=data[:,:data.shape[1]-1]\n",
    "y=data[:,-1:]\n",
    "#X=X.astype(int)\n",
    "X_len=len(X)\n",
    "max_value=float(X.max())\n",
    "#X=X/max_value\n",
    "\n",
    "\n",
    "\n",
    "X_train, X_test, y_train, y_test = train_test_split(\n",
    "     X, y, test_size=0.33,random_state=40)\n",
    "\n",
    "X.shape\n",
    "X_train = X_train.reshape(len(X_train),9,9,1)\n",
    "X_test = X_test.reshape(len(X_test),9,9,1)\n",
    "#X_test = X_test.reshape(1650,20,20)\n",
    "\n",
    "number_of_class=len(np.unique(y_train))\n",
    "\n",
    "y_train = np.unique(y_train, return_inverse=True)[1].tolist()\n",
    "X=X[:,1]\n",
    "y_test=np.unique(y_test, return_inverse=True)[1].tolist()\n",
    "\n",
    "#max_value\n",
    "y_test\n",
    "X_train.shape\n",
    "number_of_class"
   ]
  },
  {
   "cell_type": "code",
   "execution_count": 3,
   "metadata": {},
   "outputs": [
    {
     "data": {
      "text/plain": [
       "array([0., 0., 0., 0., 0., 1.], dtype=float32)"
      ]
     },
     "execution_count": 3,
     "metadata": {},
     "output_type": "execute_result"
    }
   ],
   "source": [
    "y_train = to_categorical(y_train)\n",
    "y_test = to_categorical(y_test)\n",
    "y_train[0]"
   ]
  },
  {
   "cell_type": "code",
   "execution_count": 4,
   "metadata": {},
   "outputs": [
    {
     "name": "stdout",
     "output_type": "stream",
     "text": [
      "_________________________________________________________________\n",
      "Layer (type)                 Output Shape              Param #   \n",
      "=================================================================\n",
      "conv2d_1 (Conv2D)            (None, 7, 8, 64)          448       \n",
      "_________________________________________________________________\n",
      "conv2d_2 (Conv2D)            (None, 6, 7, 32)          8224      \n",
      "_________________________________________________________________\n",
      "conv2d_3 (Conv2D)            (None, 5, 6, 16)          2064      \n",
      "_________________________________________________________________\n",
      "flatten_1 (Flatten)          (None, 480)               0         \n",
      "_________________________________________________________________\n",
      "dense_1 (Dense)              (None, 6)                 2886      \n",
      "=================================================================\n",
      "Total params: 13,622\n",
      "Trainable params: 13,622\n",
      "Non-trainable params: 0\n",
      "_________________________________________________________________\n"
     ]
    }
   ],
   "source": [
    "model = Sequential()\n",
    "#add model layers\n",
    "model.add(Conv2D(64, (3,2), activation='relu', input_shape=(9,9,1)))\n",
    "model.add(Conv2D(32, kernel_size=2, activation='relu'))\n",
    "model.add(Conv2D(16, kernel_size=2, activation='relu'))\n",
    "#model.add(Conv2D(8, kernel_size=2, activation='relu'))\n",
    "#model.add(Conv2D(4, kernel_size=2, activation='relu'))\n",
    "model.add(Flatten())\n",
    "model.add(Dense(number_of_class, activation='softmax'))\n",
    "\n",
    "model.summary()"
   ]
  },
  {
   "cell_type": "code",
   "execution_count": 5,
   "metadata": {},
   "outputs": [
    {
     "name": "stdout",
     "output_type": "stream",
     "text": [
      "Train on 1916 samples, validate on 944 samples\n",
      "Epoch 1/20\n",
      "1916/1916 [==============================] - 2s 805us/step - loss: 1.3465 - acc: 0.5621 - val_loss: 1.3124 - val_acc: 0.5805\n",
      "Epoch 2/20\n",
      "1916/1916 [==============================] - 1s 360us/step - loss: 1.1869 - acc: 0.6002 - val_loss: 1.2132 - val_acc: 0.5752\n",
      "Epoch 3/20\n",
      "1916/1916 [==============================] - 1s 306us/step - loss: 1.1006 - acc: 0.6096 - val_loss: 1.1927 - val_acc: 0.5985\n",
      "Epoch 4/20\n",
      "1916/1916 [==============================] - 1s 320us/step - loss: 1.0301 - acc: 0.6347 - val_loss: 1.1436 - val_acc: 0.5985\n",
      "Epoch 5/20\n",
      "1916/1916 [==============================] - 1s 330us/step - loss: 0.9791 - acc: 0.6597 - val_loss: 1.1287 - val_acc: 0.6028\n",
      "Epoch 6/20\n",
      "1916/1916 [==============================] - 1s 322us/step - loss: 0.9192 - acc: 0.6707 - val_loss: 1.1485 - val_acc: 0.6282\n",
      "Epoch 7/20\n",
      "1916/1916 [==============================] - 1s 365us/step - loss: 0.9011 - acc: 0.6816 - val_loss: 1.1691 - val_acc: 0.6186\n",
      "Epoch 8/20\n",
      "1916/1916 [==============================] - 1s 340us/step - loss: 0.8712 - acc: 0.6926 - val_loss: 1.1068 - val_acc: 0.6123\n",
      "Epoch 9/20\n",
      "1916/1916 [==============================] - 1s 330us/step - loss: 0.8242 - acc: 0.7098 - val_loss: 1.1101 - val_acc: 0.6165\n",
      "Epoch 10/20\n",
      "1916/1916 [==============================] - 1s 322us/step - loss: 0.7963 - acc: 0.7098 - val_loss: 1.1008 - val_acc: 0.6155\n",
      "Epoch 11/20\n",
      "1916/1916 [==============================] - 1s 331us/step - loss: 0.7631 - acc: 0.7349 - val_loss: 1.1267 - val_acc: 0.6229\n",
      "Epoch 12/20\n",
      "1916/1916 [==============================] - 1s 382us/step - loss: 0.7292 - acc: 0.7406 - val_loss: 1.1204 - val_acc: 0.6271\n",
      "Epoch 13/20\n",
      "1916/1916 [==============================] - 1s 384us/step - loss: 0.6958 - acc: 0.7458 - val_loss: 1.1297 - val_acc: 0.6356\n",
      "Epoch 14/20\n",
      "1916/1916 [==============================] - 1s 326us/step - loss: 0.6733 - acc: 0.7563 - val_loss: 1.1206 - val_acc: 0.6208\n",
      "Epoch 15/20\n",
      "1916/1916 [==============================] - 1s 330us/step - loss: 0.6364 - acc: 0.7761 - val_loss: 1.1486 - val_acc: 0.6388\n",
      "Epoch 16/20\n",
      "1916/1916 [==============================] - 1s 331us/step - loss: 0.6033 - acc: 0.7891 - val_loss: 1.1474 - val_acc: 0.6345\n",
      "Epoch 17/20\n",
      "1916/1916 [==============================] - 1s 374us/step - loss: 0.5815 - acc: 0.8038 - val_loss: 1.1895 - val_acc: 0.6006\n",
      "Epoch 18/20\n",
      "1916/1916 [==============================] - 1s 374us/step - loss: 0.5482 - acc: 0.8053 - val_loss: 1.1977 - val_acc: 0.6388\n",
      "Epoch 19/20\n",
      "1916/1916 [==============================] - 1s 330us/step - loss: 0.5118 - acc: 0.8299 - val_loss: 1.2261 - val_acc: 0.6133\n",
      "Epoch 20/20\n",
      "1916/1916 [==============================] - 1s 376us/step - loss: 0.4797 - acc: 0.8325 - val_loss: 1.2302 - val_acc: 0.6133\n"
     ]
    },
    {
     "data": {
      "text/plain": [
       "<keras.callbacks.History at 0x1b95eee49b0>"
      ]
     },
     "execution_count": 5,
     "metadata": {},
     "output_type": "execute_result"
    }
   ],
   "source": [
    "#compile model using accuracy to measure model performance\n",
    "model.compile(optimizer='adam', loss='categorical_crossentropy', metrics=['accuracy'])\n",
    "#train the model\n",
    "model.fit(X_train, y_train, validation_data=(X_test, y_test), epochs=20)"
   ]
  },
  {
   "cell_type": "code",
   "execution_count": null,
   "metadata": {},
   "outputs": [],
   "source": []
  }
 ],
 "metadata": {
  "kernelspec": {
   "display_name": "tf",
   "language": "python",
   "name": "tf"
  },
  "language_info": {
   "codemirror_mode": {
    "name": "ipython",
    "version": 3
   },
   "file_extension": ".py",
   "mimetype": "text/x-python",
   "name": "python",
   "nbconvert_exporter": "python",
   "pygments_lexer": "ipython3",
   "version": "3.6.6"
  }
 },
 "nbformat": 4,
 "nbformat_minor": 2
}
