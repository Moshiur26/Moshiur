{
 "cells": [
  {
   "cell_type": "code",
   "execution_count": 1,
   "metadata": {},
   "outputs": [
    {
     "name": "stderr",
     "output_type": "stream",
     "text": [
      "Using TensorFlow backend.\n"
     ]
    }
   ],
   "source": [
    "import keras\n",
    "from keras import backend as K\n",
    "from keras.models import Sequential,Model\n",
    "from keras.layers import Activation\n",
    "from keras.layers import Dense,Input,Conv2D,MaxPooling2D,UpSampling2D,Flatten,Reshape\n",
    "from keras.optimizers import Adam\n",
    "from keras.metrics import categorical_crossentropy\n",
    "from keras.utils import to_categorical\n",
    "\n",
    "import matplotlib.pyplot as plt\n",
    "import numpy as np\n",
    "import pandas as pn\n",
    "from sklearn.model_selection import train_test_split"
   ]
  },
  {
   "cell_type": "code",
   "execution_count": 2,
   "metadata": {},
   "outputs": [
    {
     "data": {
      "text/plain": [
       "6"
      ]
     },
     "execution_count": 2,
     "metadata": {},
     "output_type": "execute_result"
    }
   ],
   "source": [
    "\n",
    "data = pn.read_csv(\"C:/Users/Moshiur/Desktop/Moshiur/Promoter/New Dataset/types_of_promoter0123.csv\",header=None)\n",
    "data=np.asarray(data)\n",
    "data = np.delete(data, (0), axis=0)\n",
    "data = np.delete(data, (0), axis=1)\n",
    "X=data[:,:data.shape[1]-1]\n",
    "y=data[:,-1:]\n",
    "#X=X.astype(int)\n",
    "X_len=len(X)\n",
    "max_value=float(X.max())\n",
    "#X=X/max_value\n",
    "\n",
    "\n",
    "\n",
    "X_train, X_test, y_train, y_test = train_test_split(\n",
    "     X, y, test_size=0.33,random_state=40)\n",
    "\n",
    "X.shape\n",
    "X_train = X_train.reshape(len(X_train),9,9,1)\n",
    "X_test = X_test.reshape(len(X_test),9,9,1)\n",
    "#X_test = X_test.reshape(1650,20,20)\n",
    "\n",
    "number_of_class=len(np.unique(y_train))\n",
    "\n",
    "y_train = np.unique(y_train, return_inverse=True)[1].tolist()\n",
    "X=X[:,1]\n",
    "y_test=np.unique(y_test, return_inverse=True)[1].tolist()\n",
    "\n",
    "#max_value\n",
    "y_test\n",
    "X_train.shape\n",
    "number_of_class"
   ]
  },
  {
   "cell_type": "code",
   "execution_count": 3,
   "metadata": {},
   "outputs": [
    {
     "data": {
      "text/plain": [
       "array([0., 0., 0., 0., 0., 1.], dtype=float32)"
      ]
     },
     "execution_count": 3,
     "metadata": {},
     "output_type": "execute_result"
    }
   ],
   "source": [
    "y_train = to_categorical(y_train)\n",
    "y_test = to_categorical(y_test)\n",
    "y_train[0]"
   ]
  },
  {
   "cell_type": "code",
   "execution_count": 11,
   "metadata": {},
   "outputs": [
    {
     "name": "stdout",
     "output_type": "stream",
     "text": [
      "_________________________________________________________________\n",
      "Layer (type)                 Output Shape              Param #   \n",
      "=================================================================\n",
      "conv2d_13 (Conv2D)           (None, 7, 7, 40)          400       \n",
      "_________________________________________________________________\n",
      "conv2d_14 (Conv2D)           (None, 5, 6, 20)          4820      \n",
      "_________________________________________________________________\n",
      "conv2d_15 (Conv2D)           (None, 4, 5, 10)          810       \n",
      "_________________________________________________________________\n",
      "conv2d_16 (Conv2D)           (None, 3, 5, 5)           105       \n",
      "_________________________________________________________________\n",
      "flatten_4 (Flatten)          (None, 75)                0         \n",
      "_________________________________________________________________\n",
      "dense_4 (Dense)              (None, 5)                 380       \n",
      "_________________________________________________________________\n",
      "dense_5 (Dense)              (None, 6)                 36        \n",
      "=================================================================\n",
      "Total params: 6,551\n",
      "Trainable params: 6,551\n",
      "Non-trainable params: 0\n",
      "_________________________________________________________________\n"
     ]
    }
   ],
   "source": [
    "model = Sequential()\n",
    "#add model layers\n",
    "model.add(Conv2D(40, (3,3), activation='relu', input_shape=(9,9,1)))\n",
    "model.add(Conv2D(20, (3,2), activation='relu'))\n",
    "model.add(Conv2D(10, (2,2), activation='relu'))\n",
    "model.add(Conv2D(5, (2,1), activation='relu'))\n",
    "#model.add(Conv2D(4, kernel_size=2, activation='relu'))\n",
    "model.add(Flatten())\n",
    "model.add(Dense(5, activation='relu'))\n",
    "model.add(Dense(number_of_class, activation='softmax'))\n",
    "\n",
    "model.summary()"
   ]
  },
  {
   "cell_type": "code",
   "execution_count": 12,
   "metadata": {},
   "outputs": [
    {
     "name": "stdout",
     "output_type": "stream",
     "text": [
      "Train on 1916 samples, validate on 944 samples\n",
      "Epoch 1/20\n",
      "1916/1916 [==============================] - 2s 1ms/step - loss: 1.6206 - acc: 0.4963 - val_loss: 1.4894 - val_acc: 0.5805\n",
      "Epoch 2/20\n",
      "1916/1916 [==============================] - 1s 466us/step - loss: 1.4075 - acc: 0.5981 - val_loss: 1.3908 - val_acc: 0.5805\n",
      "Epoch 3/20\n",
      "1916/1916 [==============================] - 1s 471us/step - loss: 1.3119 - acc: 0.5981 - val_loss: 1.2915 - val_acc: 0.5805\n",
      "Epoch 4/20\n",
      "1916/1916 [==============================] - 1s 512us/step - loss: 1.2234 - acc: 0.5981 - val_loss: 1.2474 - val_acc: 0.5805\n",
      "Epoch 5/20\n",
      "1916/1916 [==============================] - 1s 458us/step - loss: 1.1695 - acc: 0.5981 - val_loss: 1.2299 - val_acc: 0.5816\n",
      "Epoch 6/20\n",
      "1916/1916 [==============================] - 1s 454us/step - loss: 1.1363 - acc: 0.6049 - val_loss: 1.2040 - val_acc: 0.5858\n",
      "Epoch 7/20\n",
      "1916/1916 [==============================] - 1s 470us/step - loss: 1.0935 - acc: 0.6117 - val_loss: 1.1848 - val_acc: 0.5805\n",
      "Epoch 8/20\n",
      "1916/1916 [==============================] - 1s 524us/step - loss: 1.0662 - acc: 0.6232 - val_loss: 1.1821 - val_acc: 0.5922\n",
      "Epoch 9/20\n",
      "1916/1916 [==============================] - 1s 486us/step - loss: 1.0466 - acc: 0.6227 - val_loss: 1.2170 - val_acc: 0.5710\n",
      "Epoch 10/20\n",
      "1916/1916 [==============================] - 1s 486us/step - loss: 1.0353 - acc: 0.6289 - val_loss: 1.1817 - val_acc: 0.5805\n",
      "Epoch 11/20\n",
      "1916/1916 [==============================] - 1s 478us/step - loss: 1.0126 - acc: 0.6347 - val_loss: 1.1714 - val_acc: 0.5943\n",
      "Epoch 12/20\n",
      "1916/1916 [==============================] - 1s 549us/step - loss: 0.9901 - acc: 0.6336 - val_loss: 1.1736 - val_acc: 0.5953\n",
      "Epoch 13/20\n",
      "1916/1916 [==============================] - 1s 475us/step - loss: 0.9786 - acc: 0.6456 - val_loss: 1.2069 - val_acc: 0.5710\n",
      "Epoch 14/20\n",
      "1916/1916 [==============================] - 1s 540us/step - loss: 0.9608 - acc: 0.6498 - val_loss: 1.1688 - val_acc: 0.5869\n",
      "Epoch 15/20\n",
      "1916/1916 [==============================] - 1s 531us/step - loss: 0.9398 - acc: 0.6524 - val_loss: 1.1872 - val_acc: 0.5953\n",
      "Epoch 16/20\n",
      "1916/1916 [==============================] - 1s 522us/step - loss: 0.9133 - acc: 0.6618 - val_loss: 1.1782 - val_acc: 0.5932\n",
      "Epoch 17/20\n",
      "1916/1916 [==============================] - 1s 523us/step - loss: 0.8982 - acc: 0.6654 - val_loss: 1.2147 - val_acc: 0.5858\n",
      "Epoch 18/20\n",
      "1916/1916 [==============================] - 1s 485us/step - loss: 0.8978 - acc: 0.6670 - val_loss: 1.1884 - val_acc: 0.5805\n",
      "Epoch 19/20\n",
      "1916/1916 [==============================] - 1s 523us/step - loss: 0.8529 - acc: 0.6874 - val_loss: 1.2153 - val_acc: 0.5720\n",
      "Epoch 20/20\n",
      "1916/1916 [==============================] - 1s 532us/step - loss: 0.8289 - acc: 0.6926 - val_loss: 1.2108 - val_acc: 0.5752\n"
     ]
    },
    {
     "data": {
      "text/plain": [
       "<keras.callbacks.History at 0x1e6ac3eac88>"
      ]
     },
     "execution_count": 12,
     "metadata": {},
     "output_type": "execute_result"
    }
   ],
   "source": [
    "#compile model using accuracy to measure model performance\n",
    "model.compile(optimizer='adam', loss='categorical_crossentropy', metrics=['accuracy'])\n",
    "#train the model\n",
    "model.fit(X_train, y_train, validation_data=(X_test, y_test), epochs=20)"
   ]
  },
  {
   "cell_type": "code",
   "execution_count": null,
   "metadata": {},
   "outputs": [],
   "source": []
  }
 ],
 "metadata": {
  "kernelspec": {
   "display_name": "tf",
   "language": "python",
   "name": "tf"
  },
  "language_info": {
   "codemirror_mode": {
    "name": "ipython",
    "version": 3
   },
   "file_extension": ".py",
   "mimetype": "text/x-python",
   "name": "python",
   "nbconvert_exporter": "python",
   "pygments_lexer": "ipython3",
   "version": "3.6.6"
  }
 },
 "nbformat": 4,
 "nbformat_minor": 2
}
