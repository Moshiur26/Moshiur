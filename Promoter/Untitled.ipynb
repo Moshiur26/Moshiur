{
 "cells": [
  {
   "cell_type": "code",
   "execution_count": 1,
   "metadata": {},
   "outputs": [],
   "source": [
    "from repDNA.util import get_data"
   ]
  },
  {
   "cell_type": "code",
   "execution_count": 3,
   "metadata": {},
   "outputs": [
    {
     "name": "stdout",
     "output_type": "stream",
     "text": [
      "aaaaaa\n",
      "['GACTGAACTGCACTTTGGTTTCATATTATTTGCTC']\n",
      "ECK125137463_alaEp1_forward_2799070_[ICWHO|W|Inferred computationally without human oversight]_Weak\n",
      "TATTTTATCTACAAAAACTGACTAAATAAAAATTTTTCACTAATTGATTAGTCATAGCCAGCGATATACGCTATGCGAAAA\n",
      "5\n"
     ]
    }
   ],
   "source": [
    "from repDNA.util import get_data\n",
    "print(\"aaaaaa\")\n",
    "s=get_data(['GACTGAACTGCACTTTGGTTTCATATTATTTGctc'])\n",
    "print(s)\n",
    "\n",
    "seqs = get_data(open('C:/Users/Moshiur/Desktop/Moshiur/Promoter/datasets/positive2860.txt'), desc=True)\n",
    "\n",
    "for seq in seqs:\n",
    "\tprint(seq)\n",
    "\n",
    "seq = seqs[4].\n",
    "print(seq.name)\n",
    "print(seq.seq)\n",
    "print(seq.no)\n",
    "\n",
    "\n"
   ]
  },
  {
   "cell_type": "code",
   "execution_count": 6,
   "metadata": {},
   "outputs": [
    {
     "ename": "ModuleNotFoundError",
     "evalue": "No module named 'nacutil'",
     "output_type": "error",
     "traceback": [
      "\u001b[1;31m---------------------------------------------------------------------------\u001b[0m",
      "\u001b[1;31mModuleNotFoundError\u001b[0m                       Traceback (most recent call last)",
      "\u001b[1;32m<ipython-input-6-86e4bf56ec83>\u001b[0m in \u001b[0;36m<module>\u001b[1;34m\u001b[0m\n\u001b[0;32m      1\u001b[0m \u001b[1;32mimport\u001b[0m \u001b[0mrepDNA\u001b[0m\u001b[1;33m\u001b[0m\u001b[0m\n\u001b[1;32m----> 2\u001b[1;33m \u001b[1;32mfrom\u001b[0m \u001b[0mrepDNA\u001b[0m\u001b[1;33m.\u001b[0m\u001b[0mnac\u001b[0m \u001b[1;32mimport\u001b[0m \u001b[0mKmer\u001b[0m\u001b[1;33m\u001b[0m\u001b[0m\n\u001b[0m\u001b[0;32m      3\u001b[0m \u001b[0mkmer\u001b[0m \u001b[1;33m=\u001b[0m \u001b[0mKmer\u001b[0m\u001b[1;33m(\u001b[0m\u001b[0mk\u001b[0m\u001b[1;33m=\u001b[0m\u001b[1;36m2\u001b[0m\u001b[1;33m)\u001b[0m\u001b[1;33m\u001b[0m\u001b[0m\n\u001b[0;32m      4\u001b[0m \u001b[0mkmer\u001b[0m\u001b[1;33m.\u001b[0m\u001b[0mmake_kmer_vec\u001b[0m\u001b[1;33m(\u001b[0m\u001b[1;33m[\u001b[0m\u001b[1;34m'GACTGAACTGCACTTTGGTTTCATATTATTTGCTC'\u001b[0m\u001b[1;33m]\u001b[0m\u001b[1;33m)\u001b[0m\u001b[1;33m\u001b[0m\u001b[0m\n",
      "\u001b[1;32m~\\Anaconda3\\envs\\tf\\lib\\site-packages\\repDNA\\nac.py\u001b[0m in \u001b[0;36m<module>\u001b[1;34m\u001b[0m\n\u001b[0;32m      2\u001b[0m \u001b[1;33m\u001b[0m\u001b[0m\n\u001b[0;32m      3\u001b[0m \u001b[1;33m\u001b[0m\u001b[0m\n\u001b[1;32m----> 4\u001b[1;33m \u001b[1;32mfrom\u001b[0m \u001b[0mnacutil\u001b[0m \u001b[1;32mimport\u001b[0m \u001b[0mmake_upto_kmer_list\u001b[0m\u001b[1;33m,\u001b[0m \u001b[0mmake_revcomp_kmer_list\u001b[0m\u001b[1;33m,\u001b[0m \u001b[0mmake_kmer_vector\u001b[0m\u001b[1;33m\u001b[0m\u001b[0m\n\u001b[0m\u001b[0;32m      5\u001b[0m \u001b[1;32mfrom\u001b[0m \u001b[0mutil\u001b[0m \u001b[1;32mimport\u001b[0m \u001b[0mget_data\u001b[0m\u001b[1;33m\u001b[0m\u001b[0m\n\u001b[0;32m      6\u001b[0m \u001b[1;33m\u001b[0m\u001b[0m\n",
      "\u001b[1;31mModuleNotFoundError\u001b[0m: No module named 'nacutil'"
     ]
    }
   ],
   "source": [
    "import repDNA\n",
    "from repDNA.nac import Kmer\n",
    "kmer = Kmer(k=2)\n",
    "kmer.make_kmer_vec(['GACTGAACTGCACTTTGGTTTCATATTATTTGCTC'])"
   ]
  },
  {
   "cell_type": "code",
   "execution_count": null,
   "metadata": {},
   "outputs": [],
   "source": []
  }
 ],
 "metadata": {
  "kernelspec": {
   "display_name": "tf",
   "language": "python",
   "name": "tf"
  },
  "language_info": {
   "codemirror_mode": {
    "name": "ipython",
    "version": 3
   },
   "file_extension": ".py",
   "mimetype": "text/x-python",
   "name": "python",
   "nbconvert_exporter": "python",
   "pygments_lexer": "ipython3",
   "version": "3.6.6"
  }
 },
 "nbformat": 4,
 "nbformat_minor": 2
}
