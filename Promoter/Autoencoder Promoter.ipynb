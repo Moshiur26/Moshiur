{
 "cells": [
  {
   "cell_type": "code",
   "execution_count": 2,
   "metadata": {},
   "outputs": [
    {
     "name": "stderr",
     "output_type": "stream",
     "text": [
      "Using TensorFlow backend.\n"
     ]
    }
   ],
   "source": [
    "import keras\n",
    "from keras import backend as K\n",
    "from keras.models import Sequential,Model\n",
    "from keras.layers import Activation\n",
    "from keras.layers import Dense,Input,Conv2D,MaxPooling2D,UpSampling2D,Flatten,Reshape\n",
    "from keras.optimizers import Adam\n",
    "from keras.metrics import categorical_crossentropy\n",
    "\n",
    "import matplotlib.pyplot as plt\n",
    "import numpy as np\n",
    "import pandas as pn\n",
    "from sklearn.model_selection import train_test_split"
   ]
  },
  {
   "cell_type": "code",
   "execution_count": 4,
   "metadata": {},
   "outputs": [
    {
     "data": {
      "text/plain": [
       "(3832, 81)"
      ]
     },
     "execution_count": 4,
     "metadata": {},
     "output_type": "execute_result"
    }
   ],
   "source": [
    "\n",
    "data = pn.read_csv(\"C:/Users/Moshiur/Desktop/Moshiur/Promoter/New Dataset/promoter1234.csv\",header=None)\n",
    "data=np.asarray(data)\n",
    "data = np.delete(data, (0), axis=0)\n",
    "data = np.delete(data, (0), axis=1)\n",
    "X=data[:,:data.shape[1]-1]\n",
    "y=data[:,-1:]\n",
    "#X=X.astype(int)\n",
    "X_len=len(X)\n",
    "max_value=float(X.max())\n",
    "#X=X/max_value\n",
    "\n",
    "\n",
    "\n",
    "X_train, X_test, y_train, y_test = train_test_split(\n",
    "     X, y, test_size=0.33,random_state=40)\n",
    "\n",
    "X.shape\n",
    "#X_train = X_train.reshape(3350,20,20)\n",
    "#X_test = X_test.reshape(1650,20,20)\n",
    "X_train.shape\n",
    "\n",
    "#max_value"
   ]
  },
  {
   "cell_type": "code",
   "execution_count": 5,
   "metadata": {},
   "outputs": [
    {
     "name": "stdout",
     "output_type": "stream",
     "text": [
      "_________________________________________________________________\n",
      "Layer (type)                 Output Shape              Param #   \n",
      "=================================================================\n",
      "dense_1 (Dense)              (None, 40)                3280      \n",
      "_________________________________________________________________\n",
      "dense_2 (Dense)              (None, 40)                1640      \n",
      "_________________________________________________________________\n",
      "dense_3 (Dense)              (None, 20)                820       \n",
      "_________________________________________________________________\n",
      "dense_4 (Dense)              (None, 40)                840       \n",
      "_________________________________________________________________\n",
      "dense_5 (Dense)              (None, 40)                1640      \n",
      "_________________________________________________________________\n",
      "dense_6 (Dense)              (None, 81)                3321      \n",
      "=================================================================\n",
      "Total params: 11,541\n",
      "Trainable params: 11,541\n",
      "Non-trainable params: 0\n",
      "_________________________________________________________________\n"
     ]
    }
   ],
   "source": [
    "autoencoder=Sequential()\n",
    "#Encoder Layerss\n",
    "autoencoder.add(Dense(40,input_shape=X_train.shape[1:],activation='relu'))\n",
    "autoencoder.add(Dense(40,activation='relu'))\n",
    "autoencoder.add(Dense(20,activation='relu'))\n",
    "#Decoder Layers\n",
    "autoencoder.add(Dense(40,activation='relu'))\n",
    "autoencoder.add(Dense(40,activation='relu'))\n",
    "autoencoder.add(Dense(81,activation='sigmoid'))\n",
    "\n",
    "autoencoder.summary()"
   ]
  },
  {
   "cell_type": "code",
   "execution_count": 6,
   "metadata": {},
   "outputs": [
    {
     "name": "stdout",
     "output_type": "stream",
     "text": [
      "_________________________________________________________________\n",
      "Layer (type)                 Output Shape              Param #   \n",
      "=================================================================\n",
      "input_1 (InputLayer)         (None, 81)                0         \n",
      "_________________________________________________________________\n",
      "dense_1 (Dense)              (None, 40)                3280      \n",
      "_________________________________________________________________\n",
      "dense_2 (Dense)              (None, 40)                1640      \n",
      "_________________________________________________________________\n",
      "dense_3 (Dense)              (None, 20)                820       \n",
      "=================================================================\n",
      "Total params: 5,740\n",
      "Trainable params: 5,740\n",
      "Non-trainable params: 0\n",
      "_________________________________________________________________\n"
     ]
    }
   ],
   "source": [
    "input_img=Input(shape=(81,))\n",
    "encoder_layer1=autoencoder.layers[0]\n",
    "encoder_layer2=autoencoder.layers[1]\n",
    "encoder_layer3=autoencoder.layers[2]\n",
    "encoder=Model(input_img,encoder_layer3(encoder_layer2(encoder_layer1(input_img))))\n",
    "encoder.summary()"
   ]
  },
  {
   "cell_type": "code",
   "execution_count": 7,
   "metadata": {
    "scrolled": true
   },
   "outputs": [
    {
     "name": "stdout",
     "output_type": "stream",
     "text": [
      "Train on 3832 samples, validate on 1888 samples\n",
      "Epoch 1/50\n",
      "3832/3832 [==============================] - 2s 565us/step - loss: -20.0458 - val_loss: -23.2931\n",
      "Epoch 2/50\n",
      "3832/3832 [==============================] - 1s 236us/step - loss: -23.3365 - val_loss: -23.2931\n",
      "Epoch 3/50\n",
      "3832/3832 [==============================] - 1s 239us/step - loss: -23.3365 - val_loss: -23.2931\n",
      "Epoch 4/50\n",
      "3832/3832 [==============================] - 1s 244us/step - loss: -23.3365 - val_loss: -23.2931\n",
      "Epoch 5/50\n",
      "3832/3832 [==============================] - 1s 326us/step - loss: -23.3365 - val_loss: -23.2931\n",
      "Epoch 6/50\n",
      "3832/3832 [==============================] - 1s 262us/step - loss: -23.3365 - val_loss: -23.2931\n",
      "Epoch 7/50\n",
      "3832/3832 [==============================] - 1s 238us/step - loss: -23.3365 - val_loss: -23.2931\n",
      "Epoch 8/50\n",
      "3832/3832 [==============================] - 1s 244us/step - loss: -23.3365 - val_loss: -23.2931\n",
      "Epoch 9/50\n",
      "3832/3832 [==============================] - 1s 248us/step - loss: -23.3365 - val_loss: -23.2931\n",
      "Epoch 10/50\n",
      "3832/3832 [==============================] - 1s 252us/step - loss: -23.3365 - val_loss: -23.2931\n",
      "Epoch 11/50\n",
      "3832/3832 [==============================] - 1s 347us/step - loss: -23.3365 - val_loss: -23.2931\n",
      "Epoch 12/50\n",
      "3832/3832 [==============================] - 1s 332us/step - loss: -23.3365 - val_loss: -23.2931\n",
      "Epoch 13/50\n",
      "3832/3832 [==============================] - 1s 278us/step - loss: -23.3365 - val_loss: -23.2931\n",
      "Epoch 14/50\n",
      "3832/3832 [==============================] - 1s 251us/step - loss: -23.3365 - val_loss: -23.2931\n",
      "Epoch 15/50\n",
      "3832/3832 [==============================] - 1s 210us/step - loss: -23.3365 - val_loss: -23.2931\n",
      "Epoch 16/50\n",
      "3832/3832 [==============================] - 1s 258us/step - loss: -23.3365 - val_loss: -23.2931\n",
      "Epoch 17/50\n",
      "3832/3832 [==============================] - 1s 312us/step - loss: -23.3365 - val_loss: -23.2931\n",
      "Epoch 18/50\n",
      "3832/3832 [==============================] - 1s 225us/step - loss: -23.3365 - val_loss: -23.2931\n",
      "Epoch 19/50\n",
      "3832/3832 [==============================] - 1s 246us/step - loss: -23.3365 - val_loss: -23.2931\n",
      "Epoch 20/50\n",
      "3832/3832 [==============================] - 1s 208us/step - loss: -23.3365 - val_loss: -23.2931\n",
      "Epoch 21/50\n",
      "3832/3832 [==============================] - 1s 203us/step - loss: -23.3365 - val_loss: -23.2931\n",
      "Epoch 22/50\n",
      "3832/3832 [==============================] - 1s 243us/step - loss: -23.3365 - val_loss: -23.2931\n",
      "Epoch 23/50\n",
      "3832/3832 [==============================] - 1s 214us/step - loss: -23.3365 - val_loss: -23.2931\n",
      "Epoch 24/50\n",
      "3832/3832 [==============================] - 1s 244us/step - loss: -23.3365 - val_loss: -23.2931\n",
      "Epoch 25/50\n",
      "3832/3832 [==============================] - 1s 252us/step - loss: -23.3365 - val_loss: -23.2931\n",
      "Epoch 26/50\n",
      "3832/3832 [==============================] - 1s 286us/step - loss: -23.3365 - val_loss: -23.2931\n",
      "Epoch 27/50\n",
      "3832/3832 [==============================] - 1s 219us/step - loss: -23.3365 - val_loss: -23.2931\n",
      "Epoch 28/50\n",
      "3832/3832 [==============================] - 1s 204us/step - loss: -23.3365 - val_loss: -23.2931\n",
      "Epoch 29/50\n",
      "3832/3832 [==============================] - 1s 199us/step - loss: -23.3365 - val_loss: -23.2931\n",
      "Epoch 30/50\n",
      "3832/3832 [==============================] - 1s 198us/step - loss: -23.3365 - val_loss: -23.2931\n",
      "Epoch 31/50\n",
      "3832/3832 [==============================] - 1s 203us/step - loss: -23.3365 - val_loss: -23.2931\n",
      "Epoch 32/50\n",
      "3832/3832 [==============================] - 1s 228us/step - loss: -23.3365 - val_loss: -23.2931\n",
      "Epoch 33/50\n",
      "3832/3832 [==============================] - 1s 232us/step - loss: -23.3365 - val_loss: -23.2931\n",
      "Epoch 34/50\n",
      "3832/3832 [==============================] - 1s 253us/step - loss: -23.3365 - val_loss: -23.2931\n",
      "Epoch 35/50\n",
      "3832/3832 [==============================] - 1s 200us/step - loss: -23.3365 - val_loss: -23.2931\n",
      "Epoch 36/50\n",
      "3832/3832 [==============================] - 1s 199us/step - loss: -23.3365 - val_loss: -23.2931\n",
      "Epoch 37/50\n",
      "3832/3832 [==============================] - 1s 205us/step - loss: -23.3365 - val_loss: -23.2931\n",
      "Epoch 38/50\n",
      "3832/3832 [==============================] - 1s 203us/step - loss: -23.3365 - val_loss: -23.2931\n",
      "Epoch 39/50\n",
      "3832/3832 [==============================] - 1s 208us/step - loss: -23.3365 - val_loss: -23.2931\n",
      "Epoch 40/50\n",
      "3832/3832 [==============================] - 1s 201us/step - loss: -23.3365 - val_loss: -23.2931\n",
      "Epoch 41/50\n",
      "3832/3832 [==============================] - 1s 205us/step - loss: -23.3365 - val_loss: -23.2931\n",
      "Epoch 42/50\n",
      "3832/3832 [==============================] - 1s 234us/step - loss: -23.3365 - val_loss: -23.2931\n",
      "Epoch 43/50\n",
      "3832/3832 [==============================] - 1s 204us/step - loss: -23.3365 - val_loss: -23.2931\n",
      "Epoch 44/50\n",
      "3832/3832 [==============================] - 1s 249us/step - loss: -23.3365 - val_loss: -23.2931\n",
      "Epoch 45/50\n",
      "3832/3832 [==============================] - 1s 203us/step - loss: -23.3365 - val_loss: -23.2931\n",
      "Epoch 46/50\n",
      "3832/3832 [==============================] - 1s 205us/step - loss: -23.3365 - val_loss: -23.2931\n",
      "Epoch 47/50\n",
      "3832/3832 [==============================] - 1s 203us/step - loss: -23.3365 - val_loss: -23.2931\n",
      "Epoch 48/50\n",
      "3832/3832 [==============================] - 1s 198us/step - loss: -23.3365 - val_loss: -23.2931\n",
      "Epoch 49/50\n",
      "3832/3832 [==============================] - 1s 202us/step - loss: -23.3365 - val_loss: -23.2931\n",
      "Epoch 50/50\n",
      "3832/3832 [==============================] - 1s 208us/step - loss: -23.3365 - val_loss: -23.2931\n"
     ]
    },
    {
     "data": {
      "text/plain": [
       "<keras.callbacks.History at 0x22ebf4c8390>"
      ]
     },
     "execution_count": 7,
     "metadata": {},
     "output_type": "execute_result"
    }
   ],
   "source": [
    "autoencoder.compile(optimizer='adam',loss='binary_crossentropy')\n",
    "autoencoder.fit(X_train,X_train,epochs=50,batch_size=20,shuffle=True,validation_data=(X_test,X_test))"
   ]
  },
  {
   "cell_type": "code",
   "execution_count": 35,
   "metadata": {},
   "outputs": [
    {
     "name": "stdout",
     "output_type": "stream",
     "text": [
      "[-0.          0.7154655  -0.         -0.         -0.         -0.\n",
      "  0.655691   -0.          0.49547932  1.1723367  -0.         -0.\n",
      " -0.         -0.         -0.         -0.         -0.         -0.\n",
      " -0.         -0.         -0.          0.2814583  -0.         -0.\n",
      " -0.         -0.          0.22610252 -0.          0.0985359   1.424941\n",
      "  1.0928774   0.93220335  2.3192503  -0.         -0.          2.1372774 ] \n",
      "VS\n",
      " [[1.0 0.25 0.25 ... 0.75 0.5 1.0]\n",
      " [0.5 1.0 0.75 ... 1.0 1.0 1.0]\n",
      " [0.25 0.75 1.0 ... 0.25 1.0 0.25]\n",
      " ...\n",
      " [0.75 1.0 0.75 ... 0.75 0.5 0.25]\n",
      " [0.25 0.25 0.25 ... 0.25 0.25 1.0]\n",
      " [0.5 0.25 0.25 ... 0.75 0.25 0.25]]\n"
     ]
    }
   ],
   "source": [
    "encoder_seqs=encoder.predict(X_test)\n",
    "print(encoder_seqs[0],\"\\nVS\\n\",X_test)"
   ]
  },
  {
   "cell_type": "code",
   "execution_count": 32,
   "metadata": {},
   "outputs": [
    {
     "data": {
      "text/plain": [
       "array([[1.0, 0.25, 0.25, ..., 0.75, 0.5, 1.0],\n",
       "       [0.5, 1.0, 0.75, ..., 1.0, 1.0, 1.0],\n",
       "       [0.25, 0.75, 1.0, ..., 0.25, 1.0, 0.25],\n",
       "       ...,\n",
       "       [0.75, 1.0, 0.75, ..., 0.75, 0.5, 0.25],\n",
       "       [0.25, 0.25, 0.25, ..., 0.25, 0.25, 1.0],\n",
       "       [0.5, 0.25, 0.25, ..., 0.75, 0.25, 0.25]], dtype=object)"
      ]
     },
     "execution_count": 32,
     "metadata": {},
     "output_type": "execute_result"
    }
   ],
   "source": [
    "X_test"
   ]
  },
  {
   "cell_type": "code",
   "execution_count": null,
   "metadata": {},
   "outputs": [],
   "source": []
  }
 ],
 "metadata": {
  "kernelspec": {
   "display_name": "tf",
   "language": "python",
   "name": "tf"
  },
  "language_info": {
   "codemirror_mode": {
    "name": "ipython",
    "version": 3
   },
   "file_extension": ".py",
   "mimetype": "text/x-python",
   "name": "python",
   "nbconvert_exporter": "python",
   "pygments_lexer": "ipython3",
   "version": "3.6.6"
  }
 },
 "nbformat": 4,
 "nbformat_minor": 2
}
