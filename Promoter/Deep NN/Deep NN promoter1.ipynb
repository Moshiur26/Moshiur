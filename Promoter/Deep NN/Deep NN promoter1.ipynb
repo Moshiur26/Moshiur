{
 "cells": [
  {
   "cell_type": "code",
   "execution_count": 1,
   "metadata": {},
   "outputs": [
    {
     "name": "stderr",
     "output_type": "stream",
     "text": [
      "Using TensorFlow backend.\n"
     ]
    }
   ],
   "source": [
    "import keras\n",
    "from keras import backend as K\n",
    "from keras.models import Sequential,Model\n",
    "from keras.layers import Activation\n",
    "from keras.layers import Dense,Input,Conv2D,MaxPooling2D,UpSampling2D,Flatten,Reshape\n",
    "from keras.optimizers import Adam\n",
    "from keras.metrics import categorical_crossentropy\n",
    "from keras.utils import to_categorical\n",
    "\n",
    "import matplotlib.pyplot as plt\n",
    "import numpy as np\n",
    "import pandas as pn\n",
    "from sklearn.model_selection import train_test_split"
   ]
  },
  {
   "cell_type": "code",
   "execution_count": 2,
   "metadata": {},
   "outputs": [
    {
     "data": {
      "text/plain": [
       "(3832, 81)"
      ]
     },
     "execution_count": 2,
     "metadata": {},
     "output_type": "execute_result"
    }
   ],
   "source": [
    "\n",
    "data = pn.read_csv(\"C:/Users/Moshiur/Desktop/Moshiur/Promoter/New Dataset/promoter1234.csv\",header=None)\n",
    "data=np.asarray(data)\n",
    "data = np.delete(data, (0), axis=0)\n",
    "data = np.delete(data, (0), axis=1)\n",
    "X=data[:,:data.shape[1]-1]\n",
    "y=data[:,-1:]\n",
    "#X=X.astype(int)\n",
    "X_len=len(X)\n",
    "max_value=float(X.max())\n",
    "#X=X/max_value\n",
    "\n",
    "\n",
    "\n",
    "X_train, X_test, y_train, y_test = train_test_split(\n",
    "     X, y, test_size=0.33,random_state=40)\n",
    "\n",
    "X.shape\n",
    "#X_train = X_train.reshape(3350,20,20)\n",
    "#X_test = X_test.reshape(1650,20,20)\n",
    "\n",
    "\n",
    "y_train = np.unique(y_train, return_inverse=True)[1].tolist()\n",
    "X=X[:,1]\n",
    "y_test=np.unique(y_test, return_inverse=True)[1].tolist()\n",
    "\n",
    "#max_value\n",
    "y_test\n",
    "X_train.shape"
   ]
  },
  {
   "cell_type": "code",
   "execution_count": 3,
   "metadata": {},
   "outputs": [
    {
     "name": "stdout",
     "output_type": "stream",
     "text": [
      "_________________________________________________________________\n",
      "Layer (type)                 Output Shape              Param #   \n",
      "=================================================================\n",
      "dense_1 (Dense)              (None, 40)                3280      \n",
      "_________________________________________________________________\n",
      "dense_2 (Dense)              (None, 40)                1640      \n",
      "_________________________________________________________________\n",
      "dense_3 (Dense)              (None, 20)                820       \n",
      "_________________________________________________________________\n",
      "dense_4 (Dense)              (None, 20)                420       \n",
      "_________________________________________________________________\n",
      "dense_5 (Dense)              (None, 10)                210       \n",
      "_________________________________________________________________\n",
      "dense_6 (Dense)              (None, 10)                110       \n",
      "_________________________________________________________________\n",
      "dense_7 (Dense)              (None, 2)                 22        \n",
      "=================================================================\n",
      "Total params: 6,502\n",
      "Trainable params: 6,502\n",
      "Non-trainable params: 0\n",
      "_________________________________________________________________\n"
     ]
    }
   ],
   "source": [
    "model = Sequential([\n",
    "    Dense(40,input_shape=(81,),activation='relu'),\n",
    "    Dense(40,activation='relu'),\n",
    "    Dense(20,activation='relu'),\n",
    "    Dense(20,activation='relu'),\n",
    "    Dense(10,activation='relu'),\n",
    "    Dense(10,activation='relu'),\n",
    "    Dense(2,activation='softmax')\n",
    "])\n",
    "model.summary()"
   ]
  },
  {
   "cell_type": "code",
   "execution_count": 4,
   "metadata": {},
   "outputs": [],
   "source": [
    "model.compile(Adam(lr=.01),loss='sparse_categorical_crossentropy',metrics=['accuracy'])"
   ]
  },
  {
   "cell_type": "code",
   "execution_count": 5,
   "metadata": {},
   "outputs": [
    {
     "name": "stdout",
     "output_type": "stream",
     "text": [
      "Train on 3832 samples, validate on 1888 samples\n",
      "Epoch 1/20\n",
      "3832/3832 [==============================] - 3s 660us/step - loss: 0.6939 - acc: 0.5060 - val_loss: 0.6950 - val_acc: 0.4778\n",
      "Epoch 2/20\n",
      "3832/3832 [==============================] - 1s 272us/step - loss: 0.6933 - acc: 0.5128 - val_loss: 0.6974 - val_acc: 0.4778\n",
      "Epoch 3/20\n",
      "3832/3832 [==============================] - 1s 316us/step - loss: 0.6933 - acc: 0.5141 - val_loss: 0.6996 - val_acc: 0.4778\n",
      "Epoch 4/20\n",
      "3832/3832 [==============================] - 1s 336us/step - loss: 0.6942 - acc: 0.4977 - val_loss: 0.6936 - val_acc: 0.4778\n",
      "Epoch 5/20\n",
      "3832/3832 [==============================] - 1s 293us/step - loss: 0.6935 - acc: 0.5123 - val_loss: 0.6934 - val_acc: 0.4778\n",
      "Epoch 6/20\n",
      "3832/3832 [==============================] - 1s 274us/step - loss: 0.6934 - acc: 0.5013 - val_loss: 0.7005 - val_acc: 0.4778\n",
      "Epoch 7/20\n",
      "3832/3832 [==============================] - 1s 284us/step - loss: 0.6940 - acc: 0.5000 - val_loss: 0.6926 - val_acc: 0.5222\n",
      "Epoch 8/20\n",
      "3832/3832 [==============================] - 1s 282us/step - loss: 0.6933 - acc: 0.5084 - val_loss: 0.6933 - val_acc: 0.4778\n",
      "Epoch 9/20\n",
      "3832/3832 [==============================] - 1s 274us/step - loss: 0.6931 - acc: 0.5104 - val_loss: 0.6922 - val_acc: 0.5222\n",
      "Epoch 10/20\n",
      "3832/3832 [==============================] - 1s 271us/step - loss: 0.6942 - acc: 0.5018 - val_loss: 0.6947 - val_acc: 0.4778\n",
      "Epoch 11/20\n",
      "3832/3832 [==============================] - 1s 275us/step - loss: 0.6934 - acc: 0.5104 - val_loss: 0.6956 - val_acc: 0.4778\n",
      "Epoch 12/20\n",
      "3832/3832 [==============================] - 1s 338us/step - loss: 0.6940 - acc: 0.4943 - val_loss: 0.6952 - val_acc: 0.4778\n",
      "Epoch 13/20\n",
      "3832/3832 [==============================] - 1s 268us/step - loss: 0.6934 - acc: 0.5016 - val_loss: 0.6968 - val_acc: 0.4778\n",
      "Epoch 14/20\n",
      "3832/3832 [==============================] - 1s 267us/step - loss: 0.6939 - acc: 0.5084 - val_loss: 0.6936 - val_acc: 0.4778\n",
      "Epoch 15/20\n",
      "3832/3832 [==============================] - 1s 270us/step - loss: 0.6938 - acc: 0.5008 - val_loss: 0.6942 - val_acc: 0.4778\n",
      "Epoch 16/20\n",
      "3832/3832 [==============================] - 1s 267us/step - loss: 0.6938 - acc: 0.5023 - val_loss: 0.6946 - val_acc: 0.4778\n",
      "Epoch 17/20\n",
      "3832/3832 [==============================] - 1s 269us/step - loss: 0.6933 - acc: 0.5029 - val_loss: 0.6928 - val_acc: 0.5222\n",
      "Epoch 18/20\n",
      "3832/3832 [==============================] - 1s 267us/step - loss: 0.6936 - acc: 0.5005 - val_loss: 0.6979 - val_acc: 0.4778\n",
      "Epoch 19/20\n",
      "3832/3832 [==============================] - 1s 267us/step - loss: 0.6941 - acc: 0.4982 - val_loss: 0.6940 - val_acc: 0.4778\n",
      "Epoch 20/20\n",
      "3832/3832 [==============================] - 1s 279us/step - loss: 0.6938 - acc: 0.4963 - val_loss: 0.6938 - val_acc: 0.4778\n"
     ]
    },
    {
     "data": {
      "text/plain": [
       "<keras.callbacks.History at 0x1b0b6cd16a0>"
      ]
     },
     "execution_count": 5,
     "metadata": {},
     "output_type": "execute_result"
    }
   ],
   "source": [
    "model.fit(X_train,y_train,batch_size=15,epochs=20,shuffle=True,validation_data=(X_test,y_test))"
   ]
  },
  {
   "cell_type": "code",
   "execution_count": null,
   "metadata": {},
   "outputs": [],
   "source": []
  },
  {
   "cell_type": "code",
   "execution_count": null,
   "metadata": {},
   "outputs": [],
   "source": []
  }
 ],
 "metadata": {
  "kernelspec": {
   "display_name": "tf",
   "language": "python",
   "name": "tf"
  },
  "language_info": {
   "codemirror_mode": {
    "name": "ipython",
    "version": 3
   },
   "file_extension": ".py",
   "mimetype": "text/x-python",
   "name": "python",
   "nbconvert_exporter": "python",
   "pygments_lexer": "ipython3",
   "version": "3.6.6"
  }
 },
 "nbformat": 4,
 "nbformat_minor": 2
}
