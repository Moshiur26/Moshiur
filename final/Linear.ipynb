{
 "cells": [
  {
   "cell_type": "code",
   "execution_count": 1,
   "metadata": {},
   "outputs": [
    {
     "data": {
      "text/plain": [
       "array([ 0.01991321,  0.05068012,  0.01427248,  0.0631868 ,  0.01494247,\n",
       "        0.02029337, -0.04708248,  0.03430886,  0.04666077,  0.09004865])"
      ]
     },
     "execution_count": 1,
     "metadata": {},
     "output_type": "execute_result"
    }
   ],
   "source": [
    "from sklearn import datasets\n",
    "import numpy as np\n",
    "import math\n",
    "from sklearn.model_selection import train_test_split\n",
    "\n",
    "diabetis = datasets.load_diabetes()\n",
    "#print(diabetis)\n",
    "X = diabetis.data[:,:10] \n",
    "y = diabetis.target\n",
    "\n",
    "X_train, X_test, y_train, y_test = train_test_split(\n",
    "     X, y, test_size=0.33,random_state=549)\n",
    "\n",
    "train_set_size = len(y_train)\n",
    "test_set_size = len(y_test)\n",
    "\n",
    "X_train[0]"
   ]
  },
  {
   "cell_type": "code",
   "execution_count": 7,
   "metadata": {},
   "outputs": [
    {
     "name": "stdout",
     "output_type": "stream",
     "text": [
      "[[ 0.03907589]\n",
      " [ 0.02042842]\n",
      " [ 0.08246123]\n",
      " [ 0.06308537]\n",
      " [ 0.03041565]\n",
      " [ 0.01784716]\n",
      " [-0.05316114]\n",
      " [ 0.05780539]\n",
      " [ 0.08516962]\n",
      " [ 0.04749983]]\n"
     ]
    }
   ],
   "source": [
    "theta_0=0\n",
    "theta=np.zeros((10,1))\n",
    "alpha=0.0001\n",
    "errors=np.zeros((400,1),dtype=float)\n",
    "for i in range(400):\n",
    "    h_theta_xs = np.zeros((train_set_size,1),dtype=float)\n",
    "    \n",
    "    \n",
    "    for j in range(train_set_size):\n",
    "        h_theta_x = np.dot(np.transpose(X_train[j,:]),theta)\n",
    "        h_theta_xs[j,0]=h_theta_x\n",
    "    \n",
    "    #print(h_theta_xs.shape)\n",
    "    error = np.transpose(h_theta_xs)-y_train\n",
    "    errors[i,0]=np.sum(error**2)\n",
    "    #errors[i,0]=np.sum(math.pow(error,2))\n",
    "    #print(error.shape)\n",
    "    res = (1/train_set_size)*alpha*np.sum(error)\n",
    "    \n",
    "    theta_0 = theta_0 - res\n",
    "    for j in range(10) :\n",
    "        update = np.dot(error , X_train[:,j])\n",
    "        res = np.dot((1/train_set_size),alpha*np.sum(update))\n",
    "\n",
    "        theta[j,0] = theta[j,0] - res\n",
    "print(theta)   "
   ]
  },
  {
   "cell_type": "code",
   "execution_count": 8,
   "metadata": {
    "scrolled": true
   },
   "outputs": [
    {
     "data": {
      "text/plain": [
       "[<matplotlib.lines.Line2D at 0x26dbcf26390>]"
      ]
     },
     "execution_count": 8,
     "metadata": {},
     "output_type": "execute_result"
    },
    {
     "data": {
      "image/png": "[encoded data removed]",
      "text/plain": [
       "<Figure size 432x288 with 1 Axes>"
      ]
     },
     "metadata": {
      "needs_background": "light"
     },
     "output_type": "display_data"
    }
   ],
   "source": [
    "import matplotlib.pyplot as plt\n",
    "%matplotlib inline\n",
    "\n",
    "i= np.arange(0,400)\n",
    "plt.xlabel(\"Iteration\")\n",
    "plt.ylabel(\"Cost,J\")\n",
    "plt.plot(i,errors,color='blue')"
   ]
  },
  {
   "cell_type": "code",
   "execution_count": null,
   "metadata": {},
   "outputs": [],
   "source": []
  }
 ],
 "metadata": {
  "kernelspec": {
   "display_name": "tf",
   "language": "python",
   "name": "tf"
  },
  "language_info": {
   "codemirror_mode": {
    "name": "ipython",
    "version": 3
   },
   "file_extension": ".py",
   "mimetype": "text/x-python",
   "name": "python",
   "nbconvert_exporter": "python",
   "pygments_lexer": "ipython3",
   "version": "3.6.6"
  }
 },
 "nbformat": 4,
 "nbformat_minor": 2
}
