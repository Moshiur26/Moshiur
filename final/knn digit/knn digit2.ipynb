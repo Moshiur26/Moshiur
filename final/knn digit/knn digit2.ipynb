{
 "cells": [
  {
   "cell_type": "code",
   "execution_count": 1,
   "metadata": {},
   "outputs": [],
   "source": [
    "import pandas as pd\n",
    "from sklearn import datasets\n",
    "import numpy as np\n",
    "import math\n",
    "from sklearn.model_selection import train_test_split\n",
    "\n",
    "\n",
    "X = pd.read_csv(\"data.csv\",header=None)\n",
    "X=np.asarray(X)\n",
    "y = pd.read_csv(\"Y.csv\",header=None)\n",
    "y=np.asarray(y)\n",
    "\n",
    "X_train, X_test, y_train, y_test = train_test_split(\n",
    "     X, y, test_size=0.33,random_state=40)\n",
    "\n",
    "train_set_size = len(y_train)\n",
    "test_set_size = len(y_test)\n",
    "\n",
    "distances = np.zeros((1,train_set_size))\n",
    "number_of_neighbors = 3\n",
    "number_of_classes = len(np.unique(y_train))\n",
    "predictions = np.zeros((test_set_size,1))"
   ]
  },
  {
   "cell_type": "code",
   "execution_count": 2,
   "metadata": {},
   "outputs": [],
   "source": [
    "for i in range(test_set_size) :\n",
    "    x_1 = X_test[i,:]\n",
    "    for j in range(train_set_size) :\n",
    "        x_2 = X_train[j,:]\n",
    "        #get euclidean distance between x_1 and x_2\n",
    "        distances[0,j] = math.sqrt(np.sum((x_1 - x_2)**2))\n",
    "    #find nearest neighbors\n",
    "    #neighbors = np.zeros((1,train_set_size))\n",
    "    neighbors = distances[0,:].argsort()[:number_of_neighbors]\n",
    "    #find out the majorioty class\n",
    "    \n",
    "    markers = np.zeros((1,number_of_classes+1))\n",
    "    \n",
    "    for j in range(number_of_neighbors) :\n",
    "        markers[0,y_train[neighbors[j]]] = markers[0,y_train[neighbors[j]]] + 1 \n",
    "        \n",
    "    #find out the class with max count\n",
    "    predicted_class = np.argmax(markers[0,:])\n",
    "    \n",
    "    #perform classification here\n",
    "    predictions[i] = predicted_class"
   ]
  },
  {
   "cell_type": "code",
   "execution_count": 3,
   "metadata": {},
   "outputs": [
    {
     "name": "stdout",
     "output_type": "stream",
     "text": [
      "success :  1530    unsuccess :  120  percentage :  92.72727272727272 %\n"
     ]
    }
   ],
   "source": [
    "success=0\n",
    "unsuccess=0\n",
    "l=len(y_test)\n",
    "for i in range(l):\n",
    "    if predictions[i]==y_test[i]:\n",
    "        success+=1\n",
    "    else :\n",
    "        unsuccess+=1\n",
    "percent=(success/(l*1.0))*100.0\n",
    "print(\"success : \",success,\"   unsuccess : \",unsuccess,\" percentage : \",percent,\"%\")"
   ]
  },
  {
   "cell_type": "code",
   "execution_count": null,
   "metadata": {},
   "outputs": [],
   "source": []
  }
 ],
 "metadata": {
  "kernelspec": {
   "display_name": "tf",
   "language": "python",
   "name": "tf"
  },
  "language_info": {
   "codemirror_mode": {
    "name": "ipython",
    "version": 3
   },
   "file_extension": ".py",
   "mimetype": "text/x-python",
   "name": "python",
   "nbconvert_exporter": "python",
   "pygments_lexer": "ipython3",
   "version": "3.6.6"
  }
 },
 "nbformat": 4,
 "nbformat_minor": 2
}
