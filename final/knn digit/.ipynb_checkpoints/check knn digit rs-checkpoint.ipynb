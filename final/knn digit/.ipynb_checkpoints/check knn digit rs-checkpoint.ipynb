{
 "cells": [
  {
   "cell_type": "code",
   "execution_count": 19,
   "metadata": {},
   "outputs": [],
   "source": [
    "import pandas as pd\n",
    "import numpy as np\n",
    "import math\n",
    "from sklearn.model_selection import train_test_split\n",
    "\n",
    "\n",
    "\n",
    "\n",
    "\n",
    "X = pd.read_csv(\"data.csv\",header=None)\n",
    "X=np.asarray(X)\n",
    "y = pd.read_csv(\"Y.csv\",header=None)\n",
    "y=np.asarray(y)\n",
    "train_set_size = 1\n",
    "test_set_size = 1\n",
    "X_train=[]\n",
    "y_train=[]"
   ]
  },
  {
   "cell_type": "code",
   "execution_count": 20,
   "metadata": {},
   "outputs": [],
   "source": [
    "def kNearestN(d,k):\n",
    "    classVal=[]\n",
    "    for i in range(k) :\n",
    "        mini=d[i]\n",
    "        j=i\n",
    "        indx=i\n",
    "        for k in range(train_set_size-i) :\n",
    "            if mini>d[j]:\n",
    "                indx=j\n",
    "                mini=d[j]\n",
    "            \n",
    "            j+=1\n",
    "        if mini!=d[i]:\n",
    "            temp=d[i]\n",
    "            d[i]=mini\n",
    "            d[indx]=temp\n",
    "        classVal.append(y_train[indx])\n",
    "    return classVal    \n"
   ]
  },
  {
   "cell_type": "code",
   "execution_count": 21,
   "metadata": {},
   "outputs": [],
   "source": [
    "def largeNumberOfClass(classVal):\n",
    "    largeNumberOfClass =[0,0,0]\n",
    "    for i in classVal:\n",
    "        if i==0:\n",
    "            largeNumberOfClass[0] +=1\n",
    "        elif i==1 :\n",
    "            largeNumberOfClass[1] +=1\n",
    "        else :\n",
    "            largeNumberOfClass[2] +=1 \n",
    "    \n",
    "    #print(\" large: \",largeNumberOfClass,\"\\n\")\n",
    "    if largeNumberOfClass[0]>=largeNumberOfClass[1] and largeNumberOfClass[0]>=largeNumberOfClass[2]:\n",
    "        return 0\n",
    "    elif largeNumberOfClass[1]>=largeNumberOfClass[0] and largeNumberOfClass[1]>=largeNumberOfClass[2]:\n",
    "        return 1\n",
    "    else:\n",
    "        return 2"
   ]
  },
  {
   "cell_type": "code",
   "execution_count": 22,
   "metadata": {},
   "outputs": [],
   "source": [
    "def knn(rs):\n",
    "    X_train, X_test, y_train, y_test = train_test_split(\n",
    "         X, y, test_size=0.33,random_state=rs)\n",
    "    \n",
    "    train_set_size = len(y_train)\n",
    "    test_set_size = len(y_test)\n",
    "    \n",
    "    distances = np.zeros((1,train_set_size))\n",
    "    \n",
    "    ######\n",
    "    \n",
    "    \n",
    "    y_pridict=[]\n",
    "    for i in range(test_set_size) :\n",
    "        x_1 = X_test[i,:]\n",
    "        distance=[]\n",
    "        for j in range(train_set_size) :\n",
    "            x_2 = X_train[j,:]\n",
    "            distance.append(math.sqrt(np.sum((x_1 - x_2)**2)))\n",
    "        p=largeNumberOfClass(kNearestN(distance,250))\n",
    "        y_pridict.append(p)\n",
    "\n",
    "\n",
    "    success=0\n",
    "    unsuccess=0\n",
    "    l=len(y_test)\n",
    "    for i in range(l):\n",
    "        if y_pridict[i]==y_test[i]:\n",
    "            success+=1\n",
    "        else :\n",
    "            unsuccess+=1\n",
    "    percent=(success/(l*1.0))*100.0\n",
    "    return percent"
   ]
  },
  {
   "cell_type": "code",
   "execution_count": 23,
   "metadata": {},
   "outputs": [
    {
     "ename": "IndexError",
     "evalue": "list index out of range",
     "output_type": "error",
     "traceback": [
      "\u001b[1;31m---------------------------------------------------------------------------\u001b[0m",
      "\u001b[1;31mIndexError\u001b[0m                                Traceback (most recent call last)",
      "\u001b[1;32m<ipython-input-23-324894925e7d>\u001b[0m in \u001b[0;36m<module>\u001b[1;34m\u001b[0m\n\u001b[0;32m      2\u001b[0m \u001b[1;33m\u001b[0m\u001b[0m\n\u001b[0;32m      3\u001b[0m \u001b[1;32mfor\u001b[0m \u001b[0mi\u001b[0m \u001b[1;32min\u001b[0m \u001b[0mrs\u001b[0m\u001b[1;33m:\u001b[0m\u001b[1;33m\u001b[0m\u001b[0m\n\u001b[1;32m----> 4\u001b[1;33m     \u001b[0mprint\u001b[0m\u001b[1;33m(\u001b[0m\u001b[1;34m\"Random State : \"\u001b[0m\u001b[1;33m,\u001b[0m\u001b[0mi\u001b[0m\u001b[1;33m,\u001b[0m\u001b[1;34m\"    Accuracy : \"\u001b[0m\u001b[1;33m,\u001b[0m\u001b[0mknn\u001b[0m\u001b[1;33m(\u001b[0m\u001b[0mi\u001b[0m\u001b[1;33m)\u001b[0m\u001b[1;33m,\u001b[0m\u001b[1;34m\"%\\n\"\u001b[0m\u001b[1;33m)\u001b[0m\u001b[1;33m\u001b[0m\u001b[0m\n\u001b[0m",
      "\u001b[1;32m<ipython-input-22-d3ea9fdd90e4>\u001b[0m in \u001b[0;36mknn\u001b[1;34m(rs)\u001b[0m\n\u001b[0;32m     18\u001b[0m             \u001b[0mx_2\u001b[0m \u001b[1;33m=\u001b[0m \u001b[0mX_train\u001b[0m\u001b[1;33m[\u001b[0m\u001b[0mj\u001b[0m\u001b[1;33m,\u001b[0m\u001b[1;33m:\u001b[0m\u001b[1;33m]\u001b[0m\u001b[1;33m\u001b[0m\u001b[0m\n\u001b[0;32m     19\u001b[0m             \u001b[0mdistance\u001b[0m\u001b[1;33m.\u001b[0m\u001b[0mappend\u001b[0m\u001b[1;33m(\u001b[0m\u001b[0mmath\u001b[0m\u001b[1;33m.\u001b[0m\u001b[0msqrt\u001b[0m\u001b[1;33m(\u001b[0m\u001b[0mnp\u001b[0m\u001b[1;33m.\u001b[0m\u001b[0msum\u001b[0m\u001b[1;33m(\u001b[0m\u001b[1;33m(\u001b[0m\u001b[0mx_1\u001b[0m \u001b[1;33m-\u001b[0m \u001b[0mx_2\u001b[0m\u001b[1;33m)\u001b[0m\u001b[1;33m**\u001b[0m\u001b[1;36m2\u001b[0m\u001b[1;33m)\u001b[0m\u001b[1;33m)\u001b[0m\u001b[1;33m)\u001b[0m\u001b[1;33m\u001b[0m\u001b[0m\n\u001b[1;32m---> 20\u001b[1;33m         \u001b[0mp\u001b[0m\u001b[1;33m=\u001b[0m\u001b[0mlargeNumberOfClass\u001b[0m\u001b[1;33m(\u001b[0m\u001b[0mkNearestN\u001b[0m\u001b[1;33m(\u001b[0m\u001b[0mdistance\u001b[0m\u001b[1;33m,\u001b[0m\u001b[1;36m250\u001b[0m\u001b[1;33m)\u001b[0m\u001b[1;33m)\u001b[0m\u001b[1;33m\u001b[0m\u001b[0m\n\u001b[0m\u001b[0;32m     21\u001b[0m         \u001b[0my_pridict\u001b[0m\u001b[1;33m.\u001b[0m\u001b[0mappend\u001b[0m\u001b[1;33m(\u001b[0m\u001b[0mp\u001b[0m\u001b[1;33m)\u001b[0m\u001b[1;33m\u001b[0m\u001b[0m\n\u001b[0;32m     22\u001b[0m \u001b[1;33m\u001b[0m\u001b[0m\n",
      "\u001b[1;32m<ipython-input-20-8b233a4d70e4>\u001b[0m in \u001b[0;36mkNearestN\u001b[1;34m(d, k)\u001b[0m\n\u001b[0;32m     15\u001b[0m             \u001b[0md\u001b[0m\u001b[1;33m[\u001b[0m\u001b[0mi\u001b[0m\u001b[1;33m]\u001b[0m\u001b[1;33m=\u001b[0m\u001b[0mmini\u001b[0m\u001b[1;33m\u001b[0m\u001b[0m\n\u001b[0;32m     16\u001b[0m             \u001b[0md\u001b[0m\u001b[1;33m[\u001b[0m\u001b[0mindx\u001b[0m\u001b[1;33m]\u001b[0m\u001b[1;33m=\u001b[0m\u001b[0mtemp\u001b[0m\u001b[1;33m\u001b[0m\u001b[0m\n\u001b[1;32m---> 17\u001b[1;33m         \u001b[0mclassVal\u001b[0m\u001b[1;33m.\u001b[0m\u001b[0mappend\u001b[0m\u001b[1;33m(\u001b[0m\u001b[0my_train\u001b[0m\u001b[1;33m[\u001b[0m\u001b[0mindx\u001b[0m\u001b[1;33m]\u001b[0m\u001b[1;33m)\u001b[0m\u001b[1;33m\u001b[0m\u001b[0m\n\u001b[0m\u001b[0;32m     18\u001b[0m     \u001b[1;32mreturn\u001b[0m \u001b[0mclassVal\u001b[0m\u001b[1;33m\u001b[0m\u001b[0m\n",
      "\u001b[1;31mIndexError\u001b[0m: list index out of range"
     ]
    }
   ],
   "source": [
    "rs=[1,29,77,84,108,160,200,290,340,420,500,700,1090]\n",
    "\n",
    "for i in rs:\n",
    "    print(\"Random State : \",i,\"    Accuracy : \",knn(i),\"%\\n\")\n"
   ]
  },
  {
   "cell_type": "code",
   "execution_count": null,
   "metadata": {},
   "outputs": [],
   "source": []
  }
 ],
 "metadata": {
  "kernelspec": {
   "display_name": "tf",
   "language": "python",
   "name": "tf"
  },
  "language_info": {
   "codemirror_mode": {
    "name": "ipython",
    "version": 3
   },
   "file_extension": ".py",
   "mimetype": "text/x-python",
   "name": "python",
   "nbconvert_exporter": "python",
   "pygments_lexer": "ipython3",
   "version": "3.6.6"
  }
 },
 "nbformat": 4,
 "nbformat_minor": 2
}
