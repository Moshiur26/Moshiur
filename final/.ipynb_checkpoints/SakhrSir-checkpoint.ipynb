{
 "cells": [
  {
   "cell_type": "code",
   "execution_count": 7,
   "metadata": {},
   "outputs": [],
   "source": [
    "from sklearn import datasets\n",
    "import numpy as np\n",
    "import math\n",
    "from sklearn.model_selection import train_test_split\n",
    "\n",
    "diabetis = datasets.load_diabetes()\n",
    "X = diabetis.data[:,0] \n",
    "y = diabetis.target\n",
    "\n",
    "X_train, X_test, y_train, y_test = train_test_split(\n",
    "     X, y, test_size=0.33,random_state=549)\n",
    "\n",
    "train_set_size = len(y_train)\n",
    "test_set_size = len(y_test)\n",
    "\n",
    "\n"
   ]
  },
  {
   "cell_type": "code",
   "execution_count": 8,
   "metadata": {},
   "outputs": [
    {
     "name": "stdout",
     "output_type": "stream",
     "text": [
      "theta_0:  148.8880031442715  theta_1 :  5.37931087581751\n"
     ]
    }
   ],
   "source": [
    "theta_0=0\n",
    "theta_1=0\n",
    "alpha=0.0001\n",
    "h_theta_x = np.zeros((200,1),dtype=float)\n",
    "for i in range(200):\n",
    "    #h_theta_x=[]\n",
    "    predicted_Y=theta_0+theta_1*X_train\n",
    "\n",
    "    error = y_train-predicted_Y\n",
    "    slope0 = sum(error*(-1))\n",
    "    \n",
    "     # step 4 : find slope 1\n",
    "    slope1 = sum(error*(-X_train))\n",
    "        \n",
    "    theta_0=theta_0-alpha*slope0\n",
    "    theta_1=theta_1-alpha*slope1\n",
    "    h_theta_x[i] = (0.5)*(sum(np.power(error,2)))\n",
    "\n",
    "print(\"theta_0: \",theta_0,\" theta_1 : \",theta_1)"
   ]
  },
  {
   "cell_type": "code",
   "execution_count": 9,
   "metadata": {},
   "outputs": [
    {
     "data": {
      "text/plain": [
       "[<matplotlib.lines.Line2D at 0x20041dc3f28>]"
      ]
     },
     "execution_count": 9,
     "metadata": {},
     "output_type": "execute_result"
    },
    {
     "data": {
      "image/png": "[encoded data removed]",
      "text/plain": [
       "<Figure size 432x288 with 1 Axes>"
      ]
     },
     "metadata": {
      "needs_background": "light"
     },
     "output_type": "display_data"
    }
   ],
   "source": [
    "import matplotlib.pyplot as plt\n",
    "%matplotlib inline\n",
    "\n",
    "i= np.arange(0,200)\n",
    "plt.xlabel(\"Iteration\")\n",
    "plt.ylabel(\"Cost,J\")\n",
    "plt.plot(i,h_theta_x,color='blue')"
   ]
  },
  {
   "cell_type": "code",
   "execution_count": null,
   "metadata": {},
   "outputs": [],
   "source": []
  },
  {
   "cell_type": "code",
   "execution_count": null,
   "metadata": {},
   "outputs": [],
   "source": []
  }
 ],
 "metadata": {
  "kernelspec": {
   "display_name": "tf",
   "language": "python",
   "name": "tf"
  },
  "language_info": {
   "codemirror_mode": {
    "name": "ipython",
    "version": 3
   },
   "file_extension": ".py",
   "mimetype": "text/x-python",
   "name": "python",
   "nbconvert_exporter": "python",
   "pygments_lexer": "ipython3",
   "version": "3.6.6"
  }
 },
 "nbformat": 4,
 "nbformat_minor": 2
}
