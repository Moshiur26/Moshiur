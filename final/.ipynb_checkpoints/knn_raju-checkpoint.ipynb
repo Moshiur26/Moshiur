{
 "cells": [
  {
   "cell_type": "code",
   "execution_count": 1,
   "metadata": {},
   "outputs": [],
   "source": [
    "from sklearn import datasets\n",
    "import numpy as np\n",
    "import math\n",
    "from sklearn.model_selection import train_test_split\n",
    "from sklearn.neighbors import KNeighborsClassifier\n",
    "\n",
    "\n",
    "iris = datasets.load_iris()\n",
    "X = iris.data[:, :2] \n",
    "y = iris.target\n",
    "\n",
    "X_train, X_test, y_train, y_test = train_test_split(\n",
    "     X, y, test_size=0.33,random_state=42)\n",
    "\n",
    "test_set_size = len(y_test)"
   ]
  },
  {
   "cell_type": "code",
   "execution_count": 3,
   "metadata": {},
   "outputs": [
    {
     "name": "stdout",
     "output_type": "stream",
     "text": [
      "So the accuracy of my KNN classifier is :  76.0 percent\n"
     ]
    }
   ],
   "source": [
    "#after executing this line u can assume\n",
    "#that u have built the classifier\n",
    "clf = KNeighborsClassifier(n_neighbors=3)\n",
    "\n",
    "#after executing this line u can think that u have trained that classifier\n",
    "clf.fit(X_train, y_train)\n",
    "\n",
    "#now make predictions on  the test set\n",
    "y_pred = clf.predict(X_test)   \n",
    "    \n",
    "    \n",
    "#find out the accuracy\n",
    "number_of_test_instances_correctly_classified = np.count_nonzero(y_pred==y_test)\n",
    "print(\"So the accuracy of my KNN classifier is : \",(number_of_test_instances_correctly_classified/test_set_size)*100,\"percent\")        \n",
    "    "
   ]
  },
  {
   "cell_type": "code",
   "execution_count": null,
   "metadata": {},
   "outputs": [],
   "source": []
  }
 ],
 "metadata": {
  "kernelspec": {
   "display_name": "tf",
   "language": "python",
   "name": "tf"
  },
  "language_info": {
   "codemirror_mode": {
    "name": "ipython",
    "version": 3
   },
   "file_extension": ".py",
   "mimetype": "text/x-python",
   "name": "python",
   "nbconvert_exporter": "python",
   "pygments_lexer": "ipython3",
   "version": "3.6.6"
  }
 },
 "nbformat": 4,
 "nbformat_minor": 2
}
