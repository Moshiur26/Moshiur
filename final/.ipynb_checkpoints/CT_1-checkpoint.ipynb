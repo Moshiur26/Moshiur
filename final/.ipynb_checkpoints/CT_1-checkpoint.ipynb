{
 "cells": [
  {
   "cell_type": "code",
   "execution_count": 1,
   "metadata": {},
   "outputs": [
    {
     "data": {
      "text/plain": [
       "array([150., 172., 167., 264., 198., 109.,  86.,  85.,  53., 275., 242.,\n",
       "        80., 129., 212., 150., 276.,  48., 252.,  72.,  84., 346.,  91.,\n",
       "        60., 131., 237.,  77., 154., 225., 153.,  91., 200., 210., 109.,\n",
       "       241., 259.,  69.,  25.,  50., 151., 202., 292., 214., 252., 118.,\n",
       "       147.,  81.,  64.,  48., 182.,  43., 296., 129., 233., 181.,  95.,\n",
       "       178., 275., 174.,  90., 128., 235.,  84., 242., 198.,  83.,  90.,\n",
       "       168., 121., 103., 219.,  90., 158.,  88., 127.,  97., 201., 145.,\n",
       "       137.,  89., 164., 229., 124.,  42., 124.,  72.,  68.,  64., 179.,\n",
       "       200., 281., 196., 111., 110., 252.,  53.,  73., 138.,  85., 206.,\n",
       "        55.,  48.,  96., 219.,  55., 321., 166., 310.,  74., 131.,  63.,\n",
       "       113., 214.,  66., 182., 253., 185., 225.,  96., 268.,  39.,  52.,\n",
       "        96., 141., 178.,  71., 197., 274., 275., 156., 101.,  55., 102.,\n",
       "        49., 131.,  84., 120., 144., 142.,  49.,  94., 180., 283.,  69.,\n",
       "       235., 311., 190., 135., 192.,  97., 216.,  67., 116., 168., 236.,\n",
       "       173., 191.,  85., 142., 196.,  65., 164., 297., 261.,  92., 248.,\n",
       "        97., 123., 220., 139.,  77., 248.,  51.,  59.,  87., 101., 151.,\n",
       "       272., 273.,  88., 208., 111., 292., 209., 233.,  95.,  47.,  45.,\n",
       "       131.,  75., 277., 302., 150.,  31., 173., 270.,  71., 150., 263.,\n",
       "       263.,  90., 243., 217., 134.,  71., 191., 152.,  84., 222., 118.,\n",
       "       246., 293., 262.,  72.,  40.,  77.,  77., 237.,  44.,  47., 152.,\n",
       "       128., 233., 144., 272., 220., 190., 275., 258.,  51., 232., 197.,\n",
       "       232., 185., 332.,  75.,  78., 100., 184., 103., 262., 174., 244.,\n",
       "       115., 137.,  59.,  60., 125.,  39., 183., 102., 128., 138.,  91.,\n",
       "        99., 170., 317., 281., 142., 144., 155., 280., 200.,  94., 258.,\n",
       "       108., 268., 265.,  65.,  66., 179., 200.,  52., 246., 109., 143.,\n",
       "       257.,  69.,  93.,  55.,  88., 281., 258., 177., 303.,  89., 170.,\n",
       "        68., 163., 161.,  72., 243.,  52., 104.,  99., 148., 132.])"
      ]
     },
     "execution_count": 1,
     "metadata": {},
     "output_type": "execute_result"
    }
   ],
   "source": [
    "from sklearn import datasets\n",
    "import numpy as np\n",
    "import math\n",
    "from sklearn.model_selection import train_test_split\n",
    "\n",
    "diabetis = datasets.load_diabetes()\n",
    "X = diabetis.data[:,:] \n",
    "y = diabetis.target\n",
    "\n",
    "X_train, X_test, y_train, y_test = train_test_split(\n",
    "     X, y, test_size=0.33,random_state=9)\n",
    "\n",
    "train_set_size = len(y_train)\n",
    "test_set_size = len(y_test)\n",
    "y_train"
   ]
  },
  {
   "cell_type": "code",
   "execution_count": 2,
   "metadata": {},
   "outputs": [],
   "source": [
    "def kNearestN(d,k):\n",
    "    sz=k\n",
    "    classVal=0\n",
    "    for i in range(k) :\n",
    "        mini=d[i]\n",
    "        j=i\n",
    "        indx=i\n",
    "        for k in range(train_set_size-i) :\n",
    "            if mini>d[j]:\n",
    "                indx=j\n",
    "                mini=d[j]\n",
    "            \n",
    "            j+=1\n",
    "        if mini!=d[i]:\n",
    "            temp=d[i]\n",
    "            d[i]=mini\n",
    "            d[indx]=temp\n",
    "        classVal+=y_train[indx]\n",
    "    \n",
    "    #print(sz)    \n",
    "    return classVal/sz    \n",
    "    "
   ]
  },
  {
   "cell_type": "code",
   "execution_count": 3,
   "metadata": {},
   "outputs": [],
   "source": [
    "def function(kk):\n",
    "    y_pridict=[]\n",
    "    for i in range(test_set_size) :\n",
    "        x_1 = X_test[i,:]\n",
    "        distance=[]\n",
    "        for j in range(train_set_size) :\n",
    "            x_2 = X_train[j,:]\n",
    "            distance.append(math.sqrt(np.sum((x_1 - x_2)**2)))\n",
    "        #distance.append(math.sqrt(math.pow(x_1[0]-x_2[0],2)+math.pow(x_1[1]-x_2[1],2)+math.pow(x_1[1]-x_2[1],2)+math.pow(x_1[1]-x_2[1],2)+math.pow(x_1[1]-x_2[1],2)+math.pow(x_1[1]-x_2[1],2)+math.pow(x_1[1]-x_2[1],2)+math.pow(x_1[1]-x_2[1],2)+math.pow(x_1[1]-x_2[1],2)+math.pow(x_1[1]-x_2[1],2)))\n",
    "        y_pridict.append(kNearestN(distance,kk))\n",
    "    \n",
    "    l=len(y_test)\n",
    "    lens=l\n",
    "    sums=0\n",
    "    avrg=0\n",
    "    for i in range(l):\n",
    "        sums+=math.pow((y_pridict[i]-y_test[i]),2)\n",
    "    avrg=sums/lens\n",
    "    return avrg\n",
    "    #print(\"Average Square ROOT : \",avrg)\n",
    "    \n",
    "    #print(distance,\"\\n\")\n",
    "    #train=kNearestN(distance)\n",
    "#print(y_pridict,\" \\n\",y_test)\n"
   ]
  },
  {
   "cell_type": "code",
   "execution_count": 10,
   "metadata": {},
   "outputs": [
    {
     "name": "stdout",
     "output_type": "stream",
     "text": [
      "For k= 3 :  3344.6286149162856 \n",
      "\n",
      "\n",
      "For k= 5 :  3004.0947945205485 \n",
      "\n",
      "\n",
      "For k= 11 :  2697.029718102569 \n",
      "\n",
      "\n",
      "For k= 9 :  2810.735413495687 \n",
      "\n",
      "\n",
      "For k= 7 :  2765.836175566118 \n",
      "\n",
      "\n",
      "Minimum Value = 2697.029718102569    MIniimum val for K : 11 \n",
      "\n",
      "\n"
     ]
    }
   ],
   "source": [
    "ar=[3,5,11,9,7]\n",
    "mnk=0;\n",
    "mnv=0\n",
    "indx=0\n",
    "for i in ar:\n",
    "    val=function(i)\n",
    "    print(\"For k=\",i,\": \",val,\"\\n\\n\")\n",
    "    if indx==0:\n",
    "        mnv=val\n",
    "        mnk=i\n",
    "    else:\n",
    "        if mnv>val:\n",
    "            mnv=val\n",
    "            mnk=i\n",
    "    indx=2\n",
    "    \n",
    "print(\"Minimum Value =\",mnv,\"   MIniimum val for K :\",mnk,\"\\n\\n\")\n"
   ]
  },
  {
   "cell_type": "code",
   "execution_count": null,
   "metadata": {},
   "outputs": [],
   "source": [
    "\n",
    "    "
   ]
  }
 ],
 "metadata": {
  "kernelspec": {
   "display_name": "Python 3",
   "language": "python",
   "name": "python3"
  },
  "language_info": {
   "codemirror_mode": {
    "name": "ipython",
    "version": 3
   },
   "file_extension": ".py",
   "mimetype": "text/x-python",
   "name": "python",
   "nbconvert_exporter": "python",
   "pygments_lexer": "ipython3",
   "version": "3.6.8"
  }
 },
 "nbformat": 4,
 "nbformat_minor": 2
}
