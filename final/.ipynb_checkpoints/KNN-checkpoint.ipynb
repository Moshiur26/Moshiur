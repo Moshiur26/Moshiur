{
 "cells": [
  {
   "cell_type": "raw",
   "metadata": {},
   "source": [
    "# get euclidean distance between x_1 and x_2\n",
    "    #find nearest neighbors\n",
    "    #find out the majorioty class    \n",
    "    #perform classification here"
   ]
  },
  {
   "cell_type": "code",
   "execution_count": 6,
   "metadata": {},
   "outputs": [
    {
     "data": {
      "text/plain": [
       "array([1, 1, 0, 1, 2, 2, 2, 2, 1, 0, 2, 0, 0, 1, 2, 0, 1, 1, 2, 1, 1, 0,\n",
       "       0, 2, 1, 0, 2, 1, 2, 1, 0, 1, 1, 0, 0, 2, 1, 2, 0, 1, 0, 0, 1, 2,\n",
       "       2, 0, 0, 1, 1, 2, 2, 0, 2, 0, 0, 2, 0, 2, 1, 0, 2, 1, 1, 0, 2, 1,\n",
       "       2, 2, 1, 2, 1, 1, 0, 1, 2, 0, 2, 1, 0, 2, 2, 0, 2, 0, 0, 2, 2, 1,\n",
       "       2, 1, 2, 0, 1, 0, 1, 2, 1, 2, 1, 2])"
      ]
     },
     "execution_count": 6,
     "metadata": {},
     "output_type": "execute_result"
    }
   ],
   "source": [
    "from sklearn import datasets\n",
    "import numpy as np\n",
    "import math\n",
    "from sklearn.model_selection import train_test_split\n",
    "\n",
    "iris = datasets.load_iris()\n",
    "X = iris.data \n",
    "y = iris.target\n",
    "\n",
    "X_train, X_test, y_train, y_test = train_test_split(\n",
    "     X, y, test_size=0.33,random_state=9)\n",
    "\n",
    "train_set_size = len(y_train)\n",
    "test_set_size = len(y_test)\n",
    "\n",
    "distances = np.zeros((1,train_set_size))\n",
    "y_train"
   ]
  },
  {
   "cell_type": "code",
   "execution_count": 7,
   "metadata": {},
   "outputs": [],
   "source": [
    "def kNearestN(d,k):\n",
    "    classVal=[]\n",
    "    for i in range(k) :\n",
    "        mini=d[i]\n",
    "        j=i\n",
    "        indx=i\n",
    "        for k in range(train_set_size-i) :\n",
    "            if mini>d[j]:\n",
    "                indx=j\n",
    "                mini=d[j]\n",
    "            \n",
    "            j+=1\n",
    "        if mini!=d[i]:\n",
    "            temp=d[i]\n",
    "            d[i]=mini\n",
    "            d[indx]=temp\n",
    "        classVal.append(y_train[indx])\n",
    "    return classVal    \n",
    "    "
   ]
  },
  {
   "cell_type": "code",
   "execution_count": 8,
   "metadata": {},
   "outputs": [],
   "source": [
    "def largeNumberOfClass(classVal):\n",
    "    largeNumberOfClass =[0,0,0]\n",
    "    for i in classVal:\n",
    "        if i==0:\n",
    "            largeNumberOfClass[0] +=1\n",
    "        elif i==1 :\n",
    "            largeNumberOfClass[1] +=1\n",
    "        else :\n",
    "            largeNumberOfClass[2] +=1 \n",
    "    \n",
    "    #print(\" large: \",largeNumberOfClass,\"\\n\")\n",
    "    if largeNumberOfClass[0]>=largeNumberOfClass[1] and largeNumberOfClass[0]>=largeNumberOfClass[2]:\n",
    "        return 0\n",
    "    elif largeNumberOfClass[1]>=largeNumberOfClass[0] and largeNumberOfClass[1]>=largeNumberOfClass[2]:\n",
    "        return 1\n",
    "    else:\n",
    "        return 2\n",
    "\n",
    "        "
   ]
  },
  {
   "cell_type": "code",
   "execution_count": 9,
   "metadata": {},
   "outputs": [],
   "source": [
    "y_pridict=[]\n",
    "for i in range(test_set_size) :\n",
    "    x_1 = X_test[i,:]\n",
    "    distance=[]\n",
    "    for j in range(train_set_size) :\n",
    "        x_2 = X_train[j,:]\n",
    "        distance.append(math.sqrt(math.pow(x_1[0]-x_2[0],2)+math.pow(x_1[1]-x_2[1],2)))\n",
    "\n",
    "    p=largeNumberOfClass(kNearestN(distance,8))\n",
    "    y_pridict.append(p)\n",
    "    \n",
    "    #print(distance,\"\\n\")\n",
    "    #train=kNearestN(distance)\n",
    "#print(y_pridict,\" \\n\",y_test)\n"
   ]
  },
  {
   "cell_type": "code",
   "execution_count": 10,
   "metadata": {},
   "outputs": [
    {
     "name": "stdout",
     "output_type": "stream",
     "text": [
      "success :  44    unsuccess :  6  percentage :  88.0 %\n"
     ]
    }
   ],
   "source": [
    "success=0\n",
    "unsuccess=0\n",
    "l=len(y_test)\n",
    "for i in range(l):\n",
    "    if y_pridict[i]==y_test[i]:\n",
    "        success+=1\n",
    "    else :\n",
    "        unsuccess+=1\n",
    "percent=(success/50.00)*100.0\n",
    "print(\"success : \",success,\"   unsuccess : \",unsuccess,\" percentage : \",percent,\"%\")"
   ]
  },
  {
   "cell_type": "code",
   "execution_count": null,
   "metadata": {},
   "outputs": [],
   "source": []
  }
 ],
 "metadata": {
  "kernelspec": {
   "display_name": "Python 3",
   "language": "python",
   "name": "python3"
  },
  "language_info": {
   "codemirror_mode": {
    "name": "ipython",
    "version": 3
   },
   "file_extension": ".py",
   "mimetype": "text/x-python",
   "name": "python",
   "nbconvert_exporter": "python",
   "pygments_lexer": "ipython3",
   "version": "3.6.7"
  }
 },
 "nbformat": 4,
 "nbformat_minor": 2
}
