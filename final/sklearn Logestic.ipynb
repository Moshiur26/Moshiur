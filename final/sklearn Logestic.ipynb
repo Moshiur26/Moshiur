{
 "cells": [
  {
   "cell_type": "code",
   "execution_count": 1,
   "metadata": {},
   "outputs": [],
   "source": [
    "from sklearn import datasets\n",
    "import numpy as np\n",
    "import math\n",
    "from sklearn.model_selection import train_test_split\n",
    "from sklearn.linear_model import LogisticRegression\n",
    "from sklearn import linear_model\n",
    "from sklearn.metrics import mean_squared_error, r2_score\n",
    "import matplotlib.pyplot as plt\n",
    "\n",
    "\n",
    "iris = datasets.load_iris()\n",
    "X = iris.data[:, :2] \n",
    "y = iris.target\n",
    "\n",
    "X_train, X_test, y_train, y_test = train_test_split(\n",
    "     X, y, test_size=0.33,random_state=42)\n",
    "\n",
    "test_set_size = len(y_test)\n"
   ]
  },
  {
   "cell_type": "code",
   "execution_count": 2,
   "metadata": {},
   "outputs": [
    {
     "name": "stdout",
     "output_type": "stream",
     "text": [
      "C :  10   Accuracy :  0.82\n",
      "C :  1   Accuracy :  0.82\n",
      "C :  0.1   Accuracy :  0.82\n",
      "C :  0.01   Accuracy :  0.84\n",
      "C :  0.001   Accuracy :  0.36\n",
      "C :  0.0001   Accuracy :  0.3\n",
      "C :  1e-05   Accuracy :  0.3\n",
      "C :  1e-06   Accuracy :  0.3\n",
      "C :  1e-07   Accuracy :  0.3\n"
     ]
    }
   ],
   "source": [
    "# Create linear regression object\n",
    "\n",
    "arr=[10,1,0.1,0.01,0.001, 0.0001,0.00001,0.000001,0.0000001]\n",
    "\n",
    "ypredict=[]\n",
    "\n",
    "for i in arr:\n",
    "\n",
    "    clf = LogisticRegression(random_state=0, solver='lbfgs',multi_class='multinomial',C=i).fit(X_train, y_train)\n",
    "    clf.predict(X_train[:2, :])\n",
    "\n",
    "    clf.predict_proba(X_train[:2, :])\n",
    "\n",
    "    #clf.score(X_train, y_train)\n",
    "\n",
    "    ypredict.append(clf.score(X_test, y_test))\n",
    "\n",
    "\n",
    "for i in range(len(arr)):\n",
    "    print(\"C : \",arr[i],\"  Accuracy : \",ypredict[i])\n"
   ]
  },
  {
   "cell_type": "code",
   "execution_count": 14,
   "metadata": {},
   "outputs": [
    {
     "data": {
      "text/plain": [
       "array([1, 2, 1, 0, 2, 1, 0, 0, 0, 1, 2, 0, 0, 0, 1, 0, 1, 2, 0, 2, 1, 0,\n",
       "       1, 1, 1, 1, 2, 1, 0, 1, 2, 0, 0, 1, 2, 0, 1, 0, 0, 1, 1, 2, 1, 1,\n",
       "       2, 1, 0, 0, 1, 2, 0, 0, 0, 2, 2, 0, 2, 2, 0, 2, 2, 2, 2, 2, 0, 2,\n",
       "       1, 2, 1, 1, 2, 0, 2, 1, 0, 1, 2, 2, 0, 1, 2, 2, 0, 2, 0, 2, 2, 2,\n",
       "       1, 2, 1, 2, 1, 1, 0, 1, 1, 0, 1, 2])"
      ]
     },
     "execution_count": 14,
     "metadata": {},
     "output_type": "execute_result"
    }
   ],
   "source": [
    "clf = LogisticRegression(random_state=0, solver='lbfgs',multi_class='multinomial',C=0.01).fit(X_train, y_train)\n",
    "k=clf.predict(X_train[:, :])\n",
    "k"
   ]
  },
  {
   "cell_type": "code",
   "execution_count": 15,
   "metadata": {},
   "outputs": [
    {
     "data": {
      "text/plain": [
       "array([1, 2, 1, 0, 2, 1, 0, 0, 0, 1, 2, 0, 0, 0, 1, 0, 1, 2, 0, 1, 2, 0,\n",
       "       2, 2, 1, 1, 2, 1, 0, 1, 2, 0, 0, 1, 1, 0, 2, 0, 0, 1, 1, 2, 1, 2,\n",
       "       2, 1, 0, 0, 2, 2, 0, 0, 0, 1, 2, 0, 2, 2, 0, 1, 1, 2, 1, 2, 0, 2,\n",
       "       1, 2, 1, 1, 1, 0, 1, 1, 0, 1, 2, 2, 0, 1, 2, 2, 0, 2, 0, 1, 2, 2,\n",
       "       1, 2, 1, 1, 2, 2, 0, 1, 2, 0, 1, 2])"
      ]
     },
     "execution_count": 15,
     "metadata": {},
     "output_type": "execute_result"
    }
   ],
   "source": [
    "y_train"
   ]
  },
  {
   "cell_type": "code",
   "execution_count": null,
   "metadata": {},
   "outputs": [],
   "source": []
  }
 ],
 "metadata": {
  "kernelspec": {
   "display_name": "tf",
   "language": "python",
   "name": "tf"
  },
  "language_info": {
   "codemirror_mode": {
    "name": "ipython",
    "version": 3
   },
   "file_extension": ".py",
   "mimetype": "text/x-python",
   "name": "python",
   "nbconvert_exporter": "python",
   "pygments_lexer": "ipython3",
   "version": "3.6.6"
  }
 },
 "nbformat": 4,
 "nbformat_minor": 2
}
