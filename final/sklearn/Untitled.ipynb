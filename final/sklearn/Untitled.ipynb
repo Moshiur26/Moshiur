{
 "cells": [
  {
   "cell_type": "code",
   "execution_count": 1,
   "metadata": {},
   "outputs": [
    {
     "data": {
      "text/plain": [
       "array([['Pregnancies', 'Glucose', 'BloodPressure', ...,\n",
       "        'DiabetesPedigreeFunction', 'Age', 'Outcome'],\n",
       "       ['6', '148', '72', ..., '0.627', '50', '1'],\n",
       "       ['1', '85', '66', ..., '0.351', '31', '0'],\n",
       "       ...,\n",
       "       ['5', '121', '72', ..., '0.245', '30', '0'],\n",
       "       ['1', '126', '60', ..., '0.349', '47', '1'],\n",
       "       ['1', '93', '70', ..., '0.315', '23', '0']], dtype=object)"
      ]
     },
     "execution_count": 1,
     "metadata": {},
     "output_type": "execute_result"
    }
   ],
   "source": [
    "import pandas as pn\n",
    "data=pn.read_csv(\"diabetes.csv\",header=None)\n",
    "import numpy as np\n",
    "data=np.asarray(data)\n",
    "X=data[:,:data.shape[1]-1]\n",
    "y=data[:,-1:]\n",
    "data"
   ]
  },
  {
   "cell_type": "code",
   "execution_count": null,
   "metadata": {},
   "outputs": [],
   "source": []
  }
 ],
 "metadata": {
  "kernelspec": {
   "display_name": "tf",
   "language": "python",
   "name": "tf"
  },
  "language_info": {
   "codemirror_mode": {
    "name": "ipython",
    "version": 3
   },
   "file_extension": ".py",
   "mimetype": "text/x-python",
   "name": "python",
   "nbconvert_exporter": "python",
   "pygments_lexer": "ipython3",
   "version": "3.6.6"
  }
 },
 "nbformat": 4,
 "nbformat_minor": 2
}
