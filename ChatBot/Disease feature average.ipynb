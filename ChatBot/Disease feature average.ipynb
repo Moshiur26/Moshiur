{
 "cells": [
  {
   "cell_type": "code",
   "execution_count": 1,
   "metadata": {},
   "outputs": [
    {
     "data": {
      "text/plain": [
       "array(['(vertigo) Paroymsal  Positional Vertigo', 'AIDS', 'Acne',\n",
       "       'Alcoholic hepatitis', 'Allergy', 'Arthritis', 'Bronchial Asthma',\n",
       "       'Cervical spondylosis', 'Chicken pox', 'Chronic cholestasis',\n",
       "       'Common Cold', 'Dengue', 'Diabetes ',\n",
       "       'Dimorphic hemmorhoids(piles)', 'Drug Reaction',\n",
       "       'Fungal infection', 'GERD', 'Gastroenteritis', 'Heart attack',\n",
       "       'Hepatitis B', 'Hepatitis C', 'Hepatitis D', 'Hepatitis E',\n",
       "       'Hypertension ', 'Hyperthyroidism', 'Hypoglycemia',\n",
       "       'Hypothyroidism', 'Impetigo', 'Jaundice', 'Malaria', 'Migraine',\n",
       "       'Osteoarthristis', 'Paralysis (brain hemorrhage)',\n",
       "       'Peptic ulcer diseae', 'Pneumonia', 'Psoriasis', 'Tuberculosis',\n",
       "       'Typhoid', 'Urinary tract infection', 'Varicose veins',\n",
       "       'hepatitis A'], dtype=object)"
      ]
     },
     "execution_count": 1,
     "metadata": {},
     "output_type": "execute_result"
    }
   ],
   "source": [
    "import numpy as np\n",
    "import pandas as pn\n",
    "\n",
    "data=pn.read_csv(\"E:/AI/Py Project/disease/Gaji (Disease)/Testing.csv\",header=None)\n",
    "data=np.asarray(data)\n",
    "data = np.delete(data, (0), axis=0)\n",
    "X=data[:,:data.shape[1]-1]\n",
    "y=data[:,-1:]\n",
    "\n",
    "X=X.astype(int)\n",
    "\n",
    "s=X.sum(axis=1).sum(axis=0)\n",
    "#X.sum(axis=1)\n",
    "#X[0]\n",
    "s/len(X)\n",
    "l=len(np.unique(y))\n",
    "np.unique(y)\n"
   ]
  },
  {
   "cell_type": "code",
   "execution_count": null,
   "metadata": {},
   "outputs": [],
   "source": [
    "7.4487804878048784"
   ]
  }
 ],
 "metadata": {
  "kernelspec": {
   "display_name": "tf",
   "language": "python",
   "name": "tf"
  },
  "language_info": {
   "codemirror_mode": {
    "name": "ipython",
    "version": 3
   },
   "file_extension": ".py",
   "mimetype": "text/x-python",
   "name": "python",
   "nbconvert_exporter": "python",
   "pygments_lexer": "ipython3",
   "version": "3.6.6"
  }
 },
 "nbformat": 4,
 "nbformat_minor": 2
}
