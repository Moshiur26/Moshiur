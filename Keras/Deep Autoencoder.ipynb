{
 "cells": [
  {
   "cell_type": "code",
   "execution_count": 1,
   "metadata": {},
   "outputs": [
    {
     "name": "stderr",
     "output_type": "stream",
     "text": [
      "Using TensorFlow backend.\n"
     ]
    }
   ],
   "source": [
    "import keras\n",
    "from keras import backend as K\n",
    "from keras.models import Sequential,Model\n",
    "from keras.layers import Activation\n",
    "from keras.layers import Dense,Input,Conv2D,MaxPooling2D,UpSampling2D,Flatten,Reshape\n",
    "from keras.optimizers import Adam\n",
    "from keras.metrics import categorical_crossentropy\n",
    "\n",
    "import matplotlib.pyplot as plt\n",
    "import numpy as np\n",
    "import pandas as pn\n",
    "from sklearn.model_selection import train_test_split"
   ]
  },
  {
   "cell_type": "code",
   "execution_count": 2,
   "metadata": {},
   "outputs": [],
   "source": [
    "from keras.datasets import mnist\n",
    "#download mnist data and split into train and test sets\n",
    "(X_train, y_train), (X_test, y_test) = mnist.load_data()\n",
    "#X_train[33]"
   ]
  },
  {
   "cell_type": "code",
   "execution_count": 3,
   "metadata": {},
   "outputs": [
    {
     "data": {
      "text/plain": [
       "255.0"
      ]
     },
     "execution_count": 3,
     "metadata": {},
     "output_type": "execute_result"
    }
   ],
   "source": [
    "max_value=float(X_train.max())\n",
    "X_train=X_train.astype('float32')/max_value\n",
    "X_test=X_test.astype('float32')/max_value\n",
    "max_value"
   ]
  },
  {
   "cell_type": "code",
   "execution_count": 4,
   "metadata": {},
   "outputs": [
    {
     "data": {
      "text/plain": [
       "(60000, 28, 28)"
      ]
     },
     "execution_count": 4,
     "metadata": {},
     "output_type": "execute_result"
    }
   ],
   "source": [
    "X_train.shape"
   ]
  },
  {
   "cell_type": "code",
   "execution_count": 5,
   "metadata": {},
   "outputs": [
    {
     "data": {
      "text/plain": [
       "(10000, 28, 28)"
      ]
     },
     "execution_count": 5,
     "metadata": {},
     "output_type": "execute_result"
    }
   ],
   "source": [
    "X_test.shape"
   ]
  },
  {
   "cell_type": "code",
   "execution_count": 6,
   "metadata": {},
   "outputs": [
    {
     "data": {
      "text/plain": [
       "(60000, 784)"
      ]
     },
     "execution_count": 6,
     "metadata": {},
     "output_type": "execute_result"
    }
   ],
   "source": [
    "X_train=X_train.reshape(len(X_train),np.prod(X_train.shape[1:]))\n",
    "X_test=X_test.reshape(len(X_test),np.prod(X_test.shape[1:]))\n",
    "X_train.shape"
   ]
  },
  {
   "cell_type": "code",
   "execution_count": 7,
   "metadata": {},
   "outputs": [
    {
     "data": {
      "text/plain": [
       "24.5"
      ]
     },
     "execution_count": 7,
     "metadata": {},
     "output_type": "execute_result"
    }
   ],
   "source": [
    "input_dim=X_train.shape[1]\n",
    "encoding_dim=32\n",
    "compression_factor=float(input_dim)/encoding_dim\n",
    "input_dim\n",
    "compression_factor"
   ]
  },
  {
   "cell_type": "code",
   "execution_count": 8,
   "metadata": {},
   "outputs": [
    {
     "name": "stdout",
     "output_type": "stream",
     "text": [
      "_________________________________________________________________\n",
      "Layer (type)                 Output Shape              Param #   \n",
      "=================================================================\n",
      "dense_1 (Dense)              (None, 128)               100480    \n",
      "_________________________________________________________________\n",
      "dense_2 (Dense)              (None, 64)                8256      \n",
      "_________________________________________________________________\n",
      "dense_3 (Dense)              (None, 32)                2080      \n",
      "_________________________________________________________________\n",
      "dense_4 (Dense)              (None, 64)                2112      \n",
      "_________________________________________________________________\n",
      "dense_5 (Dense)              (None, 128)               8320      \n",
      "_________________________________________________________________\n",
      "dense_6 (Dense)              (None, 784)               101136    \n",
      "=================================================================\n",
      "Total params: 222,384\n",
      "Trainable params: 222,384\n",
      "Non-trainable params: 0\n",
      "_________________________________________________________________\n"
     ]
    }
   ],
   "source": [
    "autoencoder=Sequential()\n",
    "#Encoder Layerss\n",
    "autoencoder.add(Dense(4*encoding_dim,input_shape=(input_dim,),activation='relu'))\n",
    "autoencoder.add(Dense(2*encoding_dim,activation='relu'))\n",
    "autoencoder.add(Dense(encoding_dim,activation='relu'))\n",
    "\n",
    "#Decoder Layers\n",
    "autoencoder.add(Dense(2*encoding_dim,activation='relu'))\n",
    "autoencoder.add(Dense(4*encoding_dim,activation='relu'))\n",
    "autoencoder.add(Dense(input_dim,activation='sigmoid'))\n",
    "autoencoder.summary()"
   ]
  },
  {
   "cell_type": "code",
   "execution_count": 11,
   "metadata": {},
   "outputs": [
    {
     "name": "stdout",
     "output_type": "stream",
     "text": [
      "_________________________________________________________________\n",
      "Layer (type)                 Output Shape              Param #   \n",
      "=================================================================\n",
      "input_3 (InputLayer)         (None, 784)               0         \n",
      "_________________________________________________________________\n",
      "dense_1 (Dense)              (None, 128)               100480    \n",
      "_________________________________________________________________\n",
      "dense_2 (Dense)              (None, 64)                8256      \n",
      "_________________________________________________________________\n",
      "dense_3 (Dense)              (None, 32)                2080      \n",
      "=================================================================\n",
      "Total params: 110,816\n",
      "Trainable params: 110,816\n",
      "Non-trainable params: 0\n",
      "_________________________________________________________________\n"
     ]
    }
   ],
   "source": [
    "input_img=Input(shape=(input_dim,))\n",
    "encoder_layer1=autoencoder.layers[0]\n",
    "encoder_layer2=autoencoder.layers[1]\n",
    "encoder_layer3=autoencoder.layers[2]\n",
    "encoder=Model(input_img,encoder_layer3(encoder_layer2(encoder_layer1(input_img))))\n",
    "encoder.summary()"
   ]
  },
  {
   "cell_type": "code",
   "execution_count": 12,
   "metadata": {},
   "outputs": [
    {
     "name": "stdout",
     "output_type": "stream",
     "text": [
      "Train on 60000 samples, validate on 10000 samples\n",
      "Epoch 1/50\n",
      "60000/60000 [==============================] - 8s 139us/step - loss: 0.2401 - val_loss: 0.1667\n",
      "Epoch 2/50\n",
      "60000/60000 [==============================] - 8s 134us/step - loss: 0.1538 - val_loss: 0.1406\n",
      "Epoch 3/50\n",
      "60000/60000 [==============================] - 8s 131us/step - loss: 0.1349 - val_loss: 0.1277\n",
      "Epoch 4/50\n",
      "60000/60000 [==============================] - 8s 138us/step - loss: 0.1256 - val_loss: 0.1208\n",
      "Epoch 5/50\n",
      "60000/60000 [==============================] - 9s 158us/step - loss: 0.1200 - val_loss: 0.1167\n",
      "Epoch 6/50\n",
      "60000/60000 [==============================] - 9s 147us/step - loss: 0.1150 - val_loss: 0.1109\n",
      "Epoch 7/50\n",
      "60000/60000 [==============================] - 9s 156us/step - loss: 0.1107 - val_loss: 0.1078\n",
      "Epoch 8/50\n",
      "60000/60000 [==============================] - 9s 152us/step - loss: 0.1076 - val_loss: 0.1057\n",
      "Epoch 9/50\n",
      "60000/60000 [==============================] - 10s 166us/step - loss: 0.1053 - val_loss: 0.1032\n",
      "Epoch 10/50\n",
      "60000/60000 [==============================] - 7s 122us/step - loss: 0.1034 - val_loss: 0.1012\n",
      "Epoch 11/50\n",
      "60000/60000 [==============================] - 7s 111us/step - loss: 0.1017 - val_loss: 0.1003\n",
      "Epoch 12/50\n",
      "60000/60000 [==============================] - 6s 106us/step - loss: 0.1004 - val_loss: 0.0983\n",
      "Epoch 13/50\n",
      "60000/60000 [==============================] - 7s 125us/step - loss: 0.0989 - val_loss: 0.0975\n",
      "Epoch 14/50\n",
      "60000/60000 [==============================] - 9s 154us/step - loss: 0.0978 - val_loss: 0.0964\n",
      "Epoch 15/50\n",
      "60000/60000 [==============================] - 8s 135us/step - loss: 0.0969 - val_loss: 0.0956\n",
      "Epoch 16/50\n",
      "60000/60000 [==============================] - 8s 137us/step - loss: 0.0961 - val_loss: 0.0948\n",
      "Epoch 17/50\n",
      "60000/60000 [==============================] - 7s 124us/step - loss: 0.0954 - val_loss: 0.0944\n",
      "Epoch 18/50\n",
      "60000/60000 [==============================] - 8s 136us/step - loss: 0.0947 - val_loss: 0.0933\n",
      "Epoch 19/50\n",
      "60000/60000 [==============================] - 8s 135us/step - loss: 0.0940 - val_loss: 0.0929\n",
      "Epoch 20/50\n",
      "60000/60000 [==============================] - 7s 125us/step - loss: 0.0935 - val_loss: 0.0926\n",
      "Epoch 21/50\n",
      "60000/60000 [==============================] - 7s 124us/step - loss: 0.0930 - val_loss: 0.0924\n",
      "Epoch 22/50\n",
      "60000/60000 [==============================] - 8s 128us/step - loss: 0.0924 - val_loss: 0.0918\n",
      "Epoch 23/50\n",
      "60000/60000 [==============================] - 7s 124us/step - loss: 0.0919 - val_loss: 0.0909\n",
      "Epoch 24/50\n",
      "60000/60000 [==============================] - 8s 126us/step - loss: 0.0915 - val_loss: 0.0905\n",
      "Epoch 25/50\n",
      "60000/60000 [==============================] - 7s 124us/step - loss: 0.0911 - val_loss: 0.0903\n",
      "Epoch 26/50\n",
      "60000/60000 [==============================] - 8s 128us/step - loss: 0.0908 - val_loss: 0.0903\n",
      "Epoch 27/50\n",
      "60000/60000 [==============================] - 8s 128us/step - loss: 0.0904 - val_loss: 0.0901\n",
      "Epoch 28/50\n",
      "60000/60000 [==============================] - 8s 128us/step - loss: 0.0901 - val_loss: 0.0895\n",
      "Epoch 29/50\n",
      "60000/60000 [==============================] - 8s 127us/step - loss: 0.0898 - val_loss: 0.0896\n",
      "Epoch 30/50\n",
      "60000/60000 [==============================] - 8s 128us/step - loss: 0.0896 - val_loss: 0.0886\n",
      "Epoch 31/50\n",
      "60000/60000 [==============================] - 8s 128us/step - loss: 0.0892 - val_loss: 0.0888\n",
      "Epoch 32/50\n",
      "60000/60000 [==============================] - 8s 128us/step - loss: 0.0890 - val_loss: 0.0883\n",
      "Epoch 33/50\n",
      "60000/60000 [==============================] - 8s 131us/step - loss: 0.0888 - val_loss: 0.0882\n",
      "Epoch 34/50\n",
      "60000/60000 [==============================] - 8s 127us/step - loss: 0.0886 - val_loss: 0.0879\n",
      "Epoch 35/50\n",
      "60000/60000 [==============================] - 8s 127us/step - loss: 0.0883 - val_loss: 0.0874\n",
      "Epoch 36/50\n",
      "60000/60000 [==============================] - 8s 126us/step - loss: 0.0881 - val_loss: 0.0880\n",
      "Epoch 37/50\n",
      "60000/60000 [==============================] - 7s 125us/step - loss: 0.0879 - val_loss: 0.0876\n",
      "Epoch 38/50\n",
      "60000/60000 [==============================] - 8s 129us/step - loss: 0.0876 - val_loss: 0.0869\n",
      "Epoch 39/50\n",
      "60000/60000 [==============================] - 8s 126us/step - loss: 0.0874 - val_loss: 0.0868\n",
      "Epoch 40/50\n",
      "60000/60000 [==============================] - 8s 128us/step - loss: 0.0872 - val_loss: 0.0866\n",
      "Epoch 41/50\n",
      "60000/60000 [==============================] - 8s 128us/step - loss: 0.0871 - val_loss: 0.0867\n",
      "Epoch 42/50\n",
      "60000/60000 [==============================] - 8s 129us/step - loss: 0.0869 - val_loss: 0.0865\n",
      "Epoch 43/50\n",
      "60000/60000 [==============================] - 8s 130us/step - loss: 0.0867 - val_loss: 0.0862\n",
      "Epoch 44/50\n",
      "60000/60000 [==============================] - 8s 130us/step - loss: 0.0866 - val_loss: 0.0862\n",
      "Epoch 45/50\n",
      "60000/60000 [==============================] - 8s 131us/step - loss: 0.0864 - val_loss: 0.0860\n",
      "Epoch 46/50\n",
      "60000/60000 [==============================] - 8s 134us/step - loss: 0.0863 - val_loss: 0.0857\n",
      "Epoch 47/50\n",
      "60000/60000 [==============================] - 9s 152us/step - loss: 0.0861 - val_loss: 0.0856\n",
      "Epoch 48/50\n",
      "60000/60000 [==============================] - 9s 143us/step - loss: 0.0861 - val_loss: 0.0854\n",
      "Epoch 49/50\n",
      "60000/60000 [==============================] - 9s 142us/step - loss: 0.0859 - val_loss: 0.0856\n",
      "Epoch 50/50\n",
      "60000/60000 [==============================] - 9s 150us/step - loss: 0.0858 - val_loss: 0.0852\n"
     ]
    },
    {
     "data": {
      "text/plain": [
       "<keras.callbacks.History at 0x24000010a20>"
      ]
     },
     "execution_count": 12,
     "metadata": {},
     "output_type": "execute_result"
    }
   ],
   "source": [
    "autoencoder.compile(optimizer='adam',loss='binary_crossentropy')\n",
    "autoencoder.fit(X_train,X_train,epochs=50,batch_size=256,shuffle=True,validation_data=(X_test,X_test))"
   ]
  },
  {
   "cell_type": "code",
   "execution_count": null,
   "metadata": {},
   "outputs": [],
   "source": []
  }
 ],
 "metadata": {
  "kernelspec": {
   "display_name": "tf",
   "language": "python",
   "name": "tf"
  },
  "language_info": {
   "codemirror_mode": {
    "name": "ipython",
    "version": 3
   },
   "file_extension": ".py",
   "mimetype": "text/x-python",
   "name": "python",
   "nbconvert_exporter": "python",
   "pygments_lexer": "ipython3",
   "version": "3.6.6"
  }
 },
 "nbformat": 4,
 "nbformat_minor": 2
}
