{
 "cells": [
  {
   "cell_type": "code",
   "execution_count": 1,
   "metadata": {},
   "outputs": [
    {
     "name": "stderr",
     "output_type": "stream",
     "text": [
      "Using TensorFlow backend.\n"
     ]
    }
   ],
   "source": [
    "import keras\n",
    "from keras import backend as K\n",
    "from keras.models import Sequential\n",
    "from keras.layers import Activation\n",
    "from keras.layers.core import Dense\n",
    "from keras.optimizers import Adam\n",
    "from keras.metrics import categorical_crossentropy\n",
    "\n",
    "import numpy as np\n",
    "import pandas as pn\n",
    "from sklearn.model_selection import train_test_split"
   ]
  },
  {
   "cell_type": "code",
   "execution_count": null,
   "metadata": {
    "scrolled": true
   },
   "outputs": [],
   "source": []
  },
  {
   "cell_type": "code",
   "execution_count": 2,
   "metadata": {},
   "outputs": [],
   "source": [
    "dataset_name=[\"iris.csv\",\"hayes-roth.csv\"]#,\"wine.csv\",\"glass.csv\",\"haberman.csv\"]\n",
    "path =\"E:/Subject/Capston/Farid Sir/Dataset/All Dataset/\"\n",
    "data=pn.read_csv(path+dataset_name[0],header=None)\n",
    "data=np.asarray(data)\n",
    "data = np.delete(data, (0), axis=0)\n",
    "X=data[:,:data.shape[1]-1]\n",
    "X = X.astype(np.float)\n",
    "y=data[:,-1:]\n",
    "X_train, X_test, y_train, y_test = train_test_split(X, y, test_size=0.33,random_state=40)\n",
    "X_train=X_train[:,1]\n",
    "\n",
    "#a = pd.factorize(z)[0].tolist()\n",
    "#X_train=np.transpose(X_train)\n",
    "y_train = np.unique(y_train, return_inverse=True)[1].tolist()\n",
    "X=X[:,1]\n",
    "y=np.unique(y, return_inverse=True)[1].tolist()"
   ]
  },
  {
   "cell_type": "code",
   "execution_count": 3,
   "metadata": {
    "scrolled": true
   },
   "outputs": [
    {
     "name": "stdout",
     "output_type": "stream",
     "text": [
      "_________________________________________________________________\n",
      "Layer (type)                 Output Shape              Param #   \n",
      "=================================================================\n",
      "dense_1 (Dense)              (None, 16)                32        \n",
      "_________________________________________________________________\n",
      "dense_2 (Dense)              (None, 32)                544       \n",
      "_________________________________________________________________\n",
      "dense_3 (Dense)              (None, 3)                 99        \n",
      "=================================================================\n",
      "Total params: 675\n",
      "Trainable params: 675\n",
      "Non-trainable params: 0\n",
      "_________________________________________________________________\n"
     ]
    }
   ],
   "source": [
    "model = Sequential([\n",
    "    Dense(16,input_shape=(1,),activation='relu'),\n",
    "    Dense(32,activation='relu'),\n",
    "    Dense(3,activation='softmax')\n",
    "])\n",
    "model.summary()"
   ]
  },
  {
   "cell_type": "code",
   "execution_count": 4,
   "metadata": {},
   "outputs": [],
   "source": [
    "model.compile(Adam(lr=.01),loss='sparse_categorical_crossentropy',metrics=['accuracy'])"
   ]
  },
  {
   "cell_type": "code",
   "execution_count": 102,
   "metadata": {},
   "outputs": [
    {
     "name": "stdout",
     "output_type": "stream",
     "text": [
      "Epoch 1/20\n",
      "150/150 [==============================] - 0s 220us/step - loss: 1.0989 - acc: 0.2800\n",
      "Epoch 2/20\n",
      "150/150 [==============================] - 0s 300us/step - loss: 1.1000 - acc: 0.2733\n",
      "Epoch 3/20\n",
      "150/150 [==============================] - 0s 373us/step - loss: 1.0990 - acc: 0.3067\n",
      "Epoch 4/20\n",
      "150/150 [==============================] - 0s 300us/step - loss: 1.0989 - acc: 0.3333\n",
      "Epoch 5/20\n",
      "150/150 [==============================] - 0s 326us/step - loss: 1.1010 - acc: 0.2200\n",
      "Epoch 6/20\n",
      "150/150 [==============================] - 0s 340us/step - loss: 1.1009 - acc: 0.2200\n",
      "Epoch 7/20\n",
      "150/150 [==============================] - 0s 313us/step - loss: 1.0994 - acc: 0.3333\n",
      "Epoch 8/20\n",
      "150/150 [==============================] - 0s 373us/step - loss: 1.0994 - acc: 0.3067\n",
      "Epoch 9/20\n",
      "150/150 [==============================] - 0s 333us/step - loss: 1.0993 - acc: 0.2333\n",
      "Epoch 10/20\n",
      "150/150 [==============================] - 0s 313us/step - loss: 1.0996 - acc: 0.2867\n",
      "Epoch 11/20\n",
      "150/150 [==============================] - 0s 333us/step - loss: 1.0998 - acc: 0.3000\n",
      "Epoch 12/20\n",
      "150/150 [==============================] - 0s 306us/step - loss: 1.0992 - acc: 0.2800\n",
      "Epoch 13/20\n",
      "150/150 [==============================] - 0s 340us/step - loss: 1.0988 - acc: 0.3067\n",
      "Epoch 14/20\n",
      "150/150 [==============================] - 0s 380us/step - loss: 1.0993 - acc: 0.3067\n",
      "Epoch 15/20\n",
      "150/150 [==============================] - 0s 247us/step - loss: 1.0987 - acc: 0.3000\n",
      "Epoch 16/20\n",
      "150/150 [==============================] - 0s 306us/step - loss: 1.0988 - acc: 0.3067\n",
      "Epoch 17/20\n",
      "150/150 [==============================] - 0s 293us/step - loss: 1.0992 - acc: 0.3133\n",
      "Epoch 18/20\n",
      "150/150 [==============================] - 0s 280us/step - loss: 1.0990 - acc: 0.2933\n",
      "Epoch 19/20\n",
      "150/150 [==============================] - 0s 353us/step - loss: 1.0988 - acc: 0.3333\n",
      "Epoch 20/20\n",
      "150/150 [==============================] - 0s 293us/step - loss: 1.0989 - acc: 0.3333\n"
     ]
    },
    {
     "data": {
      "text/plain": [
       "<keras.callbacks.History at 0x1ea3e507470>"
      ]
     },
     "execution_count": 102,
     "metadata": {},
     "output_type": "execute_result"
    }
   ],
   "source": [
    "model.fit(X,y,batch_size=15,epochs=20)"
   ]
  },
  {
   "cell_type": "code",
   "execution_count": null,
   "metadata": {},
   "outputs": [],
   "source": []
  }
 ],
 "metadata": {
  "kernelspec": {
   "display_name": "tf",
   "language": "python",
   "name": "tf"
  },
  "language_info": {
   "codemirror_mode": {
    "name": "ipython",
    "version": 3
   },
   "file_extension": ".py",
   "mimetype": "text/x-python",
   "name": "python",
   "nbconvert_exporter": "python",
   "pygments_lexer": "ipython3",
   "version": "3.6.6"
  }
 },
 "nbformat": 4,
 "nbformat_minor": 2
}
